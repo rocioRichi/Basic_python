{
 "cells": [
  {
   "cell_type": "markdown",
   "metadata": {},
   "source": [
    "N6.  Optimización de código y *profiling*\n",
    "-----------------------------------------------------\n",
    "\n",
    "En este notebook veremos cómo podemos analizar nuestro código, tanto desde el punto de vista algorítmico como de implementación, con el objetivo de optimizarlo para hacerlo más eficiente. Esto nos permitirá diseñar e implementar código que sea capaz de trabajar con grandes conjuntos de datos.\n",
    "\n",
    "\n",
    "<ul style=\"list-style-type:none\">\n",
    "    <li><a href='#1.-Algoritmos'>1. Algoritmos</a></li>\n",
    "       <li><a href='#2.-Implementaciones'>2. Implementaciones</a></li>      \n",
    "       <li><a href=\"#3.-Profiling\">3. Profiling </a></li>\n",
    "       <li><a href=\"#4.-Ejercicios-para-practicar\">4. Ejercicios </a></li>\n",
    "    \n",
    "</ul>\n",
    "    <ul style=\"list-style-type:none\">\n",
    "</ul>\n"
   ]
  },
  {
   "cell_type": "code",
   "execution_count": 1,
   "metadata": {},
   "outputs": [],
   "source": [
    "%load_ext pycodestyle_magic"
   ]
  },
  {
   "cell_type": "code",
   "execution_count": 2,
   "metadata": {},
   "outputs": [],
   "source": [
    "%pycodestyle_on"
   ]
  },
  {
   "cell_type": "markdown",
   "metadata": {},
   "source": [
    "# 1. Algoritmos\n",
    "\n",
    "La creación de soluciones a un problema consta, en el fondo, de dos pasos diferenciados:\n",
    "\n",
    "1. Diseñar una posible solución al problema, es decir, decidir qué conjunto de pasos y en qué orden hay que hacerlos para solucionar el problema planteado. (i.e para calcular la media tengo que sumar todos los valores de un dataset y luego dividirlo entre el número de valores).\n",
    "\n",
    "2. Implementar este conjunto de pasos en Python, para poderlos ejecutar y proveer de una solución a una instancia concreta del problema planteado.\n",
    "\n",
    "Para resolver un mismo problema puede haber varios algortimos, y puede tener varias implementaciones en Python (o en otros lenguajes). \n",
    "\n",
    "Por ejemplo aquí tenemos dos algoritmos con sus respectivas implementaciones del cálculo del máximo:\n"
   ]
  },
  {
   "cell_type": "code",
   "execution_count": 2,
   "metadata": {},
   "outputs": [],
   "source": [
    "def max_alg_1(lst):\n",
    "    \"\"\"\n",
    "    Return the maximum element on the list lst\n",
    "    \"\"\"\n",
    "    max_element = lst[0]\n",
    "    for e in lst:\n",
    "        if e > max_element:\n",
    "            max_element = e\n",
    "\n",
    "    return max_element\n",
    "\n",
    "\n",
    "def max_alg_2(lst):\n",
    "    \"\"\"\n",
    "    Return the maximum element on the list lst\n",
    "    \"\"\"\n",
    "    current_lst, max_pairs = lst, []\n",
    "    while(len(current_lst) > 1):\n",
    "        for i in range(0, len(current_lst), 2):\n",
    "            if len(current_lst) - 1 == i:\n",
    "                max_pairs.append(current_lst[i])\n",
    "            elif current_lst[i] > current_lst[i+1]:\n",
    "                max_pairs.append(current_lst[i])\n",
    "            else:\n",
    "                max_pairs.append(current_lst[i+1])\n",
    "\n",
    "        current_lst, max_pairs = max_pairs, []\n",
    "\n",
    "    return current_lst[0]"
   ]
  },
  {
   "cell_type": "code",
   "execution_count": 28,
   "metadata": {},
   "outputs": [
    {
     "name": "stdout",
     "output_type": "stream",
     "text": [
      "6\n",
      "6\n"
     ]
    }
   ],
   "source": [
    "lista = [3, 2, 5, 6, -2, 4]\n",
    "print(max_alg_1(lista))\n",
    "print(max_alg_2(lista))"
   ]
  },
  {
   "cell_type": "markdown",
   "metadata": {},
   "source": [
    "El primer algoritmo inicializa el valor máximo (`max_element`) al primer elemento de la lista y, después, recorre la lista una única vez, comprobando para cada elemento de la lista si este es mayor que el valor máximo encontrado hasta entonces. En caso de que lo sea, se actualiza el valor máximo, que pasa a tomar el valor del elemento procesado.\n",
    "\n",
    "El segundo algoritmo es algo más complicado, crea una nueva lista (`max_pairs`) con los valores máximos de cada par de elementos de la lista de entrada, por lo que esta nueva lista tendrá la mitad de los elementos que la primera. El algoritmo sigue haciendo este procedimiento, hasta que la nueva lista tiene un único elemento, que corresponde con el máximo.\n",
    "\n",
    "Una manera de evaluar si un algoritmo es más eficiente que otro es mirando la **complejidad algorítmica**, esto queda un poco lejos, pero basicamente lo que nos interesará coger siempre es el algoritmo que haga menos pasos. "
   ]
  },
  {
   "cell_type": "markdown",
   "metadata": {},
   "source": [
    "Crietrios para coger el algoritmo:\n",
    "   - Más eficiente (más rápido)\n",
    "   - Más fácil de programar\n",
    "   - Más corto\n",
    "   - Utilizando funciones ya implementados (built-in, librerías,...)"
   ]
  },
  {
   "cell_type": "code",
   "execution_count": 8,
   "metadata": {},
   "outputs": [
    {
     "data": {
      "text/plain": [
       "6"
      ]
     },
     "execution_count": 8,
     "metadata": {},
     "output_type": "execute_result"
    }
   ],
   "source": [
    "max(lista)"
   ]
  },
  {
   "cell_type": "markdown",
   "metadata": {},
   "source": [
    "El algoritmo es **correcto** si este obtiene siempre la salida correcta (sea eficiente o no). \n"
   ]
  },
  {
   "cell_type": "markdown",
   "metadata": {},
   "source": [
    "## 1.1. Análisis de algoritmos\n",
    "\n",
    "Para poder comparar dos algoritmos nos podemos hacer una idea de cuantos pasos o ordenes tiene que ejecutar:\n",
    "\n",
    "Aunque en realidad hay pasos más costos que otros, simplificamos que todos cuesten igual, entonces para el algoritmo implementado en la función `max_alg_1` serían:\n",
    "\n",
    "* Asignación del máximo inicial.\n",
    "* Para cada elemento par de la lista:\n",
    "  * Recuerar elemento par\n",
    "  * Comparar si el elemento es mayor al máximo.\n",
    "  * Si lo es, asignarlo al máximo (`max_element`).\n",
    "\n",
    "    \n",
    "Por lo tanto, para una lista de 6 elementos, el tiempo de ejecución sería proporcional a:\n",
    "$$ t_e ~ 1 + 3 * 6 ~ 19 $$    --> $$t_e \\mapsto 3n$$\n",
    "es decir, la asignación inicial, repetir seis veces la recuperación del elemento y la comparación (la asignación dependerá de donde sea la lista inicial y cuantas veces tenga que actualizar, hemos imaginado el pero de los casos... i.e. [1, 2, 3, 4, 5, 6]\n",
    "\n",
    "\n"
   ]
  },
  {
   "cell_type": "markdown",
   "metadata": {},
   "source": [
    "Para `max_alg_2` habría más pasos:\n",
    "\n",
    "* Asignación del máximo inicial.\n",
    "* Mientras la lista 2 tenga más de un elemento:\n",
    "    * Para cada elemento de la lista 1:\n",
    "      * Recuerar elemento\n",
    "      * Comprobaciónes lognitud.\n",
    "      * Añadir elemento a la lista\n",
    "    * cambio de nombres listas\n",
    "\n",
    "    \n",
    "Por lo tanto, para una lista de 6 elementos, el tiempo de ejecución sería proporcional a:\n",
    "$$ t_e \\mapsto log(n)*n $$"
   ]
  },
  {
   "cell_type": "code",
   "execution_count": 4,
   "metadata": {},
   "outputs": [],
   "source": [
    "%matplotlib inline"
   ]
  },
  {
   "cell_type": "code",
   "execution_count": 17,
   "metadata": {},
   "outputs": [
    {
     "data": {
      "image/png": "[encoded data removed]",
      "text/plain": [
       "<Figure size 640x480 with 1 Axes>"
      ]
     },
     "metadata": {},
     "output_type": "display_data"
    }
   ],
   "source": [
    "import matplotlib.pyplot as plt\n",
    "import matplotlib.colors as mcolors\n",
    "import numpy as np\n",
    "\n",
    "def plot_funs(xs):\n",
    "    \"\"\"\n",
    "    Plot a set of predefined functions for the x values in 'xs'.\n",
    "    \"\"\"\n",
    "    ys1 = [x for x in xs]\n",
    "    ys2 = [np.log(x)*x for x in xs]\n",
    "   \n",
    "\n",
    "    fig = plt.figure()\n",
    "    plt.plot(xs, ys1, '-', color='tab:blue')\n",
    "    plt.plot(xs, ys2, '-', color='tab:orange')\n",
    "\n",
    "\n",
    "    plt.legend([r\"max_alg_1\", \"max_alg_2\"])\n",
    "\n",
    "    plt.xlabel('$n$')\n",
    "    plt.ylabel('$f(n)$')\n",
    "    plt.title('Function growth')\n",
    "    plt.show()\n",
    "\n",
    "\n",
    "plot_funs(range(1,20))"
   ]
  },
  {
   "cell_type": "markdown",
   "metadata": {},
   "source": [
    "Tener una idea de como crece el algoritmo es **muy importante sobre todo para cuando trabajemos con sets de datos grandes**. Es buena práctica tener una idea de la **complejidad algorítmica** del algortimo que queremos implementar. \n",
    "\n"
   ]
  },
  {
   "cell_type": "markdown",
   "metadata": {},
   "source": [
    "# 2. Implementaciones\n",
    "A parte del algoritmo, también podemos implementar un algoritmo de manera más o menos eficiente. \n",
    "\n",
    "Las implementaciones de un mismo algoritmo pueden ser:\n",
    "-  Más eficientes\n",
    "-  Más elegantes\n",
    "-  Más comprensibles\n",
    "\n",
    "Como ejemplo vemos distintas implementaciones del algortimo usado en `max_alg_2`:"
   ]
  },
  {
   "cell_type": "code",
   "execution_count": 72,
   "metadata": {},
   "outputs": [],
   "source": [
    "# original\n",
    "def max_alg_2(lst):\n",
    "    \"\"\"\n",
    "    Return the maximum element on the list lst\n",
    "    \"\"\"\n",
    "    current_lst, max_pairs = lst, []\n",
    "    while(len(current_lst) > 1):\n",
    "        for i in range(0, len(current_lst), 2):\n",
    "            if len(current_lst) - 1 == i:\n",
    "                max_pairs.append(current_lst[i])\n",
    "            elif current_lst[i] > current_lst[i+1]:\n",
    "                max_pairs.append(current_lst[i])\n",
    "            else:\n",
    "                max_pairs.append(current_lst[i+1])\n",
    "\n",
    "        current_lst, max_pairs = max_pairs, []\n",
    "\n",
    "    return current_lst[0]\n"
   ]
  },
  {
   "cell_type": "markdown",
   "metadata": {},
   "source": [
    "Probamos un caso donde reducimos unas líneas. El `elif` se puede evitar usando la built-in funcion max. Usar built-in functions es buena idea porque simplifican el código y suelen estar muy optimizadas en términos de memoria y de tiempo de ejecución. "
   ]
  },
  {
   "cell_type": "code",
   "execution_count": 73,
   "metadata": {},
   "outputs": [],
   "source": [
    "def max_alg_2b(lst):\n",
    "    \"\"\"\n",
    "    Return the maximum element in the list lst\n",
    "    \"\"\"\n",
    "    while len(lst) > 1:\n",
    "        new_lst = []\n",
    "        for i in range(0, len(lst), 2):\n",
    "            if i + 1 < len(lst):\n",
    "                new_lst.append(max(lst[i], lst[i+1]))  # cambio importante\n",
    "            else:\n",
    "                new_lst.append(lst[i])\n",
    "        lst = new_lst\n",
    "    return lst[0]"
   ]
  },
  {
   "cell_type": "code",
   "execution_count": 74,
   "metadata": {},
   "outputs": [
    {
     "data": {
      "text/plain": [
       "6"
      ]
     },
     "execution_count": 74,
     "metadata": {},
     "output_type": "execute_result"
    }
   ],
   "source": [
    "max_alg_2b(lista)"
   ]
  },
  {
   "cell_type": "markdown",
   "metadata": {},
   "source": [
    "Hemos ganado en compactar, usado built-in functions, podríamos usar list comprehensions además:"
   ]
  },
  {
   "cell_type": "code",
   "execution_count": 75,
   "metadata": {},
   "outputs": [],
   "source": [
    "def max_alg_2c(lst):\n",
    "    \"\"\"\n",
    "    Return the maximum element in the list lst\n",
    "    \"\"\"\n",
    "    while len(lst) > 1:\n",
    "        lst = [max(lst[i], lst[i+1]) if i+1 < len(lst) else lst[i] for i in range(0, len(lst), 2)]\n",
    "    return lst[0] if lst else None"
   ]
  },
  {
   "cell_type": "code",
   "execution_count": 76,
   "metadata": {},
   "outputs": [
    {
     "data": {
      "text/plain": [
       "6"
      ]
     },
     "execution_count": 76,
     "metadata": {},
     "output_type": "execute_result"
    }
   ],
   "source": [
    "max_alg_2c(lista)"
   ]
  },
  {
   "cell_type": "markdown",
   "metadata": {},
   "source": [
    "La hemos compactado, pero a veces las list comprehensions son más dificiles de leer, escoger la implementación a veces también va a gustos. \n",
    "\n"
   ]
  },
  {
   "cell_type": "markdown",
   "metadata": {},
   "source": [
    "## 2.1 Eficiencia de las implementaciones\n",
    "Una manera muy sencilla de ver como de rápido es de ejecutar un trozo de código es mirando el tiempo de ejecución. Para eso podemos usar el módulo `time`. "
   ]
  },
  {
   "cell_type": "code",
   "execution_count": 77,
   "metadata": {},
   "outputs": [
    {
     "data": {
      "text/plain": [
       "1687642224.88882"
      ]
     },
     "execution_count": 77,
     "metadata": {},
     "output_type": "execute_result"
    }
   ],
   "source": [
    "import time\n",
    "time.time()\n"
   ]
  },
  {
   "cell_type": "code",
   "execution_count": 78,
   "metadata": {},
   "outputs": [
    {
     "name": "stdout",
     "output_type": "stream",
     "text": [
      "Help on built-in function time in module time:\n",
      "\n",
      "time(...)\n",
      "    time() -> floating point number\n",
      "    \n",
      "    Return the current time in seconds since the Epoch.\n",
      "    Fractions of a second may be present if the system clock provides them.\n",
      "\n"
     ]
    }
   ],
   "source": [
    "help(time.time)"
   ]
  },
  {
   "cell_type": "code",
   "execution_count": 79,
   "metadata": {},
   "outputs": [
    {
     "name": "stdout",
     "output_type": "stream",
     "text": [
      "206.16564106941223\n"
     ]
    }
   ],
   "source": [
    "### t1 = time.time()\n",
    "# código\n",
    "# ....\n",
    "# .....\n",
    "t2 = time.time()\n",
    "print(t2-t1)"
   ]
  },
  {
   "cell_type": "markdown",
   "metadata": {},
   "source": [
    "Vamos a probarlo con las distintas implementaciones de antes "
   ]
  },
  {
   "cell_type": "code",
   "execution_count": 83,
   "metadata": {},
   "outputs": [
    {
     "data": {
      "image/png": "[encoded data removed]",
      "text/plain": [
       "<Figure size 640x480 with 1 Axes>"
      ]
     },
     "metadata": {},
     "output_type": "display_data"
    }
   ],
   "source": [
    "import time \n",
    "import numpy\n",
    "\n",
    "xs = [10, 100, 1000, 10000, 100000, 1000000, 10000000]\n",
    "y1, y2, y3 = [], [], []\n",
    "for x in xs:\n",
    "\n",
    "    lista = np.random.uniform(low = 0.0, high = x, size = x)  # generamos lista de tamaño x\n",
    "    start_time = time.time()\n",
    "    l = max_alg_2(lista)\n",
    "    y1.append(time.time() - start_time) # vamos guardando los tiempor\n",
    "    \n",
    "    start_time = time.time()\n",
    "    l = max_alg_2b(lista)\n",
    "    y2.append(time.time() - start_time) # vamos guardando los tiempor\n",
    "    \n",
    "    start_time = time.time()\n",
    "    l = max_alg_2c(lista)\n",
    "    y3.append(time.time() - start_time) # vamos guardando los tiempor\n",
    "    \n",
    "\n",
    "plt.figure()\n",
    "plt.plot(xs, y1, xs, y2, xs, y3)\n",
    "plt.legend([\"max_alg_2\", \"max_alg_2b\", \"max_alg_2c\"])\n",
    "plt.xlabel('$n$')\n",
    "plt.ylabel('$t(n)$')\n",
    "plt.title(\"Execution time of max algorithms\")\n",
    "plt.show()"
   ]
  },
  {
   "cell_type": "markdown",
   "metadata": {},
   "source": [
    "# 3. Profiling\n",
    "Lo que acabamos de hacer es una manera muy rudimentaria de hacer *profiling* que sería el análisis del rendimiento del código. En notebooks podemos usar la instrucción mágica `%time`, que nos muestra el tiempo total de una línea de código. En particular nos devuelve:\n",
    "\n",
    "* Tiempo de reloj de pared (`Wall time`): es el tiempo total desde el inicio de la ejecución de la función hasta el final de la ejecución de la misma, tal como lo mediría un reloj de pared o un cronómetro externo.\n",
    "* Tiempo de CPU: tiempo de procesamiento de la función, es la cantidad de tiempo que la CPU ha utilizado para procesar las instrucciones de la función. Este tiempo se encuentra dividido en tiempo de usuario (`user`) y de sistema (`sys`), dependiendo de si se están ejecutando instrucciones en modo de usuario o de kernel.\n"
   ]
  },
  {
   "cell_type": "code",
   "execution_count": 86,
   "metadata": {},
   "outputs": [
    {
     "data": {
      "text/plain": [
       "array([45, 93, 43, 93, 17, 75, 34,  1, 74, 58])"
      ]
     },
     "execution_count": 86,
     "metadata": {},
     "output_type": "execute_result"
    }
   ],
   "source": [
    "lista = np.random.randint(low=0, high=100,size=10)\n",
    "lista"
   ]
  },
  {
   "cell_type": "code",
   "execution_count": 87,
   "metadata": {},
   "outputs": [
    {
     "name": "stdout",
     "output_type": "stream",
     "text": [
      "CPU times: user 373 µs, sys: 1 µs, total: 374 µs\n",
      "Wall time: 378 µs\n"
     ]
    },
    {
     "data": {
      "text/plain": [
       "99"
      ]
     },
     "execution_count": 87,
     "metadata": {},
     "output_type": "execute_result"
    }
   ],
   "source": [
    "lista = np.random.randint(low=0, high=100,size=1000)\n",
    "\n",
    "\n",
    "%time max_alg_2(lista)"
   ]
  },
  {
   "cell_type": "code",
   "execution_count": 88,
   "metadata": {},
   "outputs": [
    {
     "name": "stdout",
     "output_type": "stream",
     "text": [
      "CPU times: user 63 µs, sys: 0 ns, total: 63 µs\n",
      "Wall time: 67 µs\n"
     ]
    },
    {
     "data": {
      "text/plain": [
       "99"
      ]
     },
     "execution_count": 88,
     "metadata": {},
     "output_type": "execute_result"
    }
   ],
   "source": [
    "%time max_alg_1(lista)"
   ]
  },
  {
   "cell_type": "markdown",
   "metadata": {},
   "source": [
    "Tened en cuenta que `%time` puede utilizarse para evaluar el tiempo de ejecución de una única línea de código, que puede ser una llamada a una función, una evaluación de una expresión, etc.\n"
   ]
  },
  {
   "cell_type": "markdown",
   "metadata": {},
   "source": [
    "### 3.1. La instrucción mágica `%timeit`\n"
   ]
  },
  {
   "cell_type": "markdown",
   "metadata": {},
   "source": [
    "La instrucción mágica `%time` ejecuta la instrucción a medir una única vez y devuelve su tiempo de ejecución. En cambio, la variante `%timeit` ejecuta la instrucción múltiples veces, y muestra el tiempo de ejecución medio de las diversas ejecuciones y la desviación típica.\n"
   ]
  },
  {
   "cell_type": "code",
   "execution_count": 89,
   "metadata": {},
   "outputs": [
    {
     "name": "stdout",
     "output_type": "stream",
     "text": [
      "222 µs ± 13.8 µs per loop (mean ± std. dev. of 7 runs, 1,000 loops each)\n"
     ]
    }
   ],
   "source": [
    "%timeit max_alg_2(lista)"
   ]
  },
  {
   "cell_type": "code",
   "execution_count": 90,
   "metadata": {},
   "outputs": [
    {
     "name": "stdout",
     "output_type": "stream",
     "text": [
      "44.7 µs ± 1.47 µs per loop (mean ± std. dev. of 7 runs, 10,000 loops each)\n"
     ]
    }
   ],
   "source": [
    "%timeit max_alg_1(lista)"
   ]
  },
  {
   "cell_type": "markdown",
   "metadata": {},
   "source": [
    "En general es más fiable porque hace un promedio y evita sesgos de momentos concretos. En general los tiempos obtenidos con `%timeit` son inferiores a los que se obtienen con `%time`. Esto se debe a que `%timeit` intenta minimizar las interferencias mientras se está haciendo la medida, con el fin de ofrecer únicamente el tiempo de ejecución de la instrucción en sí.\n",
    "\n",
    "El número de iteraciones lo ajusta el propio algoritmo de timeit pero se puede indicar. "
   ]
  },
  {
   "cell_type": "code",
   "execution_count": 28,
   "metadata": {},
   "outputs": [
    {
     "name": "stdout",
     "output_type": "stream",
     "text": [
      "536 ns ± 152 ns per loop (mean ± std. dev. of 7 runs, 10 loops each)\n"
     ]
    }
   ],
   "source": [
    "# Ejecución de timeit indicando 10 ejecuciones\n",
    "%timeit -n 10 max_alg_2(15, 16)"
   ]
  },
  {
   "cell_type": "markdown",
   "metadata": {},
   "source": [
    "Tanto `time` como `timeit` pueden utilizarse también para instrumentar fragmentos de código de más de una línea. En este caso, en vez de anteponer un único símbolo de porcentaje a la instrucción, escribiremos dos:\n"
   ]
  },
  {
   "cell_type": "code",
   "execution_count": 91,
   "metadata": {},
   "outputs": [
    {
     "name": "stdout",
     "output_type": "stream",
     "text": [
      "Hemos encontrado que los maximos son 99 y 99 con algoritmos distintos\n",
      "CPU times: user 412 µs, sys: 64 µs, total: 476 µs\n",
      "Wall time: 438 µs\n"
     ]
    }
   ],
   "source": [
    "%%time\n",
    "\n",
    "a = max_alg_1(lista)\n",
    "b = max_alg_2(lista)\n",
    "\n",
    "print(f'Hemos encontrado que los maximos son {a} y {b} con algoritmos distintos')"
   ]
  },
  {
   "cell_type": "markdown",
   "metadata": {},
   "source": [
    "### 3.2. La instrucción mágica `%lprun`\n"
   ]
  },
  {
   "cell_type": "markdown",
   "metadata": {},
   "source": [
    "A menudo no estaremos interesados en saber cuánto tarda en ejecutarse una línea o una celda de código en su globalidad, sino que querremos saber cuánto tarda en ejecutarse cada línea de una función y, sobre todo, queremos identificar qué línea o líneas de la función son las que están consumiendo más tiempo de ejecución. En este caso, podemos utilizar `%lprun`, que devuelve un análisis línea a línea de la ejecución de una función.\n",
    "\n",
    "A diferencia de las instrucciones mágicas anteriores, para usar `%lprun` habrá que cargar primero la extensión `line_profiler`. Después, podremos utilizar `%lprun` como hemos estado haciendo hasta ahora con `%time` y `%timeit`:\n"
   ]
  },
  {
   "cell_type": "code",
   "execution_count": 93,
   "metadata": {},
   "outputs": [
    {
     "name": "stdout",
     "output_type": "stream",
     "text": [
      "Collecting line-profiler\n",
      "  Downloading line_profiler-4.0.3-cp311-cp311-macosx_10_9_x86_64.whl (96 kB)\n",
      "\u001b[2K     \u001b[90m━━━━━━━━━━━━━━━━━━━━━━━━━━━━━━━━━━━━━━━━\u001b[0m \u001b[32m96.4/96.4 kB\u001b[0m \u001b[31m2.5 MB/s\u001b[0m eta \u001b[36m0:00:00\u001b[0m\n",
      "\u001b[?25hInstalling collected packages: line-profiler\n",
      "Successfully installed line-profiler-4.0.3\n",
      "\n",
      "\u001b[1m[\u001b[0m\u001b[34;49mnotice\u001b[0m\u001b[1;39;49m]\u001b[0m\u001b[39;49m A new release of pip is available: \u001b[0m\u001b[31;49m23.0\u001b[0m\u001b[39;49m -> \u001b[0m\u001b[32;49m23.1.2\u001b[0m\n",
      "\u001b[1m[\u001b[0m\u001b[34;49mnotice\u001b[0m\u001b[1;39;49m]\u001b[0m\u001b[39;49m To update, run: \u001b[0m\u001b[32;49mpip install --upgrade pip\u001b[0m\n"
     ]
    }
   ],
   "source": [
    "!pip install line-profiler"
   ]
  },
  {
   "cell_type": "code",
   "execution_count": 94,
   "metadata": {},
   "outputs": [],
   "source": [
    "%load_ext line_profiler"
   ]
  },
  {
   "cell_type": "code",
   "execution_count": 98,
   "metadata": {},
   "outputs": [],
   "source": [
    "%lprun -f max_alg_1 max_alg_1(lista)"
   ]
  },
  {
   "cell_type": "markdown",
   "metadata": {},
   "source": [
    "El resultado de ejecutar `lprun` se visualiza en una ventana en la parte inferior del *notebook*, y consta de una tabla con los tiempos de ejecución por línea. En concreto, en la tabla se presenta el número de línea del código ( `Line #`); el número de veces que se ha ejecutado esa misma línea (`Hits`); el tiempo total que el programa ha dedicado a ejecutar aquella línea (`Time`) utilizando como unidad de tiempo la que se indica en la parte superior de la ventana (`Timer unit`), que en este caso son microsegundos; la media del tiempo dedicado a cada línea (`Per Hit`), que corresponde al tiempo total dedicado a aquella línea dividido entre el número de veces que se ha ejecutado la línea; el porcentaje de tiempo relativo al total de la función que se ha dedicado a ejecutar aquella línea (`%Time`); y, finalmente, el código fuente de la línea analizada (`Line Contents`). Adicionalmente, también se muestra el tiempo total de ejecución de toda la función (`Total time`).\n",
    "\n",
    "Si nos fijamos en el resultado de la ejecución de la celda anterior, veremos que cada línea se ha ejecutado una única vez, por lo que el tiempo total (`Time`) y la media (`Per Hit`) para cada línea son exactamente los mismos. A continuación ejecutamos `lprun` para la función `max_alg_1`, que buscaba el valor máximo de una lista iterando por cada uno de los elementos:\n"
   ]
  },
  {
   "cell_type": "markdown",
   "metadata": {},
   "source": [
    "### 3.2.1 Ejemplo\n",
    "\n",
    "Hemos hecho una implementación para obtener los números impares de una lista:"
   ]
  },
  {
   "cell_type": "code",
   "execution_count": 106,
   "metadata": {},
   "outputs": [],
   "source": [
    "def give_me_odd(array):\n",
    "    \"\"\"Returns the odd elements in the array.\n",
    "\n",
    "    Parameters:\n",
    "        array (list): input array for searching odd elements.\n",
    "\n",
    "    Returns:\n",
    "        (list): list of odd elements.\n",
    "    \"\"\"\n",
    "\n",
    "    indexes = []\n",
    "    result = []\n",
    "\n",
    "    i = 0\n",
    "\n",
    "    while i < len(array):\n",
    "        if array[i] % 2 != 0 and len(indexes) <= len(array):\n",
    "            indexes.append(i)\n",
    "        i = i + 1\n",
    "\n",
    "    j = 0\n",
    "\n",
    "    while j < len(indexes):\n",
    "        result.append(array[indexes[j]])\n",
    "        j = j + 1\n",
    "\n",
    "    return result"
   ]
  },
  {
   "cell_type": "code",
   "execution_count": 107,
   "metadata": {},
   "outputs": [],
   "source": [
    "%lprun -f give_me_odd give_me_odd(lista)"
   ]
  },
  {
   "cell_type": "markdown",
   "metadata": {},
   "source": [
    "Vemos que se gasta mucho tiempo en los bucles. El `while` en realidad no suele ser útil si se pasa por todos los elementos. En ese caso es mejor usar un `for` y evitaríamos las líneas i = i + 1 y j = j +1"
   ]
  },
  {
   "cell_type": "code",
   "execution_count": 108,
   "metadata": {},
   "outputs": [],
   "source": [
    "def give_me_odd_2(array):\n",
    "\n",
    "    indexes = []\n",
    "    result = []\n",
    "\n",
    "    for i in range(len(array)):\n",
    "        if array[i] % 2 != 0 and len(indexes) <= len(array):\n",
    "            indexes.append(i)\n",
    "\n",
    "    for j in indexes:\n",
    "        result.append(array[j])\n",
    "\n",
    "    return result"
   ]
  },
  {
   "cell_type": "code",
   "execution_count": 122,
   "metadata": {},
   "outputs": [],
   "source": [
    "%lprun -f give_me_odd_2 give_me_odd_2(lista)"
   ]
  },
  {
   "cell_type": "code",
   "execution_count": 113,
   "metadata": {},
   "outputs": [
    {
     "name": "stdout",
     "output_type": "stream",
     "text": [
      "239 µs ± 10.4 µs per loop (mean ± std. dev. of 7 runs, 1,000 loops each)\n"
     ]
    }
   ],
   "source": [
    "%timeit  give_me_odd_2(lista)"
   ]
  },
  {
   "cell_type": "code",
   "execution_count": 112,
   "metadata": {},
   "outputs": [
    {
     "name": "stdout",
     "output_type": "stream",
     "text": [
      "312 µs ± 11 µs per loop (mean ± std. dev. of 7 runs, 1,000 loops each)\n"
     ]
    }
   ],
   "source": [
    "%timeit give_me_odd(lista)"
   ]
  },
  {
   "cell_type": "markdown",
   "metadata": {},
   "source": [
    "Es un poco más rápido pero seguimos teniendo dos loops que gastan mucho tiempo. Vemos que el segundo se podría evitar ya que no haría falta ir guardando los índices. "
   ]
  },
  {
   "cell_type": "code",
   "execution_count": 116,
   "metadata": {},
   "outputs": [],
   "source": [
    "def give_me_odd_3(array):\n",
    "    result = []\n",
    "\n",
    "    for elem in array:\n",
    "        if elem % 2 != 0:\n",
    "            result.append(elem)\n",
    "\n",
    "    return result"
   ]
  },
  {
   "cell_type": "code",
   "execution_count": 117,
   "metadata": {},
   "outputs": [
    {
     "name": "stdout",
     "output_type": "stream",
     "text": [
      "126 µs ± 3.44 µs per loop (mean ± std. dev. of 7 runs, 10,000 loops each)\n"
     ]
    }
   ],
   "source": [
    "%timeit give_me_odd_3(lista)"
   ]
  },
  {
   "cell_type": "code",
   "execution_count": 118,
   "metadata": {},
   "outputs": [],
   "source": [
    "%lprun -f give_me_odd_3 give_me_odd_3(lista)"
   ]
  },
  {
   "cell_type": "code",
   "execution_count": 120,
   "metadata": {},
   "outputs": [],
   "source": [
    "def give_me_odd_4(array):\n",
    "    return [elem for elem in array if elem % 2 != 0]"
   ]
  },
  {
   "cell_type": "code",
   "execution_count": 121,
   "metadata": {},
   "outputs": [
    {
     "name": "stdout",
     "output_type": "stream",
     "text": [
      "118 µs ± 4.03 µs per loop (mean ± std. dev. of 7 runs, 10,000 loops each)\n"
     ]
    }
   ],
   "source": [
    "%timeit give_me_odd_4(lista)"
   ]
  },
  {
   "cell_type": "markdown",
   "metadata": {},
   "source": [
    "Hemos reducido a más de un tercio el tiempo de computación mirando donde "
   ]
  },
  {
   "cell_type": "markdown",
   "metadata": {},
   "source": [
    "# 4. Ejercicios para practicar\n",
    "\n",
    "A continuación encontraréis un conjunto de problemas que os pueden servir para practicar los conceptos explicados en esta unidad. Os recomendamos que intentéis realizar estos problemas vosotros mismos y que, una vez realizados, comparéis la solución que proponemos con vuestra solución. No dudéis en dirigir todas las dudas que surjan de la resolución de estos ejercicios o bien de las soluciones propuestas al foro del aula.\n",
    "\n",
    "1. Generad una o varias gráficas que permitan comparar el crecimiento de una función constante, una logarítmica, una lineal, una cuadrática, una cúbica y una exponencial.\n"
   ]
  },
  {
   "cell_type": "markdown",
   "metadata": {},
   "source": [
    "3. El código siguiente calcula cuántos números resultantes de productos de dos números de 4 cifras son múltiplos de 11. Optimizad el código para mejorar su tiempo de ejecución. Considerad mejoras tanto desde el punto de vista algorítmico como de implementación.\n",
    "\n",
    "Nota: reducid el tiempo de ejecución, como mínimo, un orden de magnitud."
   ]
  },
  {
   "cell_type": "code",
   "execution_count": null,
   "metadata": {},
   "outputs": [],
   "source": [
    "def prod_mult_11():\n",
    "    result = []\n",
    "    l1 = list(range(1000, 10000))\n",
    "    l2 = list(range(1000, 10000))\n",
    "    for i in l1:\n",
    "        for j in l2:\n",
    "            if i*j % 11 == 0:\n",
    "                result.append(i*j)\n",
    "    return len(result)"
   ]
  },
  {
   "cell_type": "code",
   "execution_count": null,
   "metadata": {},
   "outputs": [],
   "source": [
    "prod_mult_11()"
   ]
  },
  {
   "cell_type": "markdown",
   "metadata": {},
   "source": [
    "Respuesta:\n",
    "\n",
    "En primer lugar, observando el algoritmo podemos ver como se itera dos veces sobre dos listas de números de 4 cifras, se calcula el producto de un valor de la primera lista por un valor de la segunda, se comprueba si este es múltiplo de 11 y, si lo es, se añade a la lista de resultados. Hay dos optimizaciones claras de este algoritmo, que provienen de las siguientes observaciones:\n",
    "\n",
    "* Para que el resultado sea múltiplo de 11, al menos uno de los dos números que multiplicamos debe ser múltiplo de 11. Por lo tanto, podríamos crear una primera lista con solo los números de 4 cifras múltiplos de 11, y una segunda lista con todos los números de 4 cifras. Así, nos evitamos muchas iteraciones (ya que la primera lista será más pequeña) y, al mismo tiempo, muchos cálculos de divisibilidad. Además, los cálculos de divisibilidad pasan a ser sobre números más pequeños (de 4 cifras en vez de sobre el producto).\n",
    "* Solo queremos saber el número de números que cumplen la condición del enunciado y no cuáles son estos números. Por lo tanto, en vez de guardarlos en una lista y después mirar cuántos elementos tiene la lista, podemos directamente contar cuántos números cumplen las condiciones, teniendo en cuenta la observación anterior.\n",
    "\n",
    "En segundo lugar, fijándonos en la implementación, vemos que hay también algunas ineficiencias, como la conversión del `range` a una lista antes de usarlo.\n",
    "\n",
    "Observando el resultado de `%lprun`, confirmamos algunas de nuestras observaciones:\n"
   ]
  },
  {
   "cell_type": "code",
   "execution_count": null,
   "metadata": {},
   "outputs": [],
   "source": [
    "%lprun -f prod_mult_11 prod_mult_11() "
   ]
  },
  {
   "cell_type": "markdown",
   "metadata": {},
   "source": [
    "Atendiendo al tiempo de ejecución por ejecución (`Per Hit`), vemos como este es muy alto para las dos asignaciones de las listas `l1` y `l2`. Mirando el porcentaje de tiempo de la función dedicado a cada línea, vemos como la línea donde se está más tiempo es la comprobación de la divisibilidad, seguida de cerca por el bucle interno, ya que se ejecutan muchas veces (¡81 millones de veces!). Ambas líneas juntas utilizan cerca del 90% del tiempo de ejecución de la función. El 10% restante se encuentra principalmente dedicado a añadir elementos a la lista de resultado.\n",
    "\n",
    "El código siguiente mejora el código anterior aprovechando las observaciones hechas tanto desde el punto de vista algorítmico como de implementación:"
   ]
  },
  {
   "cell_type": "code",
   "execution_count": null,
   "metadata": {},
   "outputs": [],
   "source": [
    "def prod_mult_11():\n",
    "    nums_4_dig_mult_11 = len([e for e in range(1000, 10000)\n",
    "                              if not e % 11])\n",
    "    nums_4_dig = len(range(1000, 10000))\n",
    "    return nums_4_dig_mult_11*nums_4_dig + \\\n",
    "        nums_4_dig_mult_11*(nums_4_dig-nums_4_dig_mult_11)"
   ]
  },
  {
   "cell_type": "code",
   "execution_count": null,
   "metadata": {},
   "outputs": [],
   "source": [
    "prod_mult_11()"
   ]
  },
  {
   "cell_type": "code",
   "execution_count": null,
   "metadata": {},
   "outputs": [],
   "source": [
    "%lprun -f prod_mult_11 prod_mult_11() "
   ]
  },
  {
   "cell_type": "markdown",
   "metadata": {},
   "source": [
    "Efectivamente, hemos reducido el tiempo de ejecución de casi un minuto a menos de una centésima de segundo, ¡varios órdenes de magnitud respecto a la implementación inicial! Sin embargo, la implementación aún se puede mejorar más... ¿que tenéis vosotros?\n"
   ]
  },
  {
   "cell_type": "markdown",
   "metadata": {},
   "source": [
    "**4.**  Probad a identificar los cuellos de botella de los siguientes códigos y ver como los mejoraríais\n",
    "\n"
   ]
  },
  {
   "cell_type": "code",
   "execution_count": null,
   "metadata": {},
   "outputs": [],
   "source": [
    "def list_unique(array):\n",
    "    unique = []\n",
    "    i = 0\n",
    "    while i < len(array):\n",
    "        j = 0\n",
    "        count = 0\n",
    "        while j < len(array):\n",
    "            if i != j and array[j] != array[i]:\n",
    "                count = count + 1\n",
    "            j = j + 1\n",
    "        if count == len(array) - 1:\n",
    "            unique.append(array[i])\n",
    "        i = i + 1\n",
    "    return unique\n",
    "\n",
    "\n",
    "2.\n",
    "\n",
    "def count_appearence(iters, n):\n",
    "    c = 0\n",
    "    L = []\n",
    "    I = []\n",
    "    for i in range(iters):\n",
    "        L.append(random.randint(-7*n, 7*n))\n",
    "    for j in range(len(L)):\n",
    "        if L[j] == n:\n",
    "            I.append(j)\n",
    "    return I\n",
    "\n",
    "\n",
    "3.\n",
    "\n",
    "def coin_tails(n):\n",
    "    np.random.seed(42)\n",
    "    random_number = []\n",
    "    for i in range(0, n):\n",
    "        random_number.append(np.random.random_sample(1))\n",
    "    tail = []\n",
    "    for i in range(0, n):\n",
    "        if random_number[i] < 0.5:\n",
    "            tail.append(1)\n",
    "        else:\n",
    "            tail.append(0)\n",
    "    total_tails = 0\n",
    "    for i in range(0, n):\n",
    "        total_tails += tail[i]\n",
    "    return total_tails\n",
    "\n",
    "\n",
    "4.\n",
    "\n",
    "def squaresum(n):\n",
    "    total = 0\n",
    "    operands = []\n",
    "    for i in range(1, n + 1):\n",
    "        aux = pow(i, 2)\n",
    "        operands.append(aux)\n",
    "    for op in operands:\n",
    "        total = total + op\n",
    "    return total"
   ]
  },
  {
   "cell_type": "code",
   "execution_count": null,
   "metadata": {},
   "outputs": [],
   "source": []
  }
 ],
 "metadata": {
  "kernelspec": {
   "display_name": "Python 3 (ipykernel)",
   "language": "python",
   "name": "python3"
  },
  "language_info": {
   "codemirror_mode": {
    "name": "ipython",
    "version": 3
   },
   "file_extension": ".py",
   "mimetype": "text/x-python",
   "name": "python",
   "nbconvert_exporter": "python",
   "pygments_lexer": "ipython3",
   "version": "3.9.12"
  },
  "toc": {
   "base_numbering": 1,
   "nav_menu": {},
   "number_sections": true,
   "sideBar": true,
   "skip_h1_title": false,
   "title_cell": "Table of Contents",
   "title_sidebar": "Contents",
   "toc_cell": false,
   "toc_position": {},
   "toc_section_display": true,
   "toc_window_display": true
  }
 },
 "nbformat": 4,
 "nbformat_minor": 2
}
