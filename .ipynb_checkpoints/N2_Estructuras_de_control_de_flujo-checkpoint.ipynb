{
 "cells": [
  {
   "cell_type": "markdown",
   "metadata": {},
   "source": [
    "# Estructuras de control de flujo\n",
    "Aquí damos unas pinceladas de como son las estructuras de control de flujo en **Python** y como se definen las funciones. Las estructuras de control de ejecución gestionan como se va ejecutando el programa.  En esta notebook veremos: \n",
    "\n",
    "<ul style=\"list-style-type:none\">\n",
    "    <li><a href='#1.-if/elif/else'>1. if/elif/else</a></li>\n",
    "    <li><a href='#2.-for/while'>2. for/while</a></li>\n",
    "    <ul style=\"list-style-type:none\">\n",
    "        <li><a href=\"#2.1-Iteración-en-listas-y-diccionarios\">2.1. Iteración en listas y diccionarios</a></li>\n",
    "    </ul>\n",
    "    <li><a href=\"#3.-Ejercicios-para-practicar\">3. Ejercicios </a></li>\n",
    "    <ul style=\"list-style-type:none\">\n",
    "</ul>"
   ]
  },
  {
   "cell_type": "markdown",
   "metadata": {},
   "source": [
    "Si no decimos nada, el programa se ejecuta secuencialmente línea a línea (en una notebook, en orden de celda ejecutada). Pero hay instrucciones que podemos dar para que no ejecute alguna parte o que repita algunas secuencias. "
   ]
  },
  {
   "cell_type": "markdown",
   "metadata": {},
   "source": [
    "Esto hace que el código sea más leíble y limpio. Se usan las tabulaciones para saber cuando se sale de una estructura de control.  "
   ]
  },
  {
   "cell_type": "markdown",
   "metadata": {},
   "source": [
    "## 1. Expresiones de condición"
   ]
  },
  {
   "cell_type": "code",
   "execution_count": 2,
   "metadata": {},
   "outputs": [
    {
     "data": {
      "text/plain": [
       "False"
      ]
     },
     "execution_count": 2,
     "metadata": {},
     "output_type": "execute_result"
    }
   ],
   "source": [
    "x = 5\n",
    "x == 4"
   ]
  },
  {
   "cell_type": "code",
   "execution_count": 4,
   "metadata": {},
   "outputs": [
    {
     "data": {
      "text/plain": [
       "True"
      ]
     },
     "execution_count": 4,
     "metadata": {},
     "output_type": "execute_result"
    }
   ],
   "source": [
    "x != 4"
   ]
  },
  {
   "cell_type": "code",
   "execution_count": 3,
   "metadata": {},
   "outputs": [
    {
     "data": {
      "text/plain": [
       "False"
      ]
     },
     "execution_count": 3,
     "metadata": {},
     "output_type": "execute_result"
    }
   ],
   "source": [
    "x <= 2"
   ]
  },
  {
   "cell_type": "code",
   "execution_count": 4,
   "metadata": {},
   "outputs": [
    {
     "data": {
      "text/plain": [
       "True"
      ]
     },
     "execution_count": 4,
     "metadata": {},
     "output_type": "execute_result"
    }
   ],
   "source": [
    "x > 2"
   ]
  },
  {
   "cell_type": "code",
   "execution_count": 5,
   "metadata": {},
   "outputs": [
    {
     "data": {
      "text/plain": [
       "True"
      ]
     },
     "execution_count": 5,
     "metadata": {},
     "output_type": "execute_result"
    }
   ],
   "source": [
    "1 < x <= 6"
   ]
  },
  {
   "cell_type": "code",
   "execution_count": 7,
   "metadata": {},
   "outputs": [
    {
     "data": {
      "text/plain": [
       "True"
      ]
     },
     "execution_count": 7,
     "metadata": {},
     "output_type": "execute_result"
    }
   ],
   "source": [
    "\"hola\" == \"ho\"+\"la\""
   ]
  },
  {
   "cell_type": "code",
   "execution_count": 8,
   "metadata": {},
   "outputs": [
    {
     "data": {
      "text/plain": [
       "False"
      ]
     },
     "execution_count": 8,
     "metadata": {},
     "output_type": "execute_result"
    }
   ],
   "source": [
    "\"hola\" == \"Hola\""
   ]
  },
  {
   "cell_type": "code",
   "execution_count": 2,
   "metadata": {},
   "outputs": [
    {
     "data": {
      "text/plain": [
       "False"
      ]
     },
     "execution_count": 2,
     "metadata": {},
     "output_type": "execute_result"
    }
   ],
   "source": [
    "'r' in \"hola\""
   ]
  },
  {
   "cell_type": "code",
   "execution_count": 3,
   "metadata": {},
   "outputs": [
    {
     "data": {
      "text/plain": [
       "True"
      ]
     },
     "execution_count": 3,
     "metadata": {},
     "output_type": "execute_result"
    }
   ],
   "source": [
    "type(4) == int"
   ]
  },
  {
   "cell_type": "code",
   "execution_count": 11,
   "metadata": {},
   "outputs": [
    {
     "data": {
      "text/plain": [
       "False"
      ]
     },
     "execution_count": 11,
     "metadata": {},
     "output_type": "execute_result"
    }
   ],
   "source": [
    "3 in [2,4]"
   ]
  },
  {
   "cell_type": "code",
   "execution_count": 17,
   "metadata": {},
   "outputs": [
    {
     "data": {
      "text/plain": [
       "True"
      ]
     },
     "execution_count": 17,
     "metadata": {},
     "output_type": "execute_result"
    }
   ],
   "source": [
    "(x > 3) or (x < 2)   # también válido | pero guía estilo or"
   ]
  },
  {
   "cell_type": "code",
   "execution_count": 18,
   "metadata": {},
   "outputs": [
    {
     "data": {
      "text/plain": [
       "False"
      ]
     },
     "execution_count": 18,
     "metadata": {},
     "output_type": "execute_result"
    }
   ],
   "source": [
    "(x > 3) and (x < 2)  # también válido &"
   ]
  },
  {
   "cell_type": "markdown",
   "metadata": {},
   "source": [
    "## 1. if/elif/else\n",
    "La instrucción [`if`](https://docs.python.org/3.8/tutorial/controlflow.html#if-statements) nos permite ejecutar un bloque de código si se cumple una determinada condición. Si no se cumple, esa parte no se ejecuta y el código se sigue ejecutando desde la siguiente línea con la misma tabulación. Siempre se termina la orden con `:`.\n"
   ]
  },
  {
   "cell_type": "code",
   "execution_count": 4,
   "metadata": {},
   "outputs": [
    {
     "name": "stdout",
     "output_type": "stream",
     "text": [
      "El valor absoluto de 22 es 22\n"
     ]
    }
   ],
   "source": [
    "# Valor absoluto |x|\n",
    "x = 22\n",
    "absx = x\n",
    "if x < 0:\n",
    "    print('estoy dentro del if y hago cambios')\n",
    "    absx = -x\n",
    "\n",
    "    #...\n",
    "print('El valor absoluto de %d es %d' % (x,absx))"
   ]
  },
  {
   "cell_type": "markdown",
   "metadata": {},
   "source": [
    "Usamos `else` o `elif` para que ejecute otra parte del código si no se cumple la condición"
   ]
  },
  {
   "cell_type": "code",
   "execution_count": 7,
   "metadata": {},
   "outputs": [
    {
     "name": "stdout",
     "output_type": "stream",
     "text": [
      "valor original negativo\n",
      "El valor absoluto de -10 es 10\n",
      "\n"
     ]
    }
   ],
   "source": [
    "# Valor absoluto |x|\n",
    "x = -10\n",
    "if x < 0:\n",
    "    absx = -x\n",
    "    print('valor original negativo')\n",
    "else:\n",
    "    absx = x\n",
    "\n",
    "print('El valor absoluto de %d es %d\\n' % (x,absx))\n",
    "\n"
   ]
  },
  {
   "cell_type": "markdown",
   "metadata": {},
   "source": [
    "Si hay más de una condición usamos `elif`:"
   ]
  },
  {
   "cell_type": "code",
   "execution_count": 10,
   "metadata": {},
   "outputs": [
    {
     "name": "stdout",
     "output_type": "stream",
     "text": [
      "valor absoluto de 0 es cero\n"
     ]
    }
   ],
   "source": [
    "x = 0\n",
    "\n",
    "if x < 0:\n",
    "    y = -x\n",
    "    print('valor original negativo')\n",
    "elif x > 0:\n",
    "    y = x\n",
    "    print('valor original positivo')\n",
    "else:\n",
    "    y = 'cero'\n",
    "    print(f'valor absoluto de {x} es {y}')\n",
    "    \n"
   ]
  },
  {
   "cell_type": "markdown",
   "metadata": {},
   "source": [
    "Manera más *Pythonic* de hacerlo:"
   ]
  },
  {
   "cell_type": "code",
   "execution_count": 32,
   "metadata": {},
   "outputs": [
    {
     "data": {
      "text/plain": [
       "5"
      ]
     },
     "execution_count": 32,
     "metadata": {},
     "output_type": "execute_result"
    }
   ],
   "source": [
    "# usar built-in function\n",
    "abs(x)"
   ]
  },
  {
   "cell_type": "code",
   "execution_count": 105,
   "metadata": {},
   "outputs": [
    {
     "name": "stdout",
     "output_type": "stream",
     "text": [
      "cumplen las dos\n",
      "cumple al menos una\n"
     ]
    }
   ],
   "source": [
    "x = -1 ; z = 2\n",
    "if x < 0 and z == 2:\n",
    "    print('cumplen las dos')\n",
    "\n",
    "if x < 0 or z == 2:\n",
    "    print('cumple al menos una')\n",
    "\n",
    "if not(x < 0 or z == 2):\n",
    "    print('no cumple ninguna')"
   ]
  },
  {
   "cell_type": "markdown",
   "metadata": {},
   "source": [
    "## 2. for/while\n",
    "Las secuencias de control iterativas (*loops* en inglés) nos permiten repetir un trozo de código un número determinado de veces (`for`) o cuando se cumple una condición (`while` y `for`). Vemos unos ejemplos"
   ]
  },
  {
   "cell_type": "code",
   "execution_count": 42,
   "metadata": {},
   "outputs": [
    {
     "name": "stdout",
     "output_type": "stream",
     "text": [
      "hola 0\n",
      "hola 1\n",
      "hola 2\n",
      "hola 3\n",
      "hola 4\n",
      "hola 5\n",
      "hola 6\n",
      "hola 7\n",
      "hola 8\n",
      "hola 9\n",
      "Con for La suma de los 10 primeros numeros naturales es 0\n",
      "\n"
     ]
    }
   ],
   "source": [
    "# Comando equivalente con la orden for, range(N) pasa de 0 a N\n",
    "N = 10\n",
    "suma = 0\n",
    "for i in range(N): \n",
    "    print('hola',i)\n",
    "\n",
    "print('Con for La suma de los %d primeros numeros naturales es %d\\n' % (N,suma))"
   ]
  },
  {
   "cell_type": "code",
   "execution_count": 43,
   "metadata": {},
   "outputs": [
    {
     "name": "stdout",
     "output_type": "stream",
     "text": [
      "hola 0\n",
      "hola 1\n",
      "hola 2\n",
      "hola 3\n",
      "hola 4\n",
      "hola 5\n",
      "hola 6\n",
      "hola 7\n",
      "hola 8\n",
      "hola 9\n",
      "hola 10\n",
      "Con for La suma de los 10 primeros numeros naturales es 0\n",
      "\n"
     ]
    }
   ],
   "source": [
    "# Comando equivalente con la orden for, range(N) pero se queda en N-1\n",
    "N = 10\n",
    "suma = 0\n",
    "for i in range(N+1): \n",
    "    print('hola',i)\n",
    "\n",
    "print('Con for La suma de los %d primeros numeros naturales es %d\\n' % (N,suma))"
   ]
  },
  {
   "cell_type": "code",
   "execution_count": 6,
   "metadata": {},
   "outputs": [
    {
     "name": "stdout",
     "output_type": "stream",
     "text": [
      "i es 0\n",
      "m es 0\n",
      "-------\n",
      "i es 1\n",
      "m es 2\n",
      "-------\n",
      "i es 2\n",
      "m es 4\n",
      "-------\n",
      "i es 3\n",
      "m es 6\n",
      "-------\n",
      "i es 4\n",
      "m es 8\n",
      "-------\n",
      "i es 5\n",
      "m es 10\n",
      "-------\n",
      "i es 6\n",
      "m es 12\n",
      "-------\n",
      "i es 7\n",
      "m es 14\n",
      "-------\n",
      "i es 8\n",
      "m es 16\n",
      "-------\n",
      "i es 9\n",
      "m es 18\n",
      "-------\n",
      "i es 10\n",
      "m es 20\n",
      "-------\n"
     ]
    }
   ],
   "source": [
    "N = 10\n",
    "suma = 0\n",
    "for i in range(N+1): \n",
    "    print('i es',i)\n",
    "    m = i*2\n",
    "    print('m es', m)\n",
    "    print('-------')"
   ]
  },
  {
   "cell_type": "code",
   "execution_count": 93,
   "metadata": {},
   "outputs": [
    {
     "name": "stdout",
     "output_type": "stream",
     "text": [
      "La temperatura minima promedio de Santander es 6.059192647368422\n"
     ]
    }
   ],
   "source": [
    "# Por ejemplo podría calcular la temperatura promedio usando el data set de antes\n",
    "\n",
    "temperature = [6.4902453, 6.0602455, 5.5602455, 4.630245, 3.6602454, 3.8802452, 'nan', 3.6502452, 3.1102452, 2.7302456,\n",
    " 2.5102453, 2.4402454, 4.2502456, 6.5302453, 8.290245, 10.090245, 11.3102455, 12.100245, 10.530245, 'nan', 7.3002453]\n",
    "\n",
    "\n",
    "num_nans = temperature.count('nan')  # uso función count de las listas\n",
    "num_datos = len(temperature) # quitamos los nans\n",
    "\n",
    "suma = 0\n",
    "for i in range(num_datos):\n",
    "    if temperature[i] != 'nan':\n",
    "        suma += temperature[i] #los mismo que suma = suma + temp\n",
    "\n",
    "media = suma/(num_datos - num_nans)\n",
    "print(f'La temperatura minima promedio de Santander es {media}')\n",
    "\n"
   ]
  },
  {
   "cell_type": "code",
   "execution_count": 87,
   "metadata": {},
   "outputs": [
    {
     "data": {
      "text/plain": [
       "7.3002453"
      ]
     },
     "execution_count": 87,
     "metadata": {},
     "output_type": "execute_result"
    }
   ],
   "source": [
    "115.12466030000002 - 107.82441500000002"
   ]
  },
  {
   "cell_type": "markdown",
   "metadata": {},
   "source": [
    "Manera más *Pythonic*"
   ]
  },
  {
   "cell_type": "code",
   "execution_count": 20,
   "metadata": {},
   "outputs": [
    {
     "data": {
      "text/plain": [
       "55"
      ]
     },
     "execution_count": 20,
     "metadata": {},
     "output_type": "execute_result"
    }
   ],
   "source": [
    "N=10\n",
    "sum(range(N+1))"
   ]
  },
  {
   "cell_type": "markdown",
   "metadata": {},
   "source": [
    "Podemos mezclar varias estructras (nos fijamos en el sangrado):\n",
    "\n"
   ]
  },
  {
   "cell_type": "code",
   "execution_count": 23,
   "metadata": {},
   "outputs": [
    {
     "name": "stdout",
     "output_type": "stream",
     "text": [
      "iteración 1 + 0\n",
      "suma   =  1\n",
      "iteración 3 + 1\n",
      "suma   =  4\n",
      "iteración 5 + 4\n",
      "suma   =  9\n",
      "iteración 7 + 9\n",
      "suma   =  16\n",
      "iteración 9 + 16\n",
      "suma   =  25\n",
      "25\n"
     ]
    }
   ],
   "source": [
    "N = 10\n",
    "suma = 0\n",
    "for contador in range(N+1): \n",
    "    if (contador%2!=0):\n",
    "        print('iteración',contador,'+',suma)\n",
    "        suma = suma + contador\n",
    "        # solo sumampos si es par\n",
    "        print('suma   = ',suma)\n",
    "print(suma)"
   ]
  },
  {
   "cell_type": "code",
   "execution_count": 26,
   "metadata": {},
   "outputs": [
    {
     "name": "stdout",
     "output_type": "stream",
     "text": [
      "iteración 0 + 0\n",
      "suma   =  0\n",
      "---------------\n",
      "pasamos de los pares\n",
      "---------------\n",
      "iteración 2 + 0\n",
      "suma   =  2\n",
      "---------------\n",
      "pasamos de los pares\n",
      "---------------\n",
      "iteración 4 + 2\n",
      "suma   =  6\n",
      "---------------\n",
      "pasamos de los pares\n",
      "---------------\n",
      "iteración 6 + 6\n",
      "suma   =  12\n",
      "---------------\n",
      "pasamos de los pares\n",
      "---------------\n",
      "iteración 8 + 12\n",
      "suma   =  20\n",
      "---------------\n",
      "pasamos de los pares\n",
      "---------------\n",
      "iteración 10 + 20\n",
      "suma   =  30\n",
      "---------------\n",
      "30\n"
     ]
    }
   ],
   "source": [
    "# o dos if y hago cosas distintas\n",
    "N = 10\n",
    "suma = 0\n",
    "for contador in range(N+1): \n",
    "    if (contador%2==0):\n",
    "        print('iteración',contador,'+',suma)\n",
    "        suma = suma + contador\n",
    "        # solo sumampos si es par\n",
    "        print('suma   = ',suma)\n",
    "    else:\n",
    "        print('pasamos de los pares')\n",
    "    print('---------------')\n",
    "print(suma)"
   ]
  },
  {
   "cell_type": "markdown",
   "metadata": {},
   "source": [
    "El bucle for se puede hacer en intérvalos distintos a 1,  \n",
    "`range(ini, end, step)` o al revés: "
   ]
  },
  {
   "cell_type": "code",
   "execution_count": 46,
   "metadata": {},
   "outputs": [
    {
     "name": "stdout",
     "output_type": "stream",
     "text": [
      "2\n",
      "5\n",
      "8\n"
     ]
    }
   ],
   "source": [
    "N = 10\n",
    "for i in range(2, N+1, 3):\n",
    "    print(i)"
   ]
  },
  {
   "cell_type": "code",
   "execution_count": 47,
   "metadata": {},
   "outputs": [
    {
     "name": "stdout",
     "output_type": "stream",
     "text": [
      "9\n",
      "7\n",
      "5\n",
      "3\n",
      "1\n"
     ]
    }
   ],
   "source": [
    "for i in reversed(range(1,10,2)):\n",
    "    print(i)"
   ]
  },
  {
   "cell_type": "markdown",
   "metadata": {},
   "source": [
    "## 2.1 Iteración en listas y diccionarios \n",
    "Tanto las tuplas, las strings, las listas como los diccionarios son iterables. Un objeto **iterable** es aquel que podemos recorrer hasta que no quedan más elementos. "
   ]
  },
  {
   "cell_type": "code",
   "execution_count": 94,
   "metadata": {},
   "outputs": [
    {
     "name": "stdout",
     "output_type": "stream",
     "text": [
      "La temperatura minima promedio de Santander es 6.059192647368422\n"
     ]
    }
   ],
   "source": [
    "# por ejemplo podría ser útil para calcular la media de la temperatura de los\n",
    "# datos de antes:\n",
    "\n",
    "temperature = [6.4902453, 6.0602455, 5.5602455, 4.630245, 3.6602454, 3.8802452, 'nan', 3.6502452, 3.1102452, 2.7302456,\n",
    " 2.5102453, 2.4402454, 4.2502456, 6.5302453, 8.290245, 10.090245, 11.3102455, 12.100245, 10.530245, 'nan', 7.3002453]\n",
    "\n",
    "suma = 0\n",
    "num_nans = temperature.count('nan')  # uso función count de las listas\n",
    "num_datos = len(temperature) - num_nans\n",
    "\n",
    "\n",
    "for temp in temperature:\n",
    "    if temp != 'nan':\n",
    "        suma += temp #los mismo que suma = suma + temp\n",
    "\n",
    "media = suma/num_datos\n",
    "print(f'La temperatura minima promedio de Santander es {media}')\n"
   ]
  },
  {
   "cell_type": "code",
   "execution_count": 120,
   "metadata": {},
   "outputs": [
    {
     "name": "stdout",
     "output_type": "stream",
     "text": [
      "apple\n",
      "orange\n",
      "apple\n",
      "pear\n",
      "orange\n",
      "banana\n"
     ]
    }
   ],
   "source": [
    "#podemos acceder directamente a los elementos de los iterables, como una lista\n",
    "basket = ['apple', 'orange', 'apple', 'pear', 'orange', 'banana']\n",
    "for fruit in basket:\n",
    "    print(fruit)\n"
   ]
  },
  {
   "cell_type": "code",
   "execution_count": 121,
   "metadata": {},
   "outputs": [
    {
     "name": "stdout",
     "output_type": "stream",
     "text": [
      "0 apple\n",
      "1 orange\n",
      "2 apple\n",
      "3 pear\n",
      "4 orange\n",
      "5 banana\n"
     ]
    }
   ],
   "source": [
    "# a veces nos puede interesar saber también \n",
    "# el número de iteración. Podemos usar enumerate \n",
    "for i, elem in enumerate(basket):\n",
    "    print(i,elem)"
   ]
  },
  {
   "cell_type": "markdown",
   "metadata": {},
   "source": [
    "En diccionarios también podemos iterar:"
   ]
  },
  {
   "cell_type": "code",
   "execution_count": 32,
   "metadata": {},
   "outputs": [
    {
     "name": "stdout",
     "output_type": "stream",
     "text": [
      "dictionary keys\n",
      "apples\n",
      "oranges\n",
      "tomatoes\n"
     ]
    }
   ],
   "source": [
    "# o un diccionario\n",
    "dict_0 = {\"apples\": 1.2, \"oranges\": 1.8, \"tomatoes\": 2.5}\n",
    "\n",
    "print('dictionary keys')\n",
    "for elem in dict_0.keys():  # equivalente a dict_0\n",
    "    print(elem)\n"
   ]
  },
  {
   "cell_type": "code",
   "execution_count": 33,
   "metadata": {},
   "outputs": [
    {
     "name": "stdout",
     "output_type": "stream",
     "text": [
      "dictionary values\n",
      "1.2\n",
      "1.8\n",
      "2.5\n"
     ]
    }
   ],
   "source": [
    "print('dictionary values')\n",
    "for elem in dict_0.values():\n",
    "    print(elem)\n",
    "\n"
   ]
  },
  {
   "cell_type": "code",
   "execution_count": 34,
   "metadata": {},
   "outputs": [
    {
     "name": "stdout",
     "output_type": "stream",
     "text": [
      "dictionary elements\n",
      "('apples', 1.2)\n",
      "('oranges', 1.8)\n",
      "('tomatoes', 2.5)\n"
     ]
    }
   ],
   "source": [
    "print('dictionary elements')\n",
    "for elem in dict_0.items():\n",
    "    print(elem) "
   ]
  },
  {
   "cell_type": "markdown",
   "metadata": {},
   "source": [
    "¿Que estructura tiene elem? "
   ]
  },
  {
   "cell_type": "code",
   "execution_count": null,
   "metadata": {},
   "outputs": [],
   "source": []
  },
  {
   "cell_type": "markdown",
   "metadata": {},
   "source": [
    "### List and dict comprehensions\n",
    "Cuando queremos generar una lista o un diccionario con las iteraciones de un for se pueden escribir de manera más compacta y a veces más eficiente usando **list** and **dict comprehensions**.  \n",
    "\n",
    "Por ejemplo: "
   ]
  },
  {
   "cell_type": "code",
   "execution_count": 38,
   "metadata": {},
   "outputs": [
    {
     "name": "stdout",
     "output_type": "stream",
     "text": [
      "[0, 2, 4, 6, 8, 10]\n"
     ]
    }
   ],
   "source": [
    "#en vez de \n",
    "l = [] \n",
    "N = 5\n",
    "for i in range(N + 1):\n",
    "    l.append(i * 2)  \n",
    "print(l)"
   ]
  },
  {
   "cell_type": "markdown",
   "metadata": {},
   "source": [
    "Se puede poner de manera más compacta con una *list comprehension*:"
   ]
  },
  {
   "cell_type": "code",
   "execution_count": 39,
   "metadata": {},
   "outputs": [
    {
     "data": {
      "text/plain": [
       "[0, 2, 4, 6, 8, 10]"
      ]
     },
     "execution_count": 39,
     "metadata": {},
     "output_type": "execute_result"
    }
   ],
   "source": [
    "# escribimos en una sola línea\n",
    "l2 = [i * 2 for i in range(N+1)]\n",
    "l2"
   ]
  },
  {
   "cell_type": "markdown",
   "metadata": {},
   "source": [
    "La estructura de control dentro de una list comprehension puede tener condiciones:"
   ]
  },
  {
   "cell_type": "code",
   "execution_count": 41,
   "metadata": {},
   "outputs": [
    {
     "name": "stdout",
     "output_type": "stream",
     "text": [
      "[0, 2, 4, 9, 12, 15]\n"
     ]
    }
   ],
   "source": [
    "l = [i*2 if i < 3 else i*3 for i in range(N+1)]\n",
    "print(l)"
   ]
  },
  {
   "cell_type": "markdown",
   "metadata": {},
   "source": [
    "Y lo mismo se puede hacer con los diccionarios.:"
   ]
  },
  {
   "cell_type": "code",
   "execution_count": 25,
   "metadata": {},
   "outputs": [
    {
     "name": "stdout",
     "output_type": "stream",
     "text": [
      "old dict {'a': 0, 'b': 1, 'c': 2}\n",
      "new dict with values multiplied by 2 {'a': 3, 'b': 5, 'c': 7}\n"
     ]
    }
   ],
   "source": [
    "dict_0 = {\"a\": 0, \"b\": 1, \"c\": 2}\n",
    "\n",
    "dict_new = {k: v*2 + 3 for (k, v) in dict_0.items()}  # en k habrás las claves y en v los valores\n",
    "\n",
    "print('old dict',dict_0)\n",
    "print('new dict with values multiplied by 2', dict_new)"
   ]
  },
  {
   "cell_type": "markdown",
   "metadata": {},
   "source": [
    "List and dict comprehensions interesantes si hay pocas operaciones a realizar, si no pierde interés ya que cuesta leer, hay que escribirlas en varias líneas y pierde eficiencia. "
   ]
  },
  {
   "cell_type": "markdown",
   "metadata": {},
   "source": [
    "# 3. Ejercicios para practicar"
   ]
  },
  {
   "cell_type": "markdown",
   "metadata": {},
   "source": [
    "**1.** Compara los ejemplos del cálculo de la media en la temperatura usando for i in range() y usando la lista que diferencias hay. ¿Qué método preferirías? **para discutir**"
   ]
  },
  {
   "cell_type": "markdown",
   "metadata": {},
   "source": [
    "**2.** En este ejemplo que hemos visto antes:\n",
    "    \n",
    "dict_0 = {\"apples\": 1.2, \"oranges\": 1.8, \"tomatoes\": 2.5}\n",
    "\n",
    "\n",
    "for elem in dict_0.items():\n",
    "    print(elem) \n",
    "    \n",
    "¿que estructura tiene elem? \n",
    "\n",
    "Haz un for que escriba para cada elemento el producto y el precio:\n",
    "The price of apples is 1.2 euros\n",
    "y lo mismo para las demás\n",
    "\n",
    "**para discutir**"
   ]
  },
  {
   "cell_type": "code",
   "execution_count": null,
   "metadata": {},
   "outputs": [],
   "source": [
    "#código"
   ]
  },
  {
   "cell_type": "markdown",
   "metadata": {},
   "source": [
    "**3.** Tienes los siguientes diccionarios:"
   ]
  },
  {
   "cell_type": "code",
   "execution_count": 13,
   "metadata": {},
   "outputs": [],
   "source": [
    "maria = { \n",
    "    'nombre' : 'Maria',\n",
    "    'tareas' : [9.3, 7.8, 6.9],\n",
    "    'examenes' : [8.4, 7.2],\n",
    "    'tests' : [8.4, 7.9, 8.3, 7.5]\n",
    "}\n",
    "\n",
    "juan = { \n",
    "    'nombre' : 'Juan',\n",
    "    'tareas' : [6.4, 2.5, 4.9],\n",
    "    'examenes' : [5.4, 5.3],\n",
    "    'tests' : [6.0, 7.0, 5.4, 6.3]\n",
    "}\n",
    "\n",
    "elsa = { \n",
    "    'nombre' : 'Elsa',\n",
    "    'tareas' : [9.0, 9.5, 8.4],\n",
    "    'examenes' : [9.2, 7.5],\n",
    "    'tests' : [8.2, 7.3, 6.4, 6.3]\n",
    "}\n"
   ]
  },
  {
   "cell_type": "markdown",
   "metadata": {},
   "source": [
    "Haz una lista llamada `estudiantes` con estos 3 diccionarios. Calcula la media de la nota de las tareas, exámenes y tests de cada estudiante y la media global (la media de las 3 notas). \n",
    "\n",
    "Ejemplo *output*:\n",
    "\n",
    "Notas medias de Sara, 2.8 en tareas, 5.4 en exámenes y 6.3 en tests. \n",
    "\n",
    "Media total: 4.83"
   ]
  },
  {
   "cell_type": "code",
   "execution_count": 44,
   "metadata": {},
   "outputs": [],
   "source": [
    "# Escribe código\n",
    "   "
   ]
  },
  {
   "cell_type": "markdown",
   "metadata": {},
   "source": [
    "**4.** Calcula la suma de los primers 100 números pares. "
   ]
  },
  {
   "cell_type": "code",
   "execution_count": 45,
   "metadata": {},
   "outputs": [],
   "source": [
    "# Escribe código\n",
    "\n"
   ]
  },
  {
   "cell_type": "markdown",
   "metadata": {},
   "source": [
    "**5.** Contad y guardad en un diccionario el número de veces que aparece cada palabra en el siguiente texto, usando estructuras de control de flujo:\n",
    "\n",
    "*el gato al raton, el raton a la cuerda, la cuerda al palo, daba el arriero a Sancho, Sancho a la moza, la moza a él, el ventero a la moza...*\n",
    "\n",
    "Recordatorio: En la notebook N1, tenéis métodos de las **string** que os pueden ser útiles. "
   ]
  },
  {
   "cell_type": "code",
   "execution_count": 46,
   "metadata": {},
   "outputs": [],
   "source": [
    "text = 'el gato al rato, el rato a la cuerda, la cuerda al palo, daba el arriero a Sancho,'\n",
    "text += 'Sancho a la moza, la moza a él, el ventero a la moza...'\n",
    "# escribe código\n",
    "\n",
    "\n"
   ]
  },
  {
   "cell_type": "markdown",
   "metadata": {},
   "source": [
    "**6.** Compara qué código es más eficinete de los dos siguiente. Utiliza el comando %%timeit descrito en el siguiente [link](https://ipython.org/ipython-doc/dev/interactive/magics.html#magic-timeit). \n",
    "\n"
   ]
  },
  {
   "cell_type": "code",
   "execution_count": 47,
   "metadata": {},
   "outputs": [],
   "source": [
    "names = [\"Burgos\", \"Santander\", \"Palencia\", \"Asturias\", \"Madrid\", \"Salamanca\", \"Avila\", \"Barceloa\", \"Paris\"]\n",
    "\n",
    "# Código 1.\n",
    "i = 0\n",
    "N = 1000000\n",
    "while i < N:\n",
    "    count = 0\n",
    "    # Loop.\n",
    "    for name in names:\n",
    "        count += len(name)\n",
    "    i = i + 1\n",
    "    \n",
    "# ------------------------------\n",
    "# Código 2.\n",
    "i = 0\n",
    "while i < N:\n",
    "    count = 0\n",
    "    # Loop.\n",
    "    x = 0\n",
    "    while x < len(names):\n",
    "        count += len(names[x])\n",
    "        x = x + 1\n",
    "    i = i + 1"
   ]
  },
  {
   "cell_type": "markdown",
   "metadata": {},
   "source": [
    "**6.2.** Seguro que puedes optimizar el código, inténtalo. "
   ]
  },
  {
   "cell_type": "code",
   "execution_count": 49,
   "metadata": {},
   "outputs": [],
   "source": [
    "# escribe código\n",
    "\n"
   ]
  },
  {
   "cell_type": "code",
   "execution_count": null,
   "metadata": {},
   "outputs": [],
   "source": []
  }
 ],
 "metadata": {
  "kernelspec": {
   "display_name": "Python 3 (ipykernel)",
   "language": "python",
   "name": "python3"
  },
  "language_info": {
   "codemirror_mode": {
    "name": "ipython",
    "version": 3
   },
   "file_extension": ".py",
   "mimetype": "text/x-python",
   "name": "python",
   "nbconvert_exporter": "python",
   "pygments_lexer": "ipython3",
   "version": "3.9.12"
  }
 },
 "nbformat": 4,
 "nbformat_minor": 2
}
