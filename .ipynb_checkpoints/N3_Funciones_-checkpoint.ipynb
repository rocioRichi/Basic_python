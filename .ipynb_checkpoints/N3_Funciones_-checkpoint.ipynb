{
 "cells": [
  {
   "cell_type": "markdown",
   "metadata": {},
   "source": [
    "#  Funciones\n",
    "Una función es un conjunto de líneas de código que realizan una tarea específica y puede retornar uno o más valores. \n",
    "\n",
    "Las funciones son muy útiles para evitar repetir trozo de código cada si queremos hacer una tarea o operación frecuentemente o para hacer el código más leíble. Las funciones **alteran el flujo** de ejecución lineal de un programa, ya que cuando la definimos con la palabra `def`, el código de dentro no se ejecuta de forma lineal si no cuando es llamada.\n",
    "\n",
    "En esta notebook veremos como definir funciones en **Python** y algunos usos más avanzados de las funciones. Veremos el ámbito de una variable (*scope*), como devuelven valores esas funciones y que tipo de argumentos pueden tener. Finalmente veremos que es el *docstring*, muy útil cuando compartimos nuestro código.  \n",
    "\n",
    "<ul style=\"list-style-type:none\">\n",
    "    <li><a href='#1.-Definir una función'>1. Definir una función</a></li>\n",
    "    <li><a href='#2.-Valor-de-retorno'>2. Valor de retorno</a></li>\n",
    "    <li><a href='#3.-Parámetros-de-entrada'>3. Parámetros de entrada</a></li>\n",
    "    <li><a href=\"#4.-Docstring\">4. Docstring </a></li>\n",
    "    <li><a href=\"#5.-Sanity Checks\">5. Sanity Checks </a></li>\n",
    "    <li><a href=\"#6.-Ejercicios-para-practicar\">6. Ejercicios </a></li>\n",
    "\n",
    "  \n",
    "\n",
    "</ul>\n",
    "\n"
   ]
  },
  {
   "cell_type": "markdown",
   "metadata": {},
   "source": [
    "## 1. Definir una función\n",
    "\n",
    "\n",
    "Para definir una función en **Python** se usa `def`, seguido el nombre de la función, entre paréntesis los **parámetros de entrada** y al final `:`. Por ejemplo si queremos hacer un saludo que cambie el nombre dependiendo de a quien saludamos: \n",
    "\n",
    "- datos de entrada  --> necesita que le de algo?\n",
    "- contenido función --> que va a hacer? "
   ]
  },
  {
   "cell_type": "code",
   "execution_count": 2,
   "metadata": {},
   "outputs": [
    {
     "name": "stdout",
     "output_type": "stream",
     "text": [
      "Hello, Laura ! How are you today?\n"
     ]
    }
   ],
   "source": [
    "def greet(name):\n",
    "    \"\"\"\n",
    "    A function that greets the user by name.\n",
    "    \"\"\"\n",
    "    print(\"Hello,\", name, \"! How are you today?\")\n",
    "\n",
    "greet('Laura')"
   ]
  },
  {
   "cell_type": "markdown",
   "metadata": {},
   "source": [
    "- datos de entrada  --> necesita que le de algo?\n",
    "- contenido función --> que va a hacer? "
   ]
  },
  {
   "cell_type": "code",
   "execution_count": 3,
   "metadata": {},
   "outputs": [
    {
     "ename": "TypeError",
     "evalue": "greet() missing 1 required positional argument: 'name'",
     "output_type": "error",
     "traceback": [
      "\u001b[0;31m---------------------------------------------------------------------------\u001b[0m",
      "\u001b[0;31mTypeError\u001b[0m                                 Traceback (most recent call last)",
      "Cell \u001b[0;32mIn[3], line 1\u001b[0m\n\u001b[0;32m----> 1\u001b[0m \u001b[43mgreet\u001b[49m\u001b[43m(\u001b[49m\u001b[43m)\u001b[49m\n",
      "\u001b[0;31mTypeError\u001b[0m: greet() missing 1 required positional argument: 'name'"
     ]
    }
   ],
   "source": [
    "greet()"
   ]
  },
  {
   "cell_type": "markdown",
   "metadata": {},
   "source": [
    "Algo más útil sería por ejemplo el cálculo de la media, ya que lo vamos a hacer para varios sets de datos y no queremos andar haciendo el loop cada vez. Primero pensamos que parámetros necesitamos: \n",
    "\n",
    "- datos de entrada --> lista\n",
    "- contenido función --> cálculo del promedio\n"
   ]
  },
  {
   "cell_type": "code",
   "execution_count": 14,
   "metadata": {},
   "outputs": [],
   "source": [
    "def media(datos):  # la hacemos sin nans \n",
    "    \"\"\"function that computes the mean value of datos\"\"\"\n",
    "    suma = 0\n",
    "    num_datos = len(datos) \n",
    "    for d in datos:\n",
    "           suma += d \n",
    "    print(f'la temperatura mínima media es {suma/num_datos}')"
   ]
  },
  {
   "cell_type": "code",
   "execution_count": 15,
   "metadata": {},
   "outputs": [
    {
     "name": "stdout",
     "output_type": "stream",
     "text": [
      "la temperatura mínima media es 6.059192647368422\n"
     ]
    }
   ],
   "source": [
    "temperature_march = [6.4902453, 6.0602455, 5.5602455, 4.630245, 3.6602454, 3.8802452, 3.6502452, 3.1102452, 2.7302456,\n",
    " 2.5102453, 2.4402454, 4.2502456, 6.5302453, 8.290245, 10.090245, 11.3102455, 12.100245, 10.530245, 7.3002453]\n",
    "\n",
    "temperature_july = [8.16213, 9.34255, 6.630245, 12.6602454, 15.4322, 11.27631, 9.321312, 10.4542, 11.7302456,\n",
    " 7.8231, 12.87321, 11.23187, 8.5302453, 7.9837621, 9.983211, 11.4321, 16.12321, 18.123198, 14.3213, 12.97323]\n",
    "\n",
    "\n",
    "media(temperature_march)\n",
    "\n",
    "\n",
    "\n"
   ]
  },
  {
   "cell_type": "code",
   "execution_count": 13,
   "metadata": {},
   "outputs": [
    {
     "name": "stdout",
     "output_type": "stream",
     "text": [
      "la temperatura medies es 11.320393720000002\n"
     ]
    }
   ],
   "source": [
    "media(temperature_july)"
   ]
  },
  {
   "cell_type": "code",
   "execution_count": 18,
   "metadata": {},
   "outputs": [
    {
     "name": "stdout",
     "output_type": "stream",
     "text": [
      "la temperatura medies es 6.059192647368422\n"
     ]
    }
   ],
   "source": [
    "def media(datos):  # podríamos añadirle los nan o cualquier otra cosa\n",
    "    suma = 0\n",
    "    num_nans = datos.count('nan')  # uso función count de las listas\n",
    "    num_datos = len(datos) - num_nans\n",
    "    for d in datos:\n",
    "           suma += d \n",
    "    print(f'la temperatura medies es {suma/num_datos}')\n",
    "    \n",
    "media(temperature_march)\n"
   ]
  },
  {
   "cell_type": "markdown",
   "metadata": {},
   "source": [
    "## 2. Valor de retorno\n",
    "En las funciones definidas arriba solo pedíamos que imprimiera por pantalla los resultados. Pero las funciones pueden devolver uno o más valores de retorno usando el comando `return`. "
   ]
  },
  {
   "cell_type": "code",
   "execution_count": 21,
   "metadata": {},
   "outputs": [],
   "source": [
    "# Definimos una función sin return\n",
    "def media_retorno(datos):  # podríamos añadirle los nan o cualquier otra cosa\n",
    "    suma = 0\n",
    "    num_nans = datos.count('nan')  # uso función count de las listas\n",
    "    num_datos = len(datos) - num_nans\n",
    "    for d in datos:\n",
    "           suma += d \n",
    "    return suma/num_datos\n",
    "    \n"
   ]
  },
  {
   "cell_type": "code",
   "execution_count": 22,
   "metadata": {},
   "outputs": [
    {
     "name": "stdout",
     "output_type": "stream",
     "text": [
      "la temperatura medies es 6.059192647368422\n"
     ]
    }
   ],
   "source": [
    "media(temperature_march)"
   ]
  },
  {
   "cell_type": "code",
   "execution_count": 23,
   "metadata": {},
   "outputs": [],
   "source": [
    "r = media_retorno(temperature_march) "
   ]
  },
  {
   "cell_type": "code",
   "execution_count": 24,
   "metadata": {},
   "outputs": [
    {
     "name": "stdout",
     "output_type": "stream",
     "text": [
      "la media de temperatura es 6.059192647368422\n"
     ]
    }
   ],
   "source": [
    "print(f'la media de temperatura es {r}')"
   ]
  },
  {
   "cell_type": "markdown",
   "metadata": {},
   "source": [
    "Si queremos que nos devuelva más de un valor, tendrá que ser en forma de tupla. "
   ]
  },
  {
   "cell_type": "code",
   "execution_count": 28,
   "metadata": {},
   "outputs": [],
   "source": [
    "def media_y_maximo(datos):  # podríamos añadirle los nan o cualquier otra cosa\n",
    "    suma = 0\n",
    "    num_nans = datos.count('nan')  # uso función count de las listas\n",
    "    num_datos = len(datos) - num_nans\n",
    "    for d in datos:\n",
    "           suma += d \n",
    "    maximo = max(datos)\n",
    "    return suma/num_datos, maximo\n"
   ]
  },
  {
   "cell_type": "code",
   "execution_count": 29,
   "metadata": {},
   "outputs": [
    {
     "data": {
      "text/plain": [
       "(6.059192647368422, 12.100245)"
      ]
     },
     "execution_count": 29,
     "metadata": {},
     "output_type": "execute_result"
    }
   ],
   "source": [
    "media_y_maximo(temperature_march) "
   ]
  },
  {
   "cell_type": "code",
   "execution_count": 31,
   "metadata": {},
   "outputs": [
    {
     "name": "stdout",
     "output_type": "stream",
     "text": [
      "La suma y la multiplicación de (5, 11) es (6.059192647368422, 12.100245) (<class 'tuple'>)\n"
     ]
    }
   ],
   "source": [
    "r2 = media_y_maximo(temperature_march)\n",
    "\n",
    "print(\"La suma y la multiplicación de (5, 11) es {} ({})\".\n",
    "      format(r2, type(r2)))"
   ]
  },
  {
   "cell_type": "markdown",
   "metadata": {},
   "source": [
    "También nos podría devolver una función. Vemos un ejemplo donde te devuelve la función predefinida min o max dependiendo de si el parámetro de entrada es par o no."
   ]
  },
  {
   "cell_type": "code",
   "execution_count": 34,
   "metadata": {},
   "outputs": [],
   "source": [
    "def min_or_max(x):\n",
    "    \"\"\"Return either the min or the max function.\"\"\"\n",
    "    if x % 2 == 0:\n",
    "        # sel es par\n",
    "        f = max\n",
    "    else:\n",
    "        # sel es impar\n",
    "        f = min\n",
    "    return f"
   ]
  },
  {
   "cell_type": "code",
   "execution_count": 35,
   "metadata": {},
   "outputs": [
    {
     "name": "stdout",
     "output_type": "stream",
     "text": [
      "<built-in function max>\n"
     ]
    }
   ],
   "source": [
    "f = min_or_max(2) # nos devuelve la función max por 2 es par\n",
    "print(f)"
   ]
  },
  {
   "cell_type": "code",
   "execution_count": 38,
   "metadata": {},
   "outputs": [
    {
     "name": "stdout",
     "output_type": "stream",
     "text": [
      "<built-in function min>\n"
     ]
    }
   ],
   "source": [
    "f = min_or_max(3) # nos devuelve la función min por el valor de entrada es impar\n",
    "print(f)"
   ]
  },
  {
   "cell_type": "markdown",
   "metadata": {},
   "source": [
    "## 3. Parámetros de entrada\n",
    "Formalmente, distinguimos entre parámetros y argumentos. Los parámetros son parte de la definición de la función, mientras que los argumentos son los valores que recibe la función en el momento de ejecutarla. Por ejemplo, en la la función `suma` que definimos antes, `x` e `y` son los parámetros de la función, y cuando hacemos la llamada `suma(3, 4)`, `3` y `4` son los argumentos.\n",
    "\n",
    "Informalmente, sin embargo, a menudo se utilizan ambos términos indistintamente."
   ]
  },
  {
   "cell_type": "markdown",
   "metadata": {},
   "source": [
    "A los parámetros fijos se les suele dar argumentos por posición o bien por su nombre (*keyword arguments*). Por ejemplo en `suma(x,y)` el primero que pongamos será el argumento del parámetro `x` y el segundo el de `y`, `suma(3, 4)`, o bien podemos lanzar la función con keyword arguments y entonces puedo cambiar el orden `suma(y = 3, x = 4)`."
   ]
  },
  {
   "cell_type": "code",
   "execution_count": 99,
   "metadata": {},
   "outputs": [
    {
     "name": "stdout",
     "output_type": "stream",
     "text": [
      "Result is: 7\n",
      "Result is: 7\n"
     ]
    }
   ],
   "source": [
    "def suma(x, y):\n",
    "    print(\"Result is: {}\".format(x + y))\n",
    "    \n",
    "suma(4, 3)             # positional arguments\n",
    "suma(y = 3, x = 4)     # keyword arguments"
   ]
  },
  {
   "cell_type": "markdown",
   "metadata": {},
   "source": [
    "### 3.1 Parámetros opcionales\n",
    "Los parámetros pueden ser opcionales o no, si son opcionales les daremos un valor por defecto. Siempre que haya un parámetro con un valor por defecto en una función es un parámetro opcional.  "
   ]
  },
  {
   "cell_type": "code",
   "execution_count": 39,
   "metadata": {},
   "outputs": [],
   "source": [
    "def suma(x, y, z = 0):\n",
    "    \"\"\" Returns sum of x and y and z if exists\"\"\"\n",
    "    return x + y + z "
   ]
  },
  {
   "cell_type": "code",
   "execution_count": 40,
   "metadata": {},
   "outputs": [
    {
     "name": "stdout",
     "output_type": "stream",
     "text": [
      "5\n",
      "10\n"
     ]
    }
   ],
   "source": [
    "# la función se ejecuta tanto si le das 2 como 3 parámetros\n",
    "print(suma(2, 3))\n",
    "\n",
    "print(suma(2, 3, 5))"
   ]
  },
  {
   "cell_type": "markdown",
   "metadata": {},
   "source": [
    "### \\*args\n",
    "Imaginad que no sabemos cuantos números queremos sumar, y preferimos dejar un número indeterminado de argumentos. Esto se puede hacer usando `*` en la definición de la función. Lo vemos con la función `suma` otra vez:\n"
   ]
  },
  {
   "cell_type": "code",
   "execution_count": 14,
   "metadata": {},
   "outputs": [],
   "source": [
    "def suma(x, y, *extra_arguments):\n",
    "    print(\"Argumentos obligatorios x e y: x = {}, y = {}\".format(x, y))\n",
    "    print(\"Argumentos adicionales: {}\".format(extra_arguments))\n",
    "    print(type(extra_arguments))\n",
    "    return x + y + sum(extra_arguments)"
   ]
  },
  {
   "cell_type": "code",
   "execution_count": 15,
   "metadata": {},
   "outputs": [
    {
     "name": "stdout",
     "output_type": "stream",
     "text": [
      "Argumentos obligatorios x e y: x = 3, y = 4\n",
      "Argumentos adicionales: (2, 5, 10, 3, 3, 4)\n",
      "<class 'tuple'>\n"
     ]
    },
    {
     "data": {
      "text/plain": [
       "34"
      ]
     },
     "execution_count": 15,
     "metadata": {},
     "output_type": "execute_result"
    }
   ],
   "source": [
    "suma(3, 4, 2, 5, 10, 3, 3, 4)"
   ]
  },
  {
   "cell_type": "markdown",
   "metadata": {},
   "source": [
    "Si los quiero añadir con nombre, porque la función necesita tener identificados esos parámetros, usaremos *keyword* arguments y entonces tenemos que usar `**` en la definición. Pero entonces los argumentos opcionales se guardan en un diccionario. "
   ]
  },
  {
   "cell_type": "code",
   "execution_count": 42,
   "metadata": {},
   "outputs": [],
   "source": [
    "def suma(x, y, **extra_arguments):\n",
    "    \"\"\" suma(x, y, **extra_arguments returns the sum of all given arguments \"\"\"\n",
    "    print(\"Argumentos obligatorios x e y: x={}, y={}\".format(x, y))\n",
    "    print(\"Argumentos adicionales: {}\".format(extra_arguments.values()))\n",
    "    print(type(extra_arguments))\n",
    "    return x + y + sum(extra_arguments.values())"
   ]
  },
  {
   "cell_type": "code",
   "execution_count": 43,
   "metadata": {},
   "outputs": [
    {
     "name": "stdout",
     "output_type": "stream",
     "text": [
      "Argumentos obligatorios x e y: x=3, y=4\n",
      "Argumentos adicionales: dict_values([2, 5, 10, 3])\n",
      "<class 'dict'>\n"
     ]
    },
    {
     "data": {
      "text/plain": [
       "27"
      ]
     },
     "execution_count": 43,
     "metadata": {},
     "output_type": "execute_result"
    }
   ],
   "source": [
    "suma(3, 4, z = 2, m = 5, v = 10, m2 = 3)"
   ]
  },
  {
   "cell_type": "markdown",
   "metadata": {},
   "source": [
    "## 4. Docstring\n",
    "Los *docstrings* son textos que contienen la documentación de las funciones. En algunas funciones de este notebook ya los hemos usado. Vemos algunos detalles y convenciones a la hora de escribirlos. Cualquier paquete o librería escrito en Python debería tener las funciones documentadas. Cuanto mejor estén, más fácil será usarlas.\n",
    "\n",
    "Nos debería dar información sobre los parámetros de entrada los de salida y qué operaciones realiza la función. Accedemos al *docstring* con `help`.  "
   ]
  },
  {
   "cell_type": "code",
   "execution_count": 114,
   "metadata": {},
   "outputs": [
    {
     "name": "stdout",
     "output_type": "stream",
     "text": [
      "Help on built-in function max in module builtins:\n",
      "\n",
      "max(...)\n",
      "    max(iterable, *[, default=obj, key=func]) -> value\n",
      "    max(arg1, arg2, *args, *[, key=func]) -> value\n",
      "    \n",
      "    With a single iterable argument, return its biggest item. The\n",
      "    default keyword-only argument specifies an object to return if\n",
      "    the provided iterable is empty.\n",
      "    With two or more arguments, return the largest argument.\n",
      "\n"
     ]
    }
   ],
   "source": [
    "help(max)"
   ]
  },
  {
   "cell_type": "code",
   "execution_count": 16,
   "metadata": {},
   "outputs": [],
   "source": [
    "def suma(x, y, **extra_arguments):\n",
    "    \"\"\" suma returns the sum of all given arguments \n",
    "        input_params:\n",
    "            x numerical\n",
    "            y numerical\n",
    "         optional_params:\n",
    "            extra_arguments numerical ()\n",
    "    \"\"\"\n",
    "    print(\"Argumentos obligatorios x e y: x={}, y={}\".format(x, y))\n",
    "    print(\"Argumentos adicionales: {}\".format(extra_arguments.values()))\n",
    "    print(type(extra_arguments))\n",
    "    return x + y + sum(extra_arguments.values())"
   ]
  },
  {
   "cell_type": "code",
   "execution_count": 17,
   "metadata": {},
   "outputs": [
    {
     "name": "stdout",
     "output_type": "stream",
     "text": [
      "Help on function suma in module __main__:\n",
      "\n",
      "suma(x, y, **extra_arguments)\n",
      "    suma(x, y, **extra_arguments returns the sum of all given arguments\n",
      "\n"
     ]
    }
   ],
   "source": [
    "# ahora miro la función que he definido yo \n",
    "help(suma)"
   ]
  },
  {
   "cell_type": "markdown",
   "metadata": {},
   "source": [
    "El que he hecho yo es un ejemplo de *docstring* mínimo, de una sola línea. Para funciones más complejas se suelen usar más líneas con detalles de cada parámetro tanto de entrada como de salida, de los errores que devuelve, etc. \n",
    "\n",
    "Las convenciones sobre el uso de docstring en Python se encuentran descritas en [PEP-257](https://www.python.org/dev/peps/pep-0257/). Aunque hay varios formatos usados, podéis ver un resumen en este [post](https://stackoverflow.com/questions/3898572/what-is-the-standard-python-docstring-format). "
   ]
  },
  {
   "cell_type": "markdown",
   "metadata": {},
   "source": [
    "## 5. Sanity Checks\n",
    "Es una buena costumbre controlar los posibles errores y por ejemplo hacer un check de los parametros de entrada de las funciones. Por ejemplo, comprobar que te los dan con el formato adecuado para evitar errores:"
   ]
  },
  {
   "cell_type": "code",
   "execution_count": 5,
   "metadata": {},
   "outputs": [],
   "source": [
    "def suma(x, y):\n",
    "    print(\"Result is: {}\".format(x + y))"
   ]
  },
  {
   "cell_type": "code",
   "execution_count": 6,
   "metadata": {},
   "outputs": [
    {
     "ename": "TypeError",
     "evalue": "can only concatenate str (not \"int\") to str",
     "output_type": "error",
     "traceback": [
      "\u001b[0;31m---------------------------------------------------------------------------\u001b[0m",
      "\u001b[0;31mTypeError\u001b[0m                                 Traceback (most recent call last)",
      "Cell \u001b[0;32mIn[6], line 1\u001b[0m\n\u001b[0;32m----> 1\u001b[0m \u001b[43msuma\u001b[49m\u001b[43m(\u001b[49m\u001b[38;5;124;43m'\u001b[39;49m\u001b[38;5;124;43mlala\u001b[39;49m\u001b[38;5;124;43m'\u001b[39;49m\u001b[43m,\u001b[49m\u001b[38;5;241;43m3\u001b[39;49m\u001b[43m)\u001b[49m\n",
      "Cell \u001b[0;32mIn[5], line 2\u001b[0m, in \u001b[0;36msuma\u001b[0;34m(x, y)\u001b[0m\n\u001b[1;32m      1\u001b[0m \u001b[38;5;28;01mdef\u001b[39;00m \u001b[38;5;21msuma\u001b[39m(x, y):\n\u001b[0;32m----> 2\u001b[0m     \u001b[38;5;28mprint\u001b[39m(\u001b[38;5;124m\"\u001b[39m\u001b[38;5;124mResult is: \u001b[39m\u001b[38;5;132;01m{}\u001b[39;00m\u001b[38;5;124m\"\u001b[39m\u001b[38;5;241m.\u001b[39mformat(\u001b[43mx\u001b[49m\u001b[43m \u001b[49m\u001b[38;5;241;43m+\u001b[39;49m\u001b[43m \u001b[49m\u001b[43my\u001b[49m))\n",
      "\u001b[0;31mTypeError\u001b[0m: can only concatenate str (not \"int\") to str"
     ]
    }
   ],
   "source": [
    "suma('lala',3)"
   ]
  },
  {
   "cell_type": "code",
   "execution_count": 7,
   "metadata": {},
   "outputs": [],
   "source": [
    "def suma(x,y):\n",
    "    if isinstance(x,str) or isinstance(y,str):\n",
    "        print('Los valores tienen que ser numéricos')\n",
    "    else:\n",
    "        print(\"Result is: {}\".format(x + y))"
   ]
  },
  {
   "cell_type": "code",
   "execution_count": 8,
   "metadata": {},
   "outputs": [
    {
     "name": "stdout",
     "output_type": "stream",
     "text": [
      "Los valores tienen que ser numéricos\n"
     ]
    }
   ],
   "source": [
    "suma('lala',3)"
   ]
  },
  {
   "cell_type": "markdown",
   "metadata": {},
   "source": [
    "## 6. Ejercicios para practicar\n",
    "Vemos algunos ejercicios para practicar lo que hemos dado en esta notebook. "
   ]
  },
  {
   "cell_type": "markdown",
   "metadata": {},
   "source": [
    "**1.** Escribe una función llamada **es_par** que tome un número entero como parámetro y devuelva True si el número es par, y False en caso contrario. Prueba la función con diferentes entradas."
   ]
  },
  {
   "cell_type": "markdown",
   "metadata": {},
   "source": [
    "**2.** Queremos calcular el máximo y el mínimo de un set de datos, pero a veces tienen 'nan' y a veces no. Para hacer eso haremos los siguiente:\n",
    "\n",
    "- Definid dos funciones que se llame maxmin una que calcule el máximo y el mínimo sin tener en cuenta si hay nans, y otra que se llame maxminNans que si lo tenga en cuenta.\n",
    "-  Haced una función que se llame maxminChecked que lea unos datos y devuelva la función maxmin si no hay nans y la función maxMinNans si hay Nans en esos datos. \n",
    "- Ejecuta la función maxminChecked sobre estos datos\n",
    "\n",
    " data1 = [3, 4, 5, 12, -1, 5, 3]\n",
    " \n",
    " data2 = [2, 3, 4, 5, 0, 12, -2, 'nan']\n"
   ]
  },
  {
   "cell_type": "code",
   "execution_count": null,
   "metadata": {},
   "outputs": [],
   "source": [
    "# Ejercicio"
   ]
  },
  {
   "cell_type": "markdown",
   "metadata": {},
   "source": [
    "¿Podrías hacer este ejercicio de una manera más sencilla? ¿Como lo harías?\n",
    "\n",
    "**para discutir**"
   ]
  },
  {
   "cell_type": "code",
   "execution_count": 16,
   "metadata": {},
   "outputs": [],
   "source": [
    "# Código\n"
   ]
  },
  {
   "cell_type": "markdown",
   "metadata": {},
   "source": [
    "**3.** Escribe un docstring de los descritos en este [post](https://stackoverflow.com/questions/3898572/what-is-the-standard-python-docstring-format). completo para la siguiente función\n",
    "y comprueba que sale lo esperado usando el comando `help(media_y_maximo)`:\n",
    "\n"
   ]
  },
  {
   "cell_type": "code",
   "execution_count": 14,
   "metadata": {},
   "outputs": [
    {
     "name": "stdout",
     "output_type": "stream",
     "text": [
      "Help on function media_y_maximo in module __main__:\n",
      "\n",
      "media_y_maximo(datos)\n",
      "\n"
     ]
    }
   ],
   "source": [
    "def media_y_maximo(datos):  # podríamos añadirle los nan o cualquier otra cosa\n",
    "    suma = 0\n",
    "    num_nans = datos.count('nan')  # uso función count de las listas\n",
    "    num_datos = len(datos) - num_nans\n",
    "    for d in datos:\n",
    "           suma += d \n",
    "    maximo = max(datos)\n",
    "    return suma/num_datos, maximo\n",
    "\n",
    "help(media_y_maximo)"
   ]
  },
  {
   "cell_type": "markdown",
   "metadata": {},
   "source": [
    "**4.** Añade algún sanity check en esta misma función, por ejemplo que los datos tienen que ser una lista.\n",
    "\n",
    "**para discutir**"
   ]
  },
  {
   "cell_type": "code",
   "execution_count": 15,
   "metadata": {},
   "outputs": [],
   "source": [
    "#Código"
   ]
  },
  {
   "cell_type": "markdown",
   "metadata": {},
   "source": [
    "**5.** Haz una función que dada una lista, la ordene y te devuelva la primera palabra de esa lista:\n",
    "\n",
    "Aplica esta función a la lista: ['Bangkok','Barcelona','Beijing','BuenosAires','Berlin','Badajoz','Barakaldo','Barcena','Burgos','Bilbao','Baena']"
   ]
  },
  {
   "cell_type": "code",
   "execution_count": 16,
   "metadata": {},
   "outputs": [],
   "source": [
    "#Código"
   ]
  }
 ],
 "metadata": {
  "kernelspec": {
   "display_name": "Python 3 (ipykernel)",
   "language": "python",
   "name": "python3"
  },
  "language_info": {
   "codemirror_mode": {
    "name": "ipython",
    "version": 3
   },
   "file_extension": ".py",
   "mimetype": "text/x-python",
   "name": "python",
   "nbconvert_exporter": "python",
   "pygments_lexer": "ipython3",
   "version": "3.9.12"
  }
 },
 "nbformat": 4,
 "nbformat_minor": 2
}
