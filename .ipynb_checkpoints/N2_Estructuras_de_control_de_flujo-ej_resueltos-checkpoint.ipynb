{
 "cells": [
  {
   "cell_type": "markdown",
   "metadata": {},
   "source": [
    "# Estructuras de control de flujo\n",
    "Aquí damos unas pinceladas de como son las estructuras de control de flujo en **Python** y como se definen las funciones. Las estructuras de control de ejecución gestionan como se va ejecutando el programa.  En esta notebook veremos: \n",
    "\n",
    "<ul style=\"list-style-type:none\">\n",
    "    <li><a href='#1.-if/elif/else'>1. if/elif/else</a></li>\n",
    "    <li><a href='#2.-for/while'>2. for/while</a></li>\n",
    "    <ul style=\"list-style-type:none\">\n",
    "        <li><a href=\"#2.1-Iteración-en-listas-y-diccionarios\">2.1. Iteración en listas y diccionarios</a></li>\n",
    "    </ul>\n",
    "    <li><a href=\"#3.-Ejercicios-para-practicar\">3. Ejercicios </a></li>\n",
    "    <ul style=\"list-style-type:none\">\n",
    "</ul>"
   ]
  },
  {
   "cell_type": "markdown",
   "metadata": {},
   "source": [
    "Si no decimos nada, el programa se ejecuta secuencialmente línea a línea (en una notebook, en orden de celda ejecutada). Pero hay instrucciones que podemos dar para que no ejecute alguna parte o que repita algunas secuencias. "
   ]
  },
  {
   "cell_type": "markdown",
   "metadata": {},
   "source": [
    "Esto hace que el código sea más leíble y limpio. Se usan las tabulaciones para saber cuando se sale de una estructura de control.  "
   ]
  },
  {
   "cell_type": "markdown",
   "metadata": {},
   "source": [
    "## 1. Expresiones de condición"
   ]
  },
  {
   "cell_type": "code",
   "execution_count": 1,
   "metadata": {},
   "outputs": [
    {
     "data": {
      "text/plain": [
       "True"
      ]
     },
     "execution_count": 1,
     "metadata": {},
     "output_type": "execute_result"
    }
   ],
   "source": [
    "x = 5\n",
    "x == 5"
   ]
  },
  {
   "cell_type": "code",
   "execution_count": 2,
   "metadata": {},
   "outputs": [
    {
     "data": {
      "text/plain": [
       "False"
      ]
     },
     "execution_count": 2,
     "metadata": {},
     "output_type": "execute_result"
    }
   ],
   "source": [
    "x != 5"
   ]
  },
  {
   "cell_type": "code",
   "execution_count": 3,
   "metadata": {},
   "outputs": [
    {
     "data": {
      "text/plain": [
       "False"
      ]
     },
     "execution_count": 3,
     "metadata": {},
     "output_type": "execute_result"
    }
   ],
   "source": [
    "x <= 2"
   ]
  },
  {
   "cell_type": "code",
   "execution_count": 4,
   "metadata": {},
   "outputs": [
    {
     "data": {
      "text/plain": [
       "True"
      ]
     },
     "execution_count": 4,
     "metadata": {},
     "output_type": "execute_result"
    }
   ],
   "source": [
    "x > 2"
   ]
  },
  {
   "cell_type": "code",
   "execution_count": 5,
   "metadata": {},
   "outputs": [
    {
     "data": {
      "text/plain": [
       "True"
      ]
     },
     "execution_count": 5,
     "metadata": {},
     "output_type": "execute_result"
    }
   ],
   "source": [
    "1 < x <= 6"
   ]
  },
  {
   "cell_type": "code",
   "execution_count": 7,
   "metadata": {},
   "outputs": [
    {
     "data": {
      "text/plain": [
       "True"
      ]
     },
     "execution_count": 7,
     "metadata": {},
     "output_type": "execute_result"
    }
   ],
   "source": [
    "\"hola\" == \"ho\"+\"la\""
   ]
  },
  {
   "cell_type": "code",
   "execution_count": 8,
   "metadata": {},
   "outputs": [
    {
     "data": {
      "text/plain": [
       "False"
      ]
     },
     "execution_count": 8,
     "metadata": {},
     "output_type": "execute_result"
    }
   ],
   "source": [
    "\"hola\" == \"Hola\""
   ]
  },
  {
   "cell_type": "code",
   "execution_count": 9,
   "metadata": {},
   "outputs": [
    {
     "data": {
      "text/plain": [
       "True"
      ]
     },
     "execution_count": 9,
     "metadata": {},
     "output_type": "execute_result"
    }
   ],
   "source": [
    "'h' in \"hola\""
   ]
  },
  {
   "cell_type": "code",
   "execution_count": 10,
   "metadata": {},
   "outputs": [
    {
     "data": {
      "text/plain": [
       "True"
      ]
     },
     "execution_count": 10,
     "metadata": {},
     "output_type": "execute_result"
    }
   ],
   "source": [
    "4 in [2,4]"
   ]
  },
  {
   "cell_type": "code",
   "execution_count": 11,
   "metadata": {},
   "outputs": [
    {
     "data": {
      "text/plain": [
       "False"
      ]
     },
     "execution_count": 11,
     "metadata": {},
     "output_type": "execute_result"
    }
   ],
   "source": [
    "3 in [2,4]"
   ]
  },
  {
   "cell_type": "code",
   "execution_count": 136,
   "metadata": {},
   "outputs": [
    {
     "data": {
      "text/plain": [
       "False"
      ]
     },
     "execution_count": 136,
     "metadata": {},
     "output_type": "execute_result"
    }
   ],
   "source": [
    "2 in {'a': 2}"
   ]
  },
  {
   "cell_type": "code",
   "execution_count": 104,
   "metadata": {},
   "outputs": [
    {
     "data": {
      "text/plain": [
       "True"
      ]
     },
     "execution_count": 104,
     "metadata": {},
     "output_type": "execute_result"
    }
   ],
   "source": [
    "'a' in {'a': 2}"
   ]
  },
  {
   "cell_type": "code",
   "execution_count": 13,
   "metadata": {},
   "outputs": [
    {
     "data": {
      "text/plain": [
       "True"
      ]
     },
     "execution_count": 13,
     "metadata": {},
     "output_type": "execute_result"
    }
   ],
   "source": [
    "(x > 3) or (x < 2)   # también válido |"
   ]
  },
  {
   "cell_type": "code",
   "execution_count": 108,
   "metadata": {},
   "outputs": [
    {
     "data": {
      "text/plain": [
       "False"
      ]
     },
     "execution_count": 108,
     "metadata": {},
     "output_type": "execute_result"
    }
   ],
   "source": [
    "(x > 3) and (x < 2)  # también válido &"
   ]
  },
  {
   "cell_type": "markdown",
   "metadata": {},
   "source": [
    "## 1. if/elif/else\n",
    "La instrucción [`if`](https://docs.python.org/3.8/tutorial/controlflow.html#if-statements) nos permite ejecutar un bloque de código si se cumple una determinada condición. Si no se cumple, esa parte no se ejecuta y el código se sigue ejecutando desde la siguiente línea con la misma tabulación. Siempre se termina la orden con `:`.\n"
   ]
  },
  {
   "cell_type": "code",
   "execution_count": 8,
   "metadata": {},
   "outputs": [
    {
     "name": "stdout",
     "output_type": "stream",
     "text": [
      "El valor absoluto de -10 es 10\n"
     ]
    }
   ],
   "source": [
    "# Valor absoluto |x|\n",
    "x = -10\n",
    "absx = x\n",
    "if x < 0:\n",
    "    absx = -x\n",
    "\n",
    "    #...\n",
    "print('El valor absoluto de %d es %d' % (x,absx))"
   ]
  },
  {
   "cell_type": "markdown",
   "metadata": {},
   "source": [
    "Usamos `else` o `elif` para que ejecute otra parte del código si no se cumple la condición"
   ]
  },
  {
   "cell_type": "code",
   "execution_count": 7,
   "metadata": {},
   "outputs": [
    {
     "name": "stdout",
     "output_type": "stream",
     "text": [
      "El valor absoluto de -10 es 10\n",
      "\n",
      "El valor absoluto de 7 es 7\n",
      "\n"
     ]
    }
   ],
   "source": [
    "# Valor absoluto |x|\n",
    "x = -10\n",
    "if x < 0:\n",
    "    absx = -x\n",
    "else:\n",
    "    absx = x\n",
    "\n",
    "print('El valor absoluto de %d es %d\\n' % (x,absx))\n",
    "\n",
    "x = 7\n",
    "\n",
    "if x < 0:\n",
    "    y = -x\n",
    "elif x > 0:\n",
    "    y = x\n",
    "else:\n",
    "    y = 0\n",
    "    \n",
    "print('El valor absoluto de %d es %d\\n' % (x,y))"
   ]
  },
  {
   "cell_type": "markdown",
   "metadata": {},
   "source": [
    "Manera más *Pythonic* de hacerlo:"
   ]
  },
  {
   "cell_type": "code",
   "execution_count": 14,
   "metadata": {},
   "outputs": [
    {
     "data": {
      "text/plain": [
       "10"
      ]
     },
     "execution_count": 14,
     "metadata": {},
     "output_type": "execute_result"
    }
   ],
   "source": [
    "abs(x)"
   ]
  },
  {
   "cell_type": "markdown",
   "metadata": {},
   "source": [
    "## 2. for/while\n",
    "Las secuencias de control iterativas (*loops* en inglés) nos permiten repetir un trozo de código un número determinado de veces (`for`) o cuando se cumple una condición (`while` y `for`). Vemos unos ejemplos"
   ]
  },
  {
   "cell_type": "code",
   "execution_count": 11,
   "metadata": {},
   "outputs": [
    {
     "name": "stdout",
     "output_type": "stream",
     "text": [
      "La suma de los 10 primeros numeros naturales es 55\n",
      "\n",
      "La suma de los 10 primeros numeros naturales es 55\n",
      "\n"
     ]
    }
   ],
   "source": [
    "# Suma de los N primeros terminos:\n",
    "N = 1000\n",
    "contador = 0\n",
    "suma = 0\n",
    "\n",
    "while contador <= N:\n",
    "    suma = suma + contador\n",
    "    contador = contador + 1\n",
    "\n",
    "print('Con While La suma de los %d primeros numeros naturales es %d\\n' % (N,suma))\n",
    "\n",
    "# Comando equivalente con la orden for\n",
    "N = 1000\n",
    "suma = 0\n",
    "for contador in range(N):\n",
    "    suma = suma + contador + 1\n",
    "print('Con for La suma de los %d primeros numeros naturales es %d\\n' % (N,suma))"
   ]
  },
  {
   "cell_type": "markdown",
   "metadata": {},
   "source": [
    "Manera más *Pythonic*"
   ]
  },
  {
   "cell_type": "code",
   "execution_count": 13,
   "metadata": {},
   "outputs": [
    {
     "data": {
      "text/plain": [
       "55"
      ]
     },
     "execution_count": 13,
     "metadata": {},
     "output_type": "execute_result"
    }
   ],
   "source": [
    "N=10\n",
    "sum(range(N+1))"
   ]
  },
  {
   "cell_type": "markdown",
   "metadata": {},
   "source": [
    "Mezclamos ambas estructuras:\n",
    "\n"
   ]
  },
  {
   "cell_type": "code",
   "execution_count": 17,
   "metadata": {},
   "outputs": [
    {
     "name": "stdout",
     "output_type": "stream",
     "text": [
      "cuenta adelante  0\n",
      "cuenta adelante  1\n",
      "cuenta adelante  2\n",
      "cuenta adelante  3\n",
      "cuenta adelante  4\n",
      "cuenta adelante  5\n",
      "cuenta atrás     4\n",
      "cuenta atrás     3\n",
      "cuenta atrás     2\n",
      "cuenta atrás     1\n",
      "cuenta atrás     0\n"
     ]
    }
   ],
   "source": [
    "N = 10\n",
    "for i in range(N + 1):\n",
    "    if i <= 5:\n",
    "        print('cuenta adelante ',i)\n",
    "    else:\n",
    "        print('cuenta atrás    ',N - i)"
   ]
  },
  {
   "cell_type": "markdown",
   "metadata": {},
   "source": [
    "El bucle for se puede hacer en intérvalos distintos a 1,  \n",
    "`range(ini, end, step)` o al revés: "
   ]
  },
  {
   "cell_type": "code",
   "execution_count": 77,
   "metadata": {},
   "outputs": [
    {
     "name": "stdout",
     "output_type": "stream",
     "text": [
      "2\n",
      "5\n",
      "8\n"
     ]
    }
   ],
   "source": [
    "\n",
    "N = 10\n",
    "for i in range(2, N+1, 3):\n",
    "    print(i)"
   ]
  },
  {
   "cell_type": "code",
   "execution_count": 119,
   "metadata": {},
   "outputs": [
    {
     "name": "stdout",
     "output_type": "stream",
     "text": [
      "9\n",
      "7\n",
      "5\n",
      "3\n",
      "1\n"
     ]
    }
   ],
   "source": [
    "for i in reversed(range(1,10,2)):\n",
    "    print(i)"
   ]
  },
  {
   "cell_type": "markdown",
   "metadata": {},
   "source": [
    "## 2.1 Iteración en listas y diccionarios \n",
    "Tanto las tuplas, las strings, las listas como los diccionarios son iterables. Un objeto **iterable** es aquel que podemos recorrer hasta que no quedan más elementos. "
   ]
  },
  {
   "cell_type": "code",
   "execution_count": 120,
   "metadata": {},
   "outputs": [
    {
     "name": "stdout",
     "output_type": "stream",
     "text": [
      "apple\n",
      "orange\n",
      "apple\n",
      "pear\n",
      "orange\n",
      "banana\n"
     ]
    }
   ],
   "source": [
    "#podemos acceder directamente a los elementos de los iterables, como una lista\n",
    "\n",
    "basket = ['apple', 'orange', 'apple', 'pear', 'orange', 'banana']\n",
    "for fruit in basket:\n",
    "    print(fruit)\n"
   ]
  },
  {
   "cell_type": "code",
   "execution_count": 121,
   "metadata": {},
   "outputs": [
    {
     "name": "stdout",
     "output_type": "stream",
     "text": [
      "0 apple\n",
      "1 orange\n",
      "2 apple\n",
      "3 pear\n",
      "4 orange\n",
      "5 banana\n"
     ]
    }
   ],
   "source": [
    "# a veces nos puede interesar saber también \n",
    "# el número de iteración. Podemos usar enumerate \n",
    "for i, elem in enumerate(basket):\n",
    "    print(i,elem)"
   ]
  },
  {
   "cell_type": "code",
   "execution_count": 19,
   "metadata": {},
   "outputs": [
    {
     "name": "stdout",
     "output_type": "stream",
     "text": [
      "dictionary keys\n",
      "a\n",
      "b\n",
      "c\n"
     ]
    }
   ],
   "source": [
    "# o un diccionario\n",
    "dict_0 = {\"a\": 0, \"b\": 1, \"c\": 2}\n",
    "\n",
    "print('dictionary keys')\n",
    "for elem in dict_0.keys():  # equivalente a dict_0\n",
    "    print(elem)      \n"
   ]
  },
  {
   "cell_type": "code",
   "execution_count": 20,
   "metadata": {},
   "outputs": [
    {
     "name": "stdout",
     "output_type": "stream",
     "text": [
      "dictionary values\n",
      "0\n",
      "1\n",
      "2\n"
     ]
    }
   ],
   "source": [
    "print('dictionary values')\n",
    "for elem in dict_0.values():\n",
    "    print(elem)\n",
    "\n"
   ]
  },
  {
   "cell_type": "code",
   "execution_count": 21,
   "metadata": {},
   "outputs": [
    {
     "name": "stdout",
     "output_type": "stream",
     "text": [
      "dictionary elements\n",
      "('a', 0)\n",
      "('b', 1)\n",
      "('c', 2)\n"
     ]
    }
   ],
   "source": [
    "print('dictionary elements')\n",
    "for elem in dict_0.items():\n",
    "    print(elem) "
   ]
  },
  {
   "cell_type": "markdown",
   "metadata": {},
   "source": [
    "### List and dict comprehensions\n",
    "Cuando queremos generar una lista o un diccionario con las iteraciones de un for se pueden escribir de manera más compacta y a veces más eficiente usando **list** and **dict comprehensions**.  \n",
    "\n",
    "Por ejemplo: "
   ]
  },
  {
   "cell_type": "code",
   "execution_count": 22,
   "metadata": {},
   "outputs": [
    {
     "name": "stdout",
     "output_type": "stream",
     "text": [
      "[0, 2, 4, 6, 8, 10]\n"
     ]
    }
   ],
   "source": [
    "#en vez de \n",
    "l = [] \n",
    "N = 5\n",
    "for i in range(N + 1):\n",
    "    l.append(i * 2)  \n",
    "print(l)"
   ]
  },
  {
   "cell_type": "markdown",
   "metadata": {},
   "source": [
    "Se puede poner de manera más compacta con una *list comprehension*:"
   ]
  },
  {
   "cell_type": "code",
   "execution_count": 23,
   "metadata": {},
   "outputs": [
    {
     "data": {
      "text/plain": [
       "[0, 2, 4, 6, 8, 10]"
      ]
     },
     "execution_count": 23,
     "metadata": {},
     "output_type": "execute_result"
    }
   ],
   "source": [
    "# escribimos en una sola línea\n",
    "l2 = [i * 2 for i in range(N+1)]\n",
    "l2"
   ]
  },
  {
   "cell_type": "markdown",
   "metadata": {},
   "source": [
    "La estructura de control dentro de una list comprehension puede tener condiciones:"
   ]
  },
  {
   "cell_type": "code",
   "execution_count": 24,
   "metadata": {},
   "outputs": [
    {
     "name": "stdout",
     "output_type": "stream",
     "text": [
      "[0, 2, 4, 9, 12]\n"
     ]
    }
   ],
   "source": [
    "l = [i*2 if i < 3 else i*3 for i in range(N)]\n",
    "print(l)"
   ]
  },
  {
   "cell_type": "markdown",
   "metadata": {},
   "source": [
    "Y lo mismo se puede hacer con los diccionarios.:"
   ]
  },
  {
   "cell_type": "code",
   "execution_count": 25,
   "metadata": {},
   "outputs": [
    {
     "name": "stdout",
     "output_type": "stream",
     "text": [
      "old dict {'a': 0, 'b': 1, 'c': 2}\n",
      "new dict with values multiplied by 2 {'a': 3, 'b': 5, 'c': 7}\n"
     ]
    }
   ],
   "source": [
    "dict_0 = {\"a\": 0, \"b\": 1, \"c\": 2}\n",
    "\n",
    "dict_new = {k: v*2 + 3 for (k, v) in dict_0.items()}  # en k habrás las claves y en v los valores\n",
    "\n",
    "print('old dict',dict_0)\n",
    "print('new dict with values multiplied by 2', dict_new)"
   ]
  },
  {
   "cell_type": "markdown",
   "metadata": {},
   "source": [
    "List and dict comprehensions interesantes si hay pocas operaciones a realizar, si no pierde interés ya que cuesta leer, hay que escribirlas en varias líneas y pierde eficiencia. "
   ]
  },
  {
   "cell_type": "markdown",
   "metadata": {},
   "source": [
    "# 3. Ejercicios para practicar"
   ]
  },
  {
   "cell_type": "markdown",
   "metadata": {},
   "source": [
    "**1.** Tienes los siguientes diccionarios:"
   ]
  },
  {
   "cell_type": "code",
   "execution_count": 12,
   "metadata": {},
   "outputs": [],
   "source": [
    "maria = { \n",
    "    'nombre' : 'Maria',\n",
    "    'tareas' : [9.3, 7.8, 6.9],\n",
    "    'examenes' : [8.4, 7.2],\n",
    "    'tests' : [8.4, 7.9, 8.3, 7.5]\n",
    "}\n",
    "\n",
    "juan = { \n",
    "    'nombre' : 'Juan',\n",
    "    'tareas' : [6.4, 2.5, 4.9],\n",
    "    'examenes' : [5.4, 5.3],\n",
    "    'tests' : [6.0, 7.0, 5.4, 6.3]\n",
    "}\n",
    "\n",
    "elsa = { \n",
    "    'nombre' : 'Elsa',\n",
    "    'tareas' : [9.0, 9.5, 8.4],\n",
    "    'examenes' : [9.2, 7.5],\n",
    "    'tests' : [8.2, 7.3, 6.4, 6.3]\n",
    "}\n",
    "\n",
    "\n",
    "\n"
   ]
  },
  {
   "cell_type": "markdown",
   "metadata": {},
   "source": [
    "Haz una lista llamada `estudiantes` con estos 3 diccionarios. Calcula la media de la nota de las tareas, examanes y tests de cada estudiante y la media global (la media de las 3 notas). \n",
    "\n",
    "Ejemplo *output*:\n",
    "\n",
    "Notas medias de Sara, 2.8 en tareas, 5.4 en exámenes y 6.3 en tests. \n",
    "\n",
    "Media total: 4.83"
   ]
  },
  {
   "cell_type": "code",
   "execution_count": 13,
   "metadata": {},
   "outputs": [
    {
     "name": "stdout",
     "output_type": "stream",
     "text": [
      "[9.3, 7.8, 6.9]\n",
      "Maria\n",
      "tareas: 8.0\n",
      "examenes: 7.800000000000001\n",
      "tests: 8.025\n",
      "Juan\n",
      "tareas: 4.6000000000000005\n",
      "examenes: 5.35\n",
      "tests: 6.175\n",
      "Elsa\n",
      "tareas: 8.966666666666667\n",
      "examenes: 8.35\n",
      "tests: 7.05\n",
      "la media de los examenes es: 7.166666666666667\n"
     ]
    }
   ],
   "source": [
    "# Posible solución\n",
    "\n",
    "maria = { \n",
    "    'nombre' : 'Maria',\n",
    "    'tareas' : [9.3, 7.8, 6.9],\n",
    "    'examenes' : [8.4, 7.2],\n",
    "    'tests' : [8.4, 7.9, 8.3, 7.5]\n",
    "}\n",
    " \n",
    "juan = { \n",
    "    'nombre' : 'Juan',\n",
    "    'tareas' : [6.4, 2.5, 4.9],\n",
    "    'examenes' : [5.4, 5.3],\n",
    "    'tests' : [6.0, 7.0, 5.4, 6.3]\n",
    "}\n",
    " \n",
    "elsa = { \n",
    "    'nombre' : 'Elsa',\n",
    "    'tareas' : [9.0, 9.5, 8.4],\n",
    "    'examenes' : [9.2, 7.5],\n",
    "    'tests' : [8.2, 7.3, 6.4, 6.3]\n",
    "}\n",
    " \n",
    "estudiantes = [maria, juan, elsa]\n",
    " \n",
    "print(estudiantes[0][\"tareas\"])\n",
    " \n",
    "acumulado = 0.0\n",
    " \n",
    "for estudiante in estudiantes:\n",
    "    m_tareas = .0\n",
    "    m_examenes = 0.0\n",
    "    m_tests = 0.0\n",
    "    for tarea in estudiante[\"tareas\"]:\n",
    "        m_tareas += tarea\n",
    "    for examen in estudiante[\"examenes\"]:\n",
    "        m_examenes += examen\n",
    "    for test in estudiante[\"tests\"]:\n",
    "        m_tests += test\n",
    "    print(estudiante['nombre'])    \n",
    "    print(\"tareas: \" + str(m_tareas/len(estudiante[\"tareas\"])))\n",
    "    print(\"examenes: \" + str(m_examenes/len(estudiante[\"examenes\"])))\n",
    "    print(\"tests: \" + str(m_tests/len(estudiante[\"tests\"])))\n",
    "\n",
    "    acumulado += m_examenes/len(estudiante[\"examenes\"])\n",
    "\n",
    "print('la media de los examenes es: ' + str(acumulado/len(estudiantes)))\n",
    "\n"
   ]
  },
  {
   "cell_type": "markdown",
   "metadata": {},
   "source": [
    "**2.** Calcula la suma de los primers 100 números pares. "
   ]
  },
  {
   "cell_type": "code",
   "execution_count": 10,
   "metadata": {},
   "outputs": [
    {
     "name": "stdout",
     "output_type": "stream",
     "text": [
      "2500\n"
     ]
    }
   ],
   "source": [
    "# Escribe código\n",
    "\n",
    "# Propuesta solución\n",
    "\n",
    "n = 1\n",
    "suma = 0\n",
    "while n <= 100:\n",
    "    suma = n + suma\n",
    "    n += 2\n",
    "print(suma)"
   ]
  },
  {
   "cell_type": "markdown",
   "metadata": {},
   "source": [
    "**3.** Contad y guardad en un diccionario el número de veces que aparece cada palabra en el siguiente texto, usando estructuras de control de flujo:\n",
    "\n",
    "*el gato al rato, el rato a la cuerda, la cuerda al palo, daba el arriero a Sancho, Sancho a la moza, la moza a él, el ventero a la moza...*\n",
    "\n",
    "Recordatorio: En la notebook N1, tenéis métodos de las **string** que os pueden ser útiles. "
   ]
  },
  {
   "cell_type": "code",
   "execution_count": 44,
   "metadata": {},
   "outputs": [],
   "source": [
    "text = 'el gato al rato, el rato a la cuerda, la cuerda al palo, daba el arriero a Sancho,'\n",
    "text += 'Sancho a la moza, la moza a él, el ventero a la moza...'\n",
    "\n",
    "# escribe código\n",
    "\n",
    "text = 'el gato al rato, el rato a la cuerda, la cuerda al palo, daba el arriero a Sancho,'\n",
    "text += 'Sancho a la moza, la moza a él, el ventero a la moza...'\n",
    "\n",
    "\n",
    "\n",
    "# escribe código\n",
    "palabras = text.split()\n",
    "for pal in palabras:\n",
    "ocurrencias=text.count(pal)\n",
    "print(\"La palabra \" + pal + \" aparece \" + format(ocurrencias))"
   ]
  },
  {
   "cell_type": "markdown",
   "metadata": {},
   "source": [
    "**4.** Compara qué código es más eficinete. Utiliza el comando %%timeit descrito en el siguiente [link](https://ipython.org/ipython-doc/dev/interactive/magics.html#magic-timeit). Seguro que puedes optimizar el código, inéntalo. "
   ]
  },
  {
   "cell_type": "code",
   "execution_count": 44,
   "metadata": {},
   "outputs": [],
   "source": [
    "names = [\"Burgos\", \"Santander\", \"Palencia\", \"Asturias\", \"Madrid\", \"Salamanca\", \"Avila\", \"Barceloa\", \"Paris\"]\n",
    "\n",
    "# for-loop.\n",
    "i = 0\n",
    "while i < 100000:\n",
    "    count = 0\n",
    "    # Loop.\n",
    "    for name in names:\n",
    "        count += len(name)\n",
    "    i = i + 1\n",
    "\n",
    "# while-loop.\n",
    "i = 0\n",
    "while i < 100000:\n",
    "    count = 0\n",
    "    # Loop.\n",
    "    x = 0\n",
    "    while x < len(names):\n",
    "        count += len(names[x])\n",
    "        x = x + 1\n",
    "    i = i + 1"
   ]
  },
  {
   "cell_type": "code",
   "execution_count": null,
   "metadata": {},
   "outputs": [],
   "source": [
    "%%timeit\n",
    "i = 0\n",
    "while i < 100000:\n",
    "    count = 0\n",
    "    # Loop.\n",
    "    for name in names:\n",
    "        count += len(name)\n",
    "    i = i + 1"
   ]
  },
  {
   "cell_type": "code",
   "execution_count": null,
   "metadata": {},
   "outputs": [],
   "source": [
    "%%timeit\n",
    "# while-loop.\n",
    "i = 0\n",
    "while i < 100000:\n",
    "    count = 0\n",
    "    # Loop.\n",
    "    x = 0\n",
    "    while x < len(names):\n",
    "        count += len(names[x])\n",
    "        x = x + 1\n",
    "    i = i + 1"
   ]
  },
  {
   "cell_type": "code",
   "execution_count": 50,
   "metadata": {},
   "outputs": [
    {
     "ename": "KeyboardInterrupt",
     "evalue": "",
     "output_type": "error",
     "traceback": [
      "\u001b[0;31m---------------------------------------------------------------------------\u001b[0m",
      "\u001b[0;31mKeyboardInterrupt\u001b[0m                         Traceback (most recent call last)",
      "\u001b[0;32m/var/folders/8n/8gxx65_52xq17qlkhphqy2hm0000gn/T/ipykernel_68996/1960417664.py\u001b[0m in \u001b[0;36m<module>\u001b[0;34m\u001b[0m\n\u001b[0;32m----> 1\u001b[0;31m \u001b[0mget_ipython\u001b[0m\u001b[0;34m(\u001b[0m\u001b[0;34m)\u001b[0m\u001b[0;34m.\u001b[0m\u001b[0mrun_cell_magic\u001b[0m\u001b[0;34m(\u001b[0m\u001b[0;34m'timeit'\u001b[0m\u001b[0;34m,\u001b[0m \u001b[0;34m''\u001b[0m\u001b[0;34m,\u001b[0m \u001b[0;34m'# propuesta de mejora\\n\\nfor i in range(100000):\\n    count = 0\\n    for name in names:\\n        count += len(name)\\n'\u001b[0m\u001b[0;34m)\u001b[0m\u001b[0;34m\u001b[0m\u001b[0;34m\u001b[0m\u001b[0m\n\u001b[0m",
      "\u001b[0;32m/usr/local/lib/python3.9/site-packages/IPython/core/interactiveshell.py\u001b[0m in \u001b[0;36mrun_cell_magic\u001b[0;34m(self, magic_name, line, cell)\u001b[0m\n\u001b[1;32m   2401\u001b[0m             \u001b[0;32mwith\u001b[0m \u001b[0mself\u001b[0m\u001b[0;34m.\u001b[0m\u001b[0mbuiltin_trap\u001b[0m\u001b[0;34m:\u001b[0m\u001b[0;34m\u001b[0m\u001b[0;34m\u001b[0m\u001b[0m\n\u001b[1;32m   2402\u001b[0m                 \u001b[0margs\u001b[0m \u001b[0;34m=\u001b[0m \u001b[0;34m(\u001b[0m\u001b[0mmagic_arg_s\u001b[0m\u001b[0;34m,\u001b[0m \u001b[0mcell\u001b[0m\u001b[0;34m)\u001b[0m\u001b[0;34m\u001b[0m\u001b[0;34m\u001b[0m\u001b[0m\n\u001b[0;32m-> 2403\u001b[0;31m                 \u001b[0mresult\u001b[0m \u001b[0;34m=\u001b[0m \u001b[0mfn\u001b[0m\u001b[0;34m(\u001b[0m\u001b[0;34m*\u001b[0m\u001b[0margs\u001b[0m\u001b[0;34m,\u001b[0m \u001b[0;34m**\u001b[0m\u001b[0mkwargs\u001b[0m\u001b[0;34m)\u001b[0m\u001b[0;34m\u001b[0m\u001b[0;34m\u001b[0m\u001b[0m\n\u001b[0m\u001b[1;32m   2404\u001b[0m             \u001b[0;32mreturn\u001b[0m \u001b[0mresult\u001b[0m\u001b[0;34m\u001b[0m\u001b[0;34m\u001b[0m\u001b[0m\n\u001b[1;32m   2405\u001b[0m \u001b[0;34m\u001b[0m\u001b[0m\n",
      "\u001b[0;32m/usr/local/lib/python3.9/site-packages/decorator.py\u001b[0m in \u001b[0;36mfun\u001b[0;34m(*args, **kw)\u001b[0m\n\u001b[1;32m    230\u001b[0m             \u001b[0;32mif\u001b[0m \u001b[0;32mnot\u001b[0m \u001b[0mkwsyntax\u001b[0m\u001b[0;34m:\u001b[0m\u001b[0;34m\u001b[0m\u001b[0;34m\u001b[0m\u001b[0m\n\u001b[1;32m    231\u001b[0m                 \u001b[0margs\u001b[0m\u001b[0;34m,\u001b[0m \u001b[0mkw\u001b[0m \u001b[0;34m=\u001b[0m \u001b[0mfix\u001b[0m\u001b[0;34m(\u001b[0m\u001b[0margs\u001b[0m\u001b[0;34m,\u001b[0m \u001b[0mkw\u001b[0m\u001b[0;34m,\u001b[0m \u001b[0msig\u001b[0m\u001b[0;34m)\u001b[0m\u001b[0;34m\u001b[0m\u001b[0;34m\u001b[0m\u001b[0m\n\u001b[0;32m--> 232\u001b[0;31m             \u001b[0;32mreturn\u001b[0m \u001b[0mcaller\u001b[0m\u001b[0;34m(\u001b[0m\u001b[0mfunc\u001b[0m\u001b[0;34m,\u001b[0m \u001b[0;34m*\u001b[0m\u001b[0;34m(\u001b[0m\u001b[0mextras\u001b[0m \u001b[0;34m+\u001b[0m \u001b[0margs\u001b[0m\u001b[0;34m)\u001b[0m\u001b[0;34m,\u001b[0m \u001b[0;34m**\u001b[0m\u001b[0mkw\u001b[0m\u001b[0;34m)\u001b[0m\u001b[0;34m\u001b[0m\u001b[0;34m\u001b[0m\u001b[0m\n\u001b[0m\u001b[1;32m    233\u001b[0m     \u001b[0mfun\u001b[0m\u001b[0;34m.\u001b[0m\u001b[0m__name__\u001b[0m \u001b[0;34m=\u001b[0m \u001b[0mfunc\u001b[0m\u001b[0;34m.\u001b[0m\u001b[0m__name__\u001b[0m\u001b[0;34m\u001b[0m\u001b[0;34m\u001b[0m\u001b[0m\n\u001b[1;32m    234\u001b[0m     \u001b[0mfun\u001b[0m\u001b[0;34m.\u001b[0m\u001b[0m__doc__\u001b[0m \u001b[0;34m=\u001b[0m \u001b[0mfunc\u001b[0m\u001b[0;34m.\u001b[0m\u001b[0m__doc__\u001b[0m\u001b[0;34m\u001b[0m\u001b[0;34m\u001b[0m\u001b[0m\n",
      "\u001b[0;32m/usr/local/lib/python3.9/site-packages/IPython/core/magic.py\u001b[0m in \u001b[0;36m<lambda>\u001b[0;34m(f, *a, **k)\u001b[0m\n\u001b[1;32m    185\u001b[0m     \u001b[0;31m# but it's overkill for just that one bit of state.\u001b[0m\u001b[0;34m\u001b[0m\u001b[0;34m\u001b[0m\u001b[0m\n\u001b[1;32m    186\u001b[0m     \u001b[0;32mdef\u001b[0m \u001b[0mmagic_deco\u001b[0m\u001b[0;34m(\u001b[0m\u001b[0marg\u001b[0m\u001b[0;34m)\u001b[0m\u001b[0;34m:\u001b[0m\u001b[0;34m\u001b[0m\u001b[0;34m\u001b[0m\u001b[0m\n\u001b[0;32m--> 187\u001b[0;31m         \u001b[0mcall\u001b[0m \u001b[0;34m=\u001b[0m \u001b[0;32mlambda\u001b[0m \u001b[0mf\u001b[0m\u001b[0;34m,\u001b[0m \u001b[0;34m*\u001b[0m\u001b[0ma\u001b[0m\u001b[0;34m,\u001b[0m \u001b[0;34m**\u001b[0m\u001b[0mk\u001b[0m\u001b[0;34m:\u001b[0m \u001b[0mf\u001b[0m\u001b[0;34m(\u001b[0m\u001b[0;34m*\u001b[0m\u001b[0ma\u001b[0m\u001b[0;34m,\u001b[0m \u001b[0;34m**\u001b[0m\u001b[0mk\u001b[0m\u001b[0;34m)\u001b[0m\u001b[0;34m\u001b[0m\u001b[0;34m\u001b[0m\u001b[0m\n\u001b[0m\u001b[1;32m    188\u001b[0m \u001b[0;34m\u001b[0m\u001b[0m\n\u001b[1;32m    189\u001b[0m         \u001b[0;32mif\u001b[0m \u001b[0mcallable\u001b[0m\u001b[0;34m(\u001b[0m\u001b[0marg\u001b[0m\u001b[0;34m)\u001b[0m\u001b[0;34m:\u001b[0m\u001b[0;34m\u001b[0m\u001b[0;34m\u001b[0m\u001b[0m\n",
      "\u001b[0;32m/usr/local/lib/python3.9/site-packages/IPython/core/magics/execution.py\u001b[0m in \u001b[0;36mtimeit\u001b[0;34m(self, line, cell, local_ns)\u001b[0m\n\u001b[1;32m   1171\u001b[0m                     \u001b[0;32mbreak\u001b[0m\u001b[0;34m\u001b[0m\u001b[0;34m\u001b[0m\u001b[0m\n\u001b[1;32m   1172\u001b[0m \u001b[0;34m\u001b[0m\u001b[0m\n\u001b[0;32m-> 1173\u001b[0;31m         \u001b[0mall_runs\u001b[0m \u001b[0;34m=\u001b[0m \u001b[0mtimer\u001b[0m\u001b[0;34m.\u001b[0m\u001b[0mrepeat\u001b[0m\u001b[0;34m(\u001b[0m\u001b[0mrepeat\u001b[0m\u001b[0;34m,\u001b[0m \u001b[0mnumber\u001b[0m\u001b[0;34m)\u001b[0m\u001b[0;34m\u001b[0m\u001b[0;34m\u001b[0m\u001b[0m\n\u001b[0m\u001b[1;32m   1174\u001b[0m         \u001b[0mbest\u001b[0m \u001b[0;34m=\u001b[0m \u001b[0mmin\u001b[0m\u001b[0;34m(\u001b[0m\u001b[0mall_runs\u001b[0m\u001b[0;34m)\u001b[0m \u001b[0;34m/\u001b[0m \u001b[0mnumber\u001b[0m\u001b[0;34m\u001b[0m\u001b[0;34m\u001b[0m\u001b[0m\n\u001b[1;32m   1175\u001b[0m         \u001b[0mworst\u001b[0m \u001b[0;34m=\u001b[0m \u001b[0mmax\u001b[0m\u001b[0;34m(\u001b[0m\u001b[0mall_runs\u001b[0m\u001b[0;34m)\u001b[0m \u001b[0;34m/\u001b[0m \u001b[0mnumber\u001b[0m\u001b[0;34m\u001b[0m\u001b[0;34m\u001b[0m\u001b[0m\n",
      "\u001b[0;32m/usr/local/Cellar/python@3.9/3.9.13_1/Frameworks/Python.framework/Versions/3.9/lib/python3.9/timeit.py\u001b[0m in \u001b[0;36mrepeat\u001b[0;34m(self, repeat, number)\u001b[0m\n\u001b[1;32m    203\u001b[0m         \u001b[0mr\u001b[0m \u001b[0;34m=\u001b[0m \u001b[0;34m[\u001b[0m\u001b[0;34m]\u001b[0m\u001b[0;34m\u001b[0m\u001b[0;34m\u001b[0m\u001b[0m\n\u001b[1;32m    204\u001b[0m         \u001b[0;32mfor\u001b[0m \u001b[0mi\u001b[0m \u001b[0;32min\u001b[0m \u001b[0mrange\u001b[0m\u001b[0;34m(\u001b[0m\u001b[0mrepeat\u001b[0m\u001b[0;34m)\u001b[0m\u001b[0;34m:\u001b[0m\u001b[0;34m\u001b[0m\u001b[0;34m\u001b[0m\u001b[0m\n\u001b[0;32m--> 205\u001b[0;31m             \u001b[0mt\u001b[0m \u001b[0;34m=\u001b[0m \u001b[0mself\u001b[0m\u001b[0;34m.\u001b[0m\u001b[0mtimeit\u001b[0m\u001b[0;34m(\u001b[0m\u001b[0mnumber\u001b[0m\u001b[0;34m)\u001b[0m\u001b[0;34m\u001b[0m\u001b[0;34m\u001b[0m\u001b[0m\n\u001b[0m\u001b[1;32m    206\u001b[0m             \u001b[0mr\u001b[0m\u001b[0;34m.\u001b[0m\u001b[0mappend\u001b[0m\u001b[0;34m(\u001b[0m\u001b[0mt\u001b[0m\u001b[0;34m)\u001b[0m\u001b[0;34m\u001b[0m\u001b[0;34m\u001b[0m\u001b[0m\n\u001b[1;32m    207\u001b[0m         \u001b[0;32mreturn\u001b[0m \u001b[0mr\u001b[0m\u001b[0;34m\u001b[0m\u001b[0;34m\u001b[0m\u001b[0m\n",
      "\u001b[0;32m/usr/local/lib/python3.9/site-packages/IPython/core/magics/execution.py\u001b[0m in \u001b[0;36mtimeit\u001b[0;34m(self, number)\u001b[0m\n\u001b[1;32m    167\u001b[0m         \u001b[0mgc\u001b[0m\u001b[0;34m.\u001b[0m\u001b[0mdisable\u001b[0m\u001b[0;34m(\u001b[0m\u001b[0;34m)\u001b[0m\u001b[0;34m\u001b[0m\u001b[0;34m\u001b[0m\u001b[0m\n\u001b[1;32m    168\u001b[0m         \u001b[0;32mtry\u001b[0m\u001b[0;34m:\u001b[0m\u001b[0;34m\u001b[0m\u001b[0;34m\u001b[0m\u001b[0m\n\u001b[0;32m--> 169\u001b[0;31m             \u001b[0mtiming\u001b[0m \u001b[0;34m=\u001b[0m \u001b[0mself\u001b[0m\u001b[0;34m.\u001b[0m\u001b[0minner\u001b[0m\u001b[0;34m(\u001b[0m\u001b[0mit\u001b[0m\u001b[0;34m,\u001b[0m \u001b[0mself\u001b[0m\u001b[0;34m.\u001b[0m\u001b[0mtimer\u001b[0m\u001b[0;34m)\u001b[0m\u001b[0;34m\u001b[0m\u001b[0;34m\u001b[0m\u001b[0m\n\u001b[0m\u001b[1;32m    170\u001b[0m         \u001b[0;32mfinally\u001b[0m\u001b[0;34m:\u001b[0m\u001b[0;34m\u001b[0m\u001b[0;34m\u001b[0m\u001b[0m\n\u001b[1;32m    171\u001b[0m             \u001b[0;32mif\u001b[0m \u001b[0mgcold\u001b[0m\u001b[0;34m:\u001b[0m\u001b[0;34m\u001b[0m\u001b[0;34m\u001b[0m\u001b[0m\n",
      "\u001b[0;32m<magic-timeit>\u001b[0m in \u001b[0;36minner\u001b[0;34m(_it, _timer)\u001b[0m\n",
      "\u001b[0;31mKeyboardInterrupt\u001b[0m: "
     ]
    }
   ],
   "source": [
    "%%timeit\n",
    "# propuesta de mejora\n",
    "\n",
    "for i in range(100000):\n",
    "    count = 0\n",
    "    for name in names:\n",
    "        count += len(name)\n"
   ]
  },
  {
   "cell_type": "code",
   "execution_count": null,
   "metadata": {},
   "outputs": [],
   "source": []
  }
 ],
 "metadata": {
  "kernelspec": {
   "display_name": "Python 3 (ipykernel)",
   "language": "python",
   "name": "python3"
  },
  "language_info": {
   "codemirror_mode": {
    "name": "ipython",
    "version": 3
   },
   "file_extension": ".py",
   "mimetype": "text/x-python",
   "name": "python",
   "nbconvert_exporter": "python",
   "pygments_lexer": "ipython3",
   "version": "3.9.12"
  }
 },
 "nbformat": 4,
 "nbformat_minor": 2
}
