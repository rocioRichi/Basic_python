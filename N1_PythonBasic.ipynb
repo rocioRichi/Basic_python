{
 "cells": [
  {
   "cell_type": "markdown",
   "metadata": {},
   "source": [
    "# Python basic\n",
    "\n",
    "**Python** es un lenguaje simple, fácil de manejar, *open source* y que tiene una gran versatilidad. Ahora mismo es el lenguaje más usado en *data analysis* y hay muchísima documentación: [python.docs](https://docs.python.org/3/), dudas resueltas en [stackoverflow](https://stackoverflow.com) y otros. También podrás encontrar muchos paquetes y código compartido en [github](https://github.com). \n",
    "\n",
    "Aquí hacemos un pequeño resumen de las generalidades de **Python** y los tipos de estructuras básicos que hay. Al final hay unos ejercicios para practicar. \n",
    "\n",
    "<ul style=\"list-style-type:none\">\n",
    "    <li><a href='#1.-Generalidades'>1. Generalidades</a></li>\n",
    "    <li><a href='#2.-Tipos-de-datos'>2. Tipos de datos</a></li>\n",
    "    <ul style=\"list-style-type:none\">\n",
    "        <li><a href=\"#2.1-Tipos-numéricos\">2.1. Tipos numéricos</a></li>\n",
    "        <li><a href=\"#2.2-Strings\">2.2. Strings </a></li>\n",
    "        <li><a href=\"#2.3-Variables-lógicas\">2.3. Variables lógicas</a></li>\n",
    "        <li><a href=\"#2.4-Listas\">2.4. Listas</a></li>\n",
    "        <li><a href=\"#2.5-Tuplas\">2.5. Tuplas</a></li>\n",
    "        <li><a href=\"#2.6-Diccionarios\">2.6. Diccionarios </a></li>\n",
    "    </ul>\n",
    "    <li><a href=\"#3.-Ejercicios-para-practicar\">3. Ejercicios </a></li>\n",
    "    <ul style=\"list-style-type:none\">\n",
    "</ul>\n"
   ]
  },
  {
   "cell_type": "markdown",
   "metadata": {},
   "source": [
    "# 1. Generalidades\n",
    "\n",
    "Para escribir código en **Python** se puede hacer desde un archivo plano con extension .py, con una notebook o con un IDE (entorno de escritorio integrado) como **PyCharm** o **Visual Studio Code**. \n",
    "\n"
   ]
  },
  {
   "cell_type": "markdown",
   "metadata": {},
   "source": [
    "### Espíritu de Python. \n",
    "La filosofía de los principales desarrolladores de **Python** es escribir código de manera **simple**, **comprensible** y **estéticamente agradable**. Para mantener un código limpio y leíble es **importante** usar espacios coherentemente, usar nombre de variables facilmente identificables, usar módulos y funciones, documentar bien el código... Para poder ser facilmente **compartido**. "
   ]
  },
  {
   "cell_type": "code",
   "execution_count": 1,
   "metadata": {
    "scrolled": true
   },
   "outputs": [
    {
     "name": "stdout",
     "output_type": "stream",
     "text": [
      "The Zen of Python, by Tim Peters\n",
      "\n",
      "Beautiful is better than ugly.\n",
      "Explicit is better than implicit.\n",
      "Simple is better than complex.\n",
      "Complex is better than complicated.\n",
      "Flat is better than nested.\n",
      "Sparse is better than dense.\n",
      "Readability counts.\n",
      "Special cases aren't special enough to break the rules.\n",
      "Although practicality beats purity.\n",
      "Errors should never pass silently.\n",
      "Unless explicitly silenced.\n",
      "In the face of ambiguity, refuse the temptation to guess.\n",
      "There should be one-- and preferably only one --obvious way to do it.\n",
      "Although that way may not be obvious at first unless you're Dutch.\n",
      "Now is better than never.\n",
      "Although never is often better than *right* now.\n",
      "If the implementation is hard to explain, it's a bad idea.\n",
      "If the implementation is easy to explain, it may be a good idea.\n",
      "Namespaces are one honking great idea -- let's do more of those!\n"
     ]
    }
   ],
   "source": [
    "import this"
   ]
  },
  {
   "cell_type": "markdown",
   "metadata": {},
   "source": [
    "### Consejos\n",
    "  -  Utilizar nombres de las variables o funciones que ayuden a entender.\n",
    "  -  Organizar bien el código en funciones.\n",
    "  -  Líneas cortas."
   ]
  },
  {
   "cell_type": "markdown",
   "metadata": {},
   "source": [
    "### Estética\n",
    "Para la estética encontraron un truco: el **sangrado**. "
   ]
  },
  {
   "cell_type": "code",
   "execution_count": 27,
   "metadata": {},
   "outputs": [
    {
     "ename": "IndentationError",
     "evalue": "unexpected indent (882337842.py, line 2)",
     "output_type": "error",
     "traceback": [
      "\u001b[0;36m  File \u001b[0;32m\"/var/folders/8n/8gxx65_52xq17qlkhphqy2hm0000gn/T/ipykernel_68969/882337842.py\"\u001b[0;36m, line \u001b[0;32m2\u001b[0m\n\u001b[0;31m    y = 3 + x\u001b[0m\n\u001b[0m    ^\u001b[0m\n\u001b[0;31mIndentationError\u001b[0m\u001b[0;31m:\u001b[0m unexpected indent\n"
     ]
    }
   ],
   "source": [
    "x = 2\n",
    " y = 3 + x\n",
    "z = y * 2\n",
    "print(z)"
   ]
  },
  {
   "cell_type": "markdown",
   "metadata": {},
   "source": [
    "En **Python** es lo que establece el control de flujo. Y solo se puede variar el sangrado dentro de una estructura de control y se sale al volver al sangrado inicial.   "
   ]
  },
  {
   "cell_type": "code",
   "execution_count": 47,
   "metadata": {},
   "outputs": [
    {
     "name": "stdout",
     "output_type": "stream",
     "text": [
      "130\n"
     ]
    }
   ],
   "source": [
    "z = 0\n",
    "for i in range(10):\n",
    "    x = i * 2\n",
    "    z += x + 4\n",
    "print(z)"
   ]
  },
  {
   "cell_type": "markdown",
   "metadata": {},
   "source": [
    "Además existe una **guía de estilo** aceptada por la comunidad: la PEP8, podéis ver las reglas [aquí](https://www.python.org/dev/peps/pep-0008/) con información como (identación, longitud de las líneas, espaciado, ... ). Vamos a intentar usarla en estas notebooks. "
   ]
  },
  {
   "cell_type": "code",
   "execution_count": 28,
   "metadata": {},
   "outputs": [],
   "source": [
    "# ejemplo en la guía de estilo:\n",
    "x=x+y\n",
    "x = x + y"
   ]
  },
  {
   "cell_type": "markdown",
   "metadata": {},
   "source": [
    "### Comentarios\n",
    "\n",
    "Las líneas se ejecutan en orden secuencial dentro de una celda. Si **no** queremos que se ejecute alguna línea ponemos `#` delante. Todo lo que hay detrás de una almohadilla no se ejecuta. Muy útil para comentar el código"
   ]
  },
  {
   "cell_type": "code",
   "execution_count": 98,
   "metadata": {},
   "outputs": [
    {
     "data": {
      "text/plain": [
       "8"
      ]
     },
     "execution_count": 98,
     "metadata": {},
     "output_type": "execute_result"
    }
   ],
   "source": [
    "# Sumamos dos valores\n",
    "5 + 3 "
   ]
  },
  {
   "cell_type": "code",
   "execution_count": 99,
   "metadata": {},
   "outputs": [
    {
     "data": {
      "text/plain": [
       "38"
      ]
     },
     "execution_count": 99,
     "metadata": {},
     "output_type": "execute_result"
    }
   ],
   "source": [
    "x + 3   # hacemos otra operación"
   ]
  },
  {
   "cell_type": "markdown",
   "metadata": {},
   "source": [
    "### Built-in functions\n",
    "Cualquier función en python se ejecuta con el nombre de la función y paréntesis: nombre_funcion(). Python tiene algunas básicas predefindas:"
   ]
  },
  {
   "cell_type": "code",
   "execution_count": 29,
   "metadata": {},
   "outputs": [
    {
     "name": "stdout",
     "output_type": "stream",
     "text": [
      "hello world\n"
     ]
    }
   ],
   "source": [
    "print(\"hello world\")\n",
    "# nos sirve para ver resultados en cualquier momento\n",
    "print()"
   ]
  },
  {
   "cell_type": "code",
   "execution_count": 190,
   "metadata": {},
   "outputs": [
    {
     "name": "stdout",
     "output_type": "stream",
     "text": [
      "tengo 20 años\n"
     ]
    }
   ],
   "source": [
    "# Los prints pueden tener concatenarse\n",
    "print(\"tengo\", 20, \"años\")"
   ]
  },
  {
   "cell_type": "code",
   "execution_count": 191,
   "metadata": {},
   "outputs": [
    {
     "name": "stdout",
     "output_type": "stream",
     "text": [
      "tengo más de 20\n"
     ]
    }
   ],
   "source": [
    "x = 20\n",
    "print(f\"tengo más de {x} años\")"
   ]
  },
  {
   "cell_type": "code",
   "execution_count": 196,
   "metadata": {},
   "outputs": [
    {
     "name": "stdout",
     "output_type": "stream",
     "text": [
      "tengo bastante más de 20 años\n"
     ]
    }
   ],
   "source": [
    "x = 20\n",
    "print(\"tengo bastante más de {} años\".format(20))"
   ]
  },
  {
   "cell_type": "markdown",
   "metadata": {},
   "source": [
    "Otras funciones muy útiles es help() que te permite ver información de una función:"
   ]
  },
  {
   "cell_type": "code",
   "execution_count": 198,
   "metadata": {},
   "outputs": [
    {
     "name": "stdout",
     "output_type": "stream",
     "text": [
      "Help on built-in function print in module builtins:\n",
      "\n",
      "print(*args, sep=' ', end='\\n', file=None, flush=False)\n",
      "    Prints the values to a stream, or to sys.stdout by default.\n",
      "    \n",
      "    sep\n",
      "      string inserted between values, default a space.\n",
      "    end\n",
      "      string appended after the last value, default a newline.\n",
      "    file\n",
      "      a file-like object (stream); defaults to the current sys.stdout.\n",
      "    flush\n",
      "      whether to forcibly flush the stream.\n",
      "\n"
     ]
    }
   ],
   "source": [
    "help(print)"
   ]
  },
  {
   "cell_type": "markdown",
   "metadata": {},
   "source": [
    "o de una variable:"
   ]
  },
  {
   "cell_type": "code",
   "execution_count": 1,
   "metadata": {},
   "outputs": [
    {
     "name": "stdout",
     "output_type": "stream",
     "text": [
      "Help on float object:\n",
      "\n",
      "class float(object)\n",
      " |  float(x=0, /)\n",
      " |  \n",
      " |  Convert a string or number to a floating point number, if possible.\n",
      " |  \n",
      " |  Methods defined here:\n",
      " |  \n",
      " |  __abs__(self, /)\n",
      " |      abs(self)\n",
      " |  \n",
      " |  __add__(self, value, /)\n",
      " |      Return self+value.\n",
      " |  \n",
      " |  __bool__(self, /)\n",
      " |      True if self else False\n",
      " |  \n",
      " |  __ceil__(self, /)\n",
      " |      Return the ceiling as an Integral.\n",
      " |  \n",
      " |  __divmod__(self, value, /)\n",
      " |      Return divmod(self, value).\n",
      " |  \n",
      " |  __eq__(self, value, /)\n",
      " |      Return self==value.\n",
      " |  \n",
      " |  __float__(self, /)\n",
      " |      float(self)\n",
      " |  \n",
      " |  __floor__(self, /)\n",
      " |      Return the floor as an Integral.\n",
      " |  \n",
      " |  __floordiv__(self, value, /)\n",
      " |      Return self//value.\n",
      " |  \n",
      " |  __format__(self, format_spec, /)\n",
      " |      Formats the float according to format_spec.\n",
      " |  \n",
      " |  __ge__(self, value, /)\n",
      " |      Return self>=value.\n",
      " |  \n",
      " |  __getattribute__(self, name, /)\n",
      " |      Return getattr(self, name).\n",
      " |  \n",
      " |  __getnewargs__(self, /)\n",
      " |  \n",
      " |  __gt__(self, value, /)\n",
      " |      Return self>value.\n",
      " |  \n",
      " |  __hash__(self, /)\n",
      " |      Return hash(self).\n",
      " |  \n",
      " |  __int__(self, /)\n",
      " |      int(self)\n",
      " |  \n",
      " |  __le__(self, value, /)\n",
      " |      Return self<=value.\n",
      " |  \n",
      " |  __lt__(self, value, /)\n",
      " |      Return self<value.\n",
      " |  \n",
      " |  __mod__(self, value, /)\n",
      " |      Return self%value.\n",
      " |  \n",
      " |  __mul__(self, value, /)\n",
      " |      Return self*value.\n",
      " |  \n",
      " |  __ne__(self, value, /)\n",
      " |      Return self!=value.\n",
      " |  \n",
      " |  __neg__(self, /)\n",
      " |      -self\n",
      " |  \n",
      " |  __pos__(self, /)\n",
      " |      +self\n",
      " |  \n",
      " |  __pow__(self, value, mod=None, /)\n",
      " |      Return pow(self, value, mod).\n",
      " |  \n",
      " |  __radd__(self, value, /)\n",
      " |      Return value+self.\n",
      " |  \n",
      " |  __rdivmod__(self, value, /)\n",
      " |      Return divmod(value, self).\n",
      " |  \n",
      " |  __repr__(self, /)\n",
      " |      Return repr(self).\n",
      " |  \n",
      " |  __rfloordiv__(self, value, /)\n",
      " |      Return value//self.\n",
      " |  \n",
      " |  __rmod__(self, value, /)\n",
      " |      Return value%self.\n",
      " |  \n",
      " |  __rmul__(self, value, /)\n",
      " |      Return value*self.\n",
      " |  \n",
      " |  __round__(self, ndigits=None, /)\n",
      " |      Return the Integral closest to x, rounding half toward even.\n",
      " |      \n",
      " |      When an argument is passed, work like built-in round(x, ndigits).\n",
      " |  \n",
      " |  __rpow__(self, value, mod=None, /)\n",
      " |      Return pow(value, self, mod).\n",
      " |  \n",
      " |  __rsub__(self, value, /)\n",
      " |      Return value-self.\n",
      " |  \n",
      " |  __rtruediv__(self, value, /)\n",
      " |      Return value/self.\n",
      " |  \n",
      " |  __sub__(self, value, /)\n",
      " |      Return self-value.\n",
      " |  \n",
      " |  __truediv__(self, value, /)\n",
      " |      Return self/value.\n",
      " |  \n",
      " |  __trunc__(self, /)\n",
      " |      Return the Integral closest to x between 0 and x.\n",
      " |  \n",
      " |  as_integer_ratio(self, /)\n",
      " |      Return integer ratio.\n",
      " |      \n",
      " |      Return a pair of integers, whose ratio is exactly equal to the original float\n",
      " |      and with a positive denominator.\n",
      " |      \n",
      " |      Raise OverflowError on infinities and a ValueError on NaNs.\n",
      " |      \n",
      " |      >>> (10.0).as_integer_ratio()\n",
      " |      (10, 1)\n",
      " |      >>> (0.0).as_integer_ratio()\n",
      " |      (0, 1)\n",
      " |      >>> (-.25).as_integer_ratio()\n",
      " |      (-1, 4)\n",
      " |  \n",
      " |  conjugate(self, /)\n",
      " |      Return self, the complex conjugate of any float.\n",
      " |  \n",
      " |  hex(self, /)\n",
      " |      Return a hexadecimal representation of a floating-point number.\n",
      " |      \n",
      " |      >>> (-0.1).hex()\n",
      " |      '-0x1.999999999999ap-4'\n",
      " |      >>> 3.14159.hex()\n",
      " |      '0x1.921f9f01b866ep+1'\n",
      " |  \n",
      " |  is_integer(self, /)\n",
      " |      Return True if the float is an integer.\n",
      " |  \n",
      " |  ----------------------------------------------------------------------\n",
      " |  Class methods defined here:\n",
      " |  \n",
      " |  __getformat__(typestr, /) from builtins.type\n",
      " |      You probably don't want to use this function.\n",
      " |      \n",
      " |        typestr\n",
      " |          Must be 'double' or 'float'.\n",
      " |      \n",
      " |      It exists mainly to be used in Python's test suite.\n",
      " |      \n",
      " |      This function returns whichever of 'unknown', 'IEEE, big-endian' or 'IEEE,\n",
      " |      little-endian' best describes the format of floating point numbers used by the\n",
      " |      C type named by typestr.\n",
      " |  \n",
      " |  fromhex(string, /) from builtins.type\n",
      " |      Create a floating-point number from a hexadecimal string.\n",
      " |      \n",
      " |      >>> float.fromhex('0x1.ffffp10')\n",
      " |      2047.984375\n",
      " |      >>> float.fromhex('-0x1p-1074')\n",
      " |      -5e-324\n",
      " |  \n",
      " |  ----------------------------------------------------------------------\n",
      " |  Static methods defined here:\n",
      " |  \n",
      " |  __new__(*args, **kwargs) from builtins.type\n",
      " |      Create and return a new object.  See help(type) for accurate signature.\n",
      " |  \n",
      " |  ----------------------------------------------------------------------\n",
      " |  Data descriptors defined here:\n",
      " |  \n",
      " |  imag\n",
      " |      the imaginary part of a complex number\n",
      " |  \n",
      " |  real\n",
      " |      the real part of a complex number\n",
      "\n"
     ]
    }
   ],
   "source": [
    "y = 5.4\n",
    "help(y)"
   ]
  },
  {
   "cell_type": "markdown",
   "metadata": {},
   "source": [
    "Y algunas otras funciones útiles básicas"
   ]
  },
  {
   "cell_type": "code",
   "execution_count": 203,
   "metadata": {},
   "outputs": [
    {
     "data": {
      "text/plain": [
       "4"
      ]
     },
     "execution_count": 203,
     "metadata": {},
     "output_type": "execute_result"
    }
   ],
   "source": [
    "x = [2, 3, 4, 1, -2]\n",
    "# función que encuentra el máximo\n",
    "max(x)"
   ]
  },
  {
   "cell_type": "code",
   "execution_count": 205,
   "metadata": {},
   "outputs": [
    {
     "data": {
      "text/plain": [
       "-2"
      ]
     },
     "execution_count": 205,
     "metadata": {},
     "output_type": "execute_result"
    }
   ],
   "source": [
    "min(x)"
   ]
  },
  {
   "cell_type": "code",
   "execution_count": 206,
   "metadata": {},
   "outputs": [
    {
     "data": {
      "text/plain": [
       "5"
      ]
     },
     "execution_count": 206,
     "metadata": {},
     "output_type": "execute_result"
    }
   ],
   "source": [
    "len(x)"
   ]
  },
  {
   "cell_type": "code",
   "execution_count": 207,
   "metadata": {},
   "outputs": [
    {
     "name": "stdout",
     "output_type": "stream",
     "text": [
      "Help on built-in function len in module builtins:\n",
      "\n",
      "len(obj, /)\n",
      "    Return the number of items in a container.\n",
      "\n"
     ]
    }
   ],
   "source": [
    "help(len)"
   ]
  },
  {
   "cell_type": "markdown",
   "metadata": {},
   "source": [
    "[Aquí](https://docs.python.org/3/library/functions.html) podéis ver la lista de funciones predefinidas (built-in functions) de Python. "
   ]
  },
  {
   "cell_type": "markdown",
   "metadata": {},
   "source": [
    "### Errores \n",
    "Si algo falla sale un error que suele ir acompañado de una explicación y la linea donde está el error. Esto simplifica el *debugging*."
   ]
  },
  {
   "cell_type": "code",
   "execution_count": 7,
   "metadata": {},
   "outputs": [
    {
     "ename": "NameError",
     "evalue": "name 'pritn' is not defined",
     "output_type": "error",
     "traceback": [
      "\u001b[0;31m---------------------------------------------------------------------------\u001b[0m",
      "\u001b[0;31mNameError\u001b[0m                                 Traceback (most recent call last)",
      "\u001b[0;32m/var/folders/8n/8gxx65_52xq17qlkhphqy2hm0000gn/T/ipykernel_41861/2667563171.py\u001b[0m in \u001b[0;36m<module>\u001b[0;34m\u001b[0m\n\u001b[1;32m      1\u001b[0m \u001b[0ma\u001b[0m \u001b[0;34m=\u001b[0m \u001b[0;36m2\u001b[0m \u001b[0;34m*\u001b[0m \u001b[0;36m3\u001b[0m\u001b[0;34m\u001b[0m\u001b[0;34m\u001b[0m\u001b[0m\n\u001b[0;32m----> 2\u001b[0;31m \u001b[0mpritn\u001b[0m\u001b[0;34m(\u001b[0m\u001b[0ma\u001b[0m\u001b[0;34m)\u001b[0m \u001b[0;31m# Suma de dos numeros\u001b[0m\u001b[0;34m\u001b[0m\u001b[0;34m\u001b[0m\u001b[0m\n\u001b[0m",
      "\u001b[0;31mNameError\u001b[0m: name 'pritn' is not defined"
     ]
    }
   ],
   "source": [
    "a = 2 * 3\n",
    "pritn(a) # Suma de dos numeros"
   ]
  },
  {
   "cell_type": "code",
   "execution_count": 8,
   "metadata": {},
   "outputs": [
    {
     "ename": "ZeroDivisionError",
     "evalue": "division by zero",
     "output_type": "error",
     "traceback": [
      "\u001b[0;31m---------------------------------------------------------------------------\u001b[0m",
      "\u001b[0;31mZeroDivisionError\u001b[0m                         Traceback (most recent call last)",
      "\u001b[0;32m/var/folders/8n/8gxx65_52xq17qlkhphqy2hm0000gn/T/ipykernel_41861/298062233.py\u001b[0m in \u001b[0;36m<module>\u001b[0;34m\u001b[0m\n\u001b[1;32m      1\u001b[0m \u001b[0mb\u001b[0m \u001b[0;34m=\u001b[0m \u001b[0;36m12\u001b[0m\u001b[0;34m\u001b[0m\u001b[0;34m\u001b[0m\u001b[0m\n\u001b[1;32m      2\u001b[0m \u001b[0ma\u001b[0m \u001b[0;34m=\u001b[0m \u001b[0mb\u001b[0m \u001b[0;34m*\u001b[0m \u001b[0;36m2\u001b[0m\u001b[0;34m\u001b[0m\u001b[0;34m\u001b[0m\u001b[0m\n\u001b[0;32m----> 3\u001b[0;31m \u001b[0ma\u001b[0m \u001b[0;34m/\u001b[0m \u001b[0;36m0\u001b[0m\u001b[0;34m\u001b[0m\u001b[0;34m\u001b[0m\u001b[0m\n\u001b[0m",
      "\u001b[0;31mZeroDivisionError\u001b[0m: division by zero"
     ]
    }
   ],
   "source": [
    "b = 12\n",
    "a = b * 2\n",
    "a / 0"
   ]
  },
  {
   "cell_type": "markdown",
   "metadata": {},
   "source": [
    "# 2. Data types\n",
    "Hay distintas estructuras para guardar datos en **Pyhton**. Aquí vemos las más comunes: \n",
    "\n",
    "*Text Type:*\tstr\n",
    "\n",
    "*Numeric Types:*\tint, float, complex\n",
    "\n",
    "*Boolean Type:* True or False\n",
    "\n",
    "*Sequence Types:*\tlist, tuple\n",
    "\n",
    "*Mapping Type:*\tdict"
   ]
  },
  {
   "cell_type": "markdown",
   "metadata": {},
   "source": [
    "## 2.1 Tipos numéricos\n",
    "Tipos númericos hay **enteros**, **floats** (o reales de doble precisión) y **complejos**. A diferencia de otros lenguajes de programación, los tipos quedan definidos directamente con el valor de la variable. En este caso podemos hacer operaciones matemáticas básicas:"
   ]
  },
  {
   "cell_type": "code",
   "execution_count": 208,
   "metadata": {},
   "outputs": [
    {
     "data": {
      "text/plain": [
       "(int, float, complex)"
      ]
     },
     "execution_count": 208,
     "metadata": {},
     "output_type": "execute_result"
    }
   ],
   "source": [
    "# Tenemos enteros, reales y complejos\n",
    "hijos = 3\n",
    "temperatura = 22.3\n",
    "onda = complex(2, 3)  # --> 2+3i\n",
    "# detecta tipo automáticamente\n",
    "type(hijos), type(temperatura), type(onda)"
   ]
  },
  {
   "cell_type": "code",
   "execution_count": 209,
   "metadata": {},
   "outputs": [
    {
     "data": {
      "text/plain": [
       "(3+4j)"
      ]
     },
     "execution_count": 209,
     "metadata": {},
     "output_type": "execute_result"
    }
   ],
   "source": [
    "# Ejemplo\n",
    "complex(3,4)"
   ]
  },
  {
   "cell_type": "code",
   "execution_count": 214,
   "metadata": {},
   "outputs": [
    {
     "name": "stdout",
     "output_type": "stream",
     "text": [
      "3.3\n",
      "0.4347826086956522\n",
      "2.3\n",
      "el cuadrado de 2.3 es 5.289999999999999\n",
      "el cuadrado de (2+3j) es (-5+12j)\n"
     ]
    }
   ],
   "source": [
    "# podemos hacer varios cálculos \n",
    "x = 1; y = 2.3; z = complex(2,3)\n",
    "print(x + y)\n",
    "# dividr / multplicar * exponente **, con print escribimos\n",
    "print(x / y)\n",
    "print(y * x)\n",
    "print(f'el cuadrado de {y} es {y ** 2}')\n",
    "print(f'el cuadrado de {z} es {z ** 2}')  #(2+3i)(2-3i)"
   ]
  },
  {
   "cell_type": "code",
   "execution_count": 3,
   "metadata": {},
   "outputs": [
    {
     "name": "stdout",
     "output_type": "stream",
     "text": [
      "<class 'int'>\n"
     ]
    },
    {
     "data": {
      "text/plain": [
       "float"
      ]
     },
     "execution_count": 3,
     "metadata": {},
     "output_type": "execute_result"
    }
   ],
   "source": [
    "# podemos pasar de entero a real y al revés\n",
    "\n",
    "X = 1\n",
    "print(type(X))\n",
    "X = 1.1\n",
    "type(X)"
   ]
  },
  {
   "cell_type": "code",
   "execution_count": 41,
   "metadata": {},
   "outputs": [
    {
     "name": "stdout",
     "output_type": "stream",
     "text": [
      "2.3\n",
      "2\n",
      "<class 'int'>\n"
     ]
    }
   ],
   "source": [
    "print(y)\n",
    "print(int(y))\n",
    "print(type(int(y)))"
   ]
  },
  {
   "cell_type": "markdown",
   "metadata": {},
   "source": [
    "## 2.2 Strings \n",
    "Las strings son variables de texto, útiles para cabeceras, análisis de texto, etc. Y se escriben entre comillas, simples o dobles. "
   ]
  },
  {
   "cell_type": "code",
   "execution_count": 1,
   "metadata": {},
   "outputs": [],
   "source": [
    "s = 'Santander' # en inglés se suele usar \"\""
   ]
  },
  {
   "cell_type": "markdown",
   "metadata": {},
   "source": [
    "Pero no operan como las variables númericas:"
   ]
  },
  {
   "cell_type": "code",
   "execution_count": 2,
   "metadata": {},
   "outputs": [
    {
     "name": "stdout",
     "output_type": "stream",
     "text": [
      "SantanderSantander\n"
     ]
    }
   ],
   "source": [
    "print(2 * s)"
   ]
  },
  {
   "cell_type": "code",
   "execution_count": 3,
   "metadata": {},
   "outputs": [
    {
     "ename": "SyntaxError",
     "evalue": "invalid syntax (2427568860.py, line 1)",
     "output_type": "error",
     "traceback": [
      "\u001b[0;36m  Cell \u001b[0;32mIn[3], line 1\u001b[0;36m\u001b[0m\n\u001b[0;31m    s.\u001b[0m\n\u001b[0m      ^\u001b[0m\n\u001b[0;31mSyntaxError\u001b[0m\u001b[0;31m:\u001b[0m invalid syntax\n"
     ]
    }
   ],
   "source": [
    "s."
   ]
  },
  {
   "cell_type": "markdown",
   "metadata": {},
   "source": [
    "Para python es lo mismo una palabra que una frase solo que hay caracteres espacio en blaco. Por ejemplo:"
   ]
  },
  {
   "cell_type": "code",
   "execution_count": 222,
   "metadata": {},
   "outputs": [],
   "source": [
    "text = 'En Santander hay mar. Y llueve mucho.'"
   ]
  },
  {
   "cell_type": "code",
   "execution_count": 223,
   "metadata": {},
   "outputs": [
    {
     "data": {
      "text/plain": [
       "'En Santander hay mar. Y llueve mucho.En Santander hay mar. Y llueve mucho.'"
      ]
     },
     "execution_count": 223,
     "metadata": {},
     "output_type": "execute_result"
    }
   ],
   "source": [
    "text*2"
   ]
  },
  {
   "cell_type": "markdown",
   "metadata": {},
   "source": [
    "Una frase la podemos separar por puntos por ejemplo con split"
   ]
  },
  {
   "cell_type": "code",
   "execution_count": 224,
   "metadata": {},
   "outputs": [
    {
     "data": {
      "text/plain": [
       "['En Santander hay mar', ' Y llueve mucho', '']"
      ]
     },
     "execution_count": 224,
     "metadata": {},
     "output_type": "execute_result"
    }
   ],
   "source": [
    "text.split('.')"
   ]
  },
  {
   "cell_type": "code",
   "execution_count": 226,
   "metadata": {},
   "outputs": [
    {
     "data": {
      "text/plain": [
       "['S', 'nt', 'nder']"
      ]
     },
     "execution_count": 226,
     "metadata": {},
     "output_type": "execute_result"
    }
   ],
   "source": [
    "# podríamos hacer lo mismo con la palabra Santander separada por la letra \"a\"\n",
    "s.split('a')"
   ]
  },
  {
   "cell_type": "code",
   "execution_count": 19,
   "metadata": {},
   "outputs": [
    {
     "data": {
      "text/plain": [
       "'En Torrelavega hay mar'"
      ]
     },
     "execution_count": 19,
     "metadata": {},
     "output_type": "execute_result"
    }
   ],
   "source": [
    "# reemplazar texto\n",
    "text.replace('Santander', 'Torrelavega') #+ \" ;-)\"\n"
   ]
  },
  {
   "cell_type": "markdown",
   "metadata": {},
   "source": [
    "Y muchas más podéis ver todos los métodos de la clase *string* [aquí](https://www.w3schools.com/python/python_ref_string.asp)."
   ]
  },
  {
   "cell_type": "markdown",
   "metadata": {},
   "source": [
    "## 2.3 Variables lógicas\n",
    "Las variables lógicas tienen valores **True** o **False**, muy útiles cuando establecemos condiciones:"
   ]
  },
  {
   "cell_type": "code",
   "execution_count": 4,
   "metadata": {},
   "outputs": [
    {
     "name": "stdout",
     "output_type": "stream",
     "text": [
      "True\n",
      "False\n"
     ]
    }
   ],
   "source": [
    "# variables lógicas\n",
    "x = 3\n",
    "\n",
    "y = 4 > x\n",
    "print(y)\n",
    "\n",
    "z = 'manzana' == 'pera'\n",
    "print(z)\n",
    "\n",
    "\n",
    "# y, z son variables lógicas, que serán útiles para establecer condiciones"
   ]
  },
  {
   "cell_type": "markdown",
   "metadata": {},
   "source": [
    "Estas variables son muy útiles por ejemplo para decidir en qué condiciones se ejecuta código:"
   ]
  },
  {
   "cell_type": "code",
   "execution_count": 7,
   "metadata": {},
   "outputs": [],
   "source": [
    "fruta = \"mandarina\"\n",
    "\n",
    "if len(fruta) <= 7:\n",
    "    print('Condición 1 se cumple')\n",
    "if len(fruta) <= 4:\n",
    "    print('Condición 2 se cumple')"
   ]
  },
  {
   "cell_type": "markdown",
   "metadata": {},
   "source": [
    "## 2.4 Listas\n",
    "\n",
    "Las listas son una estrucutras de varios elementos, con estas características:\n"
   ]
  },
  {
   "cell_type": "code",
   "execution_count": 8,
   "metadata": {},
   "outputs": [
    {
     "name": "stdout",
     "output_type": "stream",
     "text": [
      "<class 'list'>\n"
     ]
    }
   ],
   "source": [
    "# las listas se escriben entre corchetes\n",
    "\n",
    "lista = []  # lista vacía\n",
    "\n",
    "print(type(lista))"
   ]
  },
  {
   "cell_type": "code",
   "execution_count": 9,
   "metadata": {},
   "outputs": [
    {
     "ename": "NameError",
     "evalue": "name 'l' is not defined",
     "output_type": "error",
     "traceback": [
      "\u001b[0;31m---------------------------------------------------------------------------\u001b[0m",
      "\u001b[0;31mNameError\u001b[0m                                 Traceback (most recent call last)",
      "Cell \u001b[0;32mIn[9], line 2\u001b[0m\n\u001b[1;32m      1\u001b[0m a_list \u001b[38;5;241m=\u001b[39m [\u001b[38;5;241m4\u001b[39m, \u001b[38;5;241m2\u001b[39m, \u001b[38;5;241m3\u001b[39m, \u001b[38;5;241m2\u001b[39m] \u001b[38;5;66;03m# lista con valores\u001b[39;00m\n\u001b[0;32m----> 2\u001b[0m \u001b[38;5;28mprint\u001b[39m(\u001b[43ml\u001b[49m)\n\u001b[1;32m      3\u001b[0m \u001b[38;5;28mprint\u001b[39m(\u001b[38;5;28mtype\u001b[39m(a_list))\n",
      "\u001b[0;31mNameError\u001b[0m: name 'l' is not defined"
     ]
    }
   ],
   "source": [
    "a_list = [4, 2, 3, 2] # lista con valores\n",
    "print(l)\n",
    "print(type(a_list))"
   ]
  },
  {
   "cell_type": "markdown",
   "metadata": {},
   "source": [
    "Las listas son estructuras **ordenadas** es decir que podemos acceder a un elemento por su posición. En **Python** la primera posición de cualquier estructura ordenada siempre es la 0. "
   ]
  },
  {
   "cell_type": "code",
   "execution_count": 10,
   "metadata": {},
   "outputs": [
    {
     "name": "stdout",
     "output_type": "stream",
     "text": [
      "lista entera [4, 2, 3, 2]\n",
      "primer elemento es -->  4\n",
      "cuarto elemento es -->  2\n",
      "último elemento es -->  2\n"
     ]
    }
   ],
   "source": [
    "print('lista entera', a_list)\n",
    "print('primer elemento es --> ',a_list[0])\n",
    "print('cuarto elemento es --> ', a_list[3])\n",
    "print('último elemento es --> ', a_list[-1])  # con -1 accedemos al último elemento (N-1)"
   ]
  },
  {
   "cell_type": "code",
   "execution_count": 11,
   "metadata": {},
   "outputs": [
    {
     "data": {
      "text/plain": [
       "False"
      ]
     },
     "execution_count": 11,
     "metadata": {},
     "output_type": "execute_result"
    }
   ],
   "source": [
    "# El orden importa\n",
    "b_list = [2, 3, 4, 2]\n",
    "b_list is a_list   # equivalente b_list == a_list"
   ]
  },
  {
   "cell_type": "code",
   "execution_count": 12,
   "metadata": {},
   "outputs": [
    {
     "data": {
      "text/plain": [
       "1"
      ]
     },
     "execution_count": 12,
     "metadata": {},
     "output_type": "execute_result"
    }
   ],
   "source": [
    "# tiene varias funciones como contar elementos,encontrar el índice,...\n",
    "b_list.count(3)"
   ]
  },
  {
   "cell_type": "code",
   "execution_count": null,
   "metadata": {},
   "outputs": [],
   "source": [
    "b_list."
   ]
  },
  {
   "cell_type": "markdown",
   "metadata": {},
   "source": [
    "Las listas son estructuras **heterogéneas**, es decir, que pueden contener valores de distintos tipos. Ejemplo encuesta sobre cuantos minutos de ejercicio haces al día :"
   ]
  },
  {
   "cell_type": "code",
   "execution_count": 14,
   "metadata": {},
   "outputs": [
    {
     "name": "stdout",
     "output_type": "stream",
     "text": [
      "The list is:\n",
      "\t[20, 40, 22, 'NS/NC', 0, '', [20, 20]]\n",
      "Type is <class 'list'>\n"
     ]
    }
   ],
   "source": [
    "fitTime = [20, 40, 22, \"NS/NC\", 0, '', [20,20]] # lista hereogenea ser heterogeneas \n",
    "print(f\"The list is:\\n\\t{fitTime}\")\n",
    "print(f'Type is {type(fitTime)}')\n",
    "\n"
   ]
  },
  {
   "cell_type": "markdown",
   "metadata": {},
   "source": [
    "Una lista es una estructura **mutable**, es decir que su contenido se puede cambiar. Para eso hay varios métodos implementados para listas. Por ejemplo, podemos añadir elementos de una lista al final con `append`, en cualquier posición con `insert`. "
   ]
  },
  {
   "cell_type": "code",
   "execution_count": 15,
   "metadata": {},
   "outputs": [
    {
     "name": "stdout",
     "output_type": "stream",
     "text": [
      "After changign first element:\n",
      "\t[15, 40, 22, 'NS/NC', 0, '', [20, 20]]\n"
     ]
    }
   ],
   "source": [
    "fitTime[0]  = 15\n",
    "print(\"After changign first element:\\n\\t{}\".format(fitTime))"
   ]
  },
  {
   "cell_type": "code",
   "execution_count": 122,
   "metadata": {},
   "outputs": [
    {
     "name": "stdout",
     "output_type": "stream",
     "text": [
      "After appending 'casa':\n",
      "\t[15, 40, 22, 'NS/NC', 0, '', [20, 20], 'mucho']\n"
     ]
    }
   ],
   "source": [
    "# Añadirmos un valor al final de la lista\n",
    "fitTime.append('mucho')\n",
    "print(\"After appending 'casa':\\n\\t{}\".format(fitTime))"
   ]
  },
  {
   "cell_type": "markdown",
   "metadata": {},
   "source": [
    "También podemos eliminar elemento de una lista con `remove`. "
   ]
  },
  {
   "cell_type": "code",
   "execution_count": 16,
   "metadata": {},
   "outputs": [
    {
     "name": "stdout",
     "output_type": "stream",
     "text": [
      "After removing 'empty':\n",
      "\t[40, 22, 'NS/NC', 0, '', [20, 20]]\n"
     ]
    }
   ],
   "source": [
    "# Eliminamos el elemento vacío\n",
    "fitTime.remove(15)\n",
    "print(\"After removing 'empty':\\n\\t{}\".format(fitTime))"
   ]
  },
  {
   "cell_type": "markdown",
   "metadata": {},
   "source": [
    "Podéis ver todos los métodos para listas [aquí](https://docs.python.org/3/tutorial/datastructures.html#more-on-lists) o bien escribe el nombre de dicha variable seguida de un `.` y usa el tabulador. "
   ]
  },
  {
   "cell_type": "code",
   "execution_count": 186,
   "metadata": {},
   "outputs": [
    {
     "ename": "SyntaxError",
     "evalue": "invalid syntax (391235524.py, line 1)",
     "output_type": "error",
     "traceback": [
      "\u001b[0;36m  Cell \u001b[0;32mIn[186], line 1\u001b[0;36m\u001b[0m\n\u001b[0;31m    fitTime.\u001b[0m\n\u001b[0m            ^\u001b[0m\n\u001b[0;31mSyntaxError\u001b[0m\u001b[0;31m:\u001b[0m invalid syntax\n"
     ]
    }
   ],
   "source": [
    "fitTime."
   ]
  },
  {
   "cell_type": "markdown",
   "metadata": {},
   "source": [
    "## 2.5 Tuplas\n",
    "Las tuplas son agrupaciones **ordenadas** de elementos, **hetereogeneas** pero son **immutables**. No podemos modificar sus elementos, ni eliminar ni añadir. Son más eficientes computacionalmente (iteraciones más rápidas, consumen menos memoria y menos suscepitble a errores) pero es poco flexible para operar y tiene pocas métodos asociados.  \n",
    "\n",
    "Muy utilizado al cargar datos de un archivo, retorno de funciones.  "
   ]
  },
  {
   "cell_type": "code",
   "execution_count": 18,
   "metadata": {},
   "outputs": [
    {
     "data": {
      "text/plain": [
       "False"
      ]
     },
     "execution_count": 18,
     "metadata": {},
     "output_type": "execute_result"
    }
   ],
   "source": [
    "lista = [1, 2, 3]\n",
    "tupla = (1, 2, 3)\n",
    "lista == tupla"
   ]
  },
  {
   "cell_type": "code",
   "execution_count": 19,
   "metadata": {},
   "outputs": [
    {
     "name": "stdout",
     "output_type": "stream",
     "text": [
      "1\n",
      "[-1, 2, 3]\n"
     ]
    }
   ],
   "source": [
    "# Mientras que la lista se puede cambiar \n",
    "print(lista[0])\n",
    "lista[0] = -1\n",
    "print(lista)"
   ]
  },
  {
   "cell_type": "code",
   "execution_count": 20,
   "metadata": {},
   "outputs": [
    {
     "name": "stdout",
     "output_type": "stream",
     "text": [
      "1\n"
     ]
    },
    {
     "ename": "TypeError",
     "evalue": "'tuple' object does not support item assignment",
     "output_type": "error",
     "traceback": [
      "\u001b[0;31m---------------------------------------------------------------------------\u001b[0m",
      "\u001b[0;31mTypeError\u001b[0m                                 Traceback (most recent call last)",
      "Cell \u001b[0;32mIn[20], line 3\u001b[0m\n\u001b[1;32m      1\u001b[0m \u001b[38;5;66;03m# La tupla no\u001b[39;00m\n\u001b[1;32m      2\u001b[0m \u001b[38;5;28mprint\u001b[39m(tupla[\u001b[38;5;241m0\u001b[39m])\n\u001b[0;32m----> 3\u001b[0m \u001b[43mtupla\u001b[49m\u001b[43m[\u001b[49m\u001b[38;5;241;43m0\u001b[39;49m\u001b[43m]\u001b[49m \u001b[38;5;241m=\u001b[39m \u001b[38;5;241m-\u001b[39m\u001b[38;5;241m1\u001b[39m\n\u001b[1;32m      4\u001b[0m \u001b[38;5;28mprint\u001b[39m(tupla)\n",
      "\u001b[0;31mTypeError\u001b[0m: 'tuple' object does not support item assignment"
     ]
    }
   ],
   "source": [
    "# La tupla no\n",
    "print(tupla[0])\n",
    "tupla[0] = -1\n",
    "print(tupla)"
   ]
  },
  {
   "cell_type": "code",
   "execution_count": 127,
   "metadata": {},
   "outputs": [
    {
     "data": {
      "text/plain": [
       "True"
      ]
     },
     "execution_count": 127,
     "metadata": {},
     "output_type": "execute_result"
    }
   ],
   "source": [
    "# También se pueden omitir los paréntesis pero es menos usual\n",
    "tupla2 = 1, 2, 3\n",
    "tupla == tupla2"
   ]
  },
  {
   "cell_type": "markdown",
   "metadata": {},
   "source": [
    "Si queremos cambiarla podemos pasarla a lista y al revés:"
   ]
  },
  {
   "cell_type": "code",
   "execution_count": 21,
   "metadata": {},
   "outputs": [
    {
     "name": "stdout",
     "output_type": "stream",
     "text": [
      "Tipo de fitTime ahora es <class 'tuple'>\n"
     ]
    },
    {
     "ename": "TypeError",
     "evalue": "'tuple' object does not support item assignment",
     "output_type": "error",
     "traceback": [
      "\u001b[0;31m---------------------------------------------------------------------------\u001b[0m",
      "\u001b[0;31mTypeError\u001b[0m                                 Traceback (most recent call last)",
      "Cell \u001b[0;32mIn[21], line 4\u001b[0m\n\u001b[1;32m      2\u001b[0m fitTime \u001b[38;5;241m=\u001b[39m \u001b[38;5;28mtuple\u001b[39m([\u001b[38;5;241m20\u001b[39m, \u001b[38;5;241m40\u001b[39m, \u001b[38;5;241m22\u001b[39m, \u001b[38;5;124m\"\u001b[39m\u001b[38;5;124mNS/NC\u001b[39m\u001b[38;5;124m\"\u001b[39m, \u001b[38;5;241m0\u001b[39m, \u001b[38;5;124m'\u001b[39m\u001b[38;5;124m'\u001b[39m, [\u001b[38;5;241m20\u001b[39m,\u001b[38;5;241m20\u001b[39m]])\n\u001b[1;32m      3\u001b[0m \u001b[38;5;28mprint\u001b[39m(\u001b[38;5;124mf\u001b[39m\u001b[38;5;124m'\u001b[39m\u001b[38;5;124mTipo de fitTime ahora es \u001b[39m\u001b[38;5;132;01m{\u001b[39;00m\u001b[38;5;28mtype\u001b[39m(fitTime)\u001b[38;5;132;01m}\u001b[39;00m\u001b[38;5;124m'\u001b[39m)\n\u001b[0;32m----> 4\u001b[0m \u001b[43mfitTime\u001b[49m\u001b[43m[\u001b[49m\u001b[38;5;241;43m0\u001b[39;49m\u001b[43m]\u001b[49m \u001b[38;5;241m=\u001b[39m \u001b[38;5;124m'\u001b[39m\u001b[38;5;124m15\u001b[39m\u001b[38;5;124m'\u001b[39m\n",
      "\u001b[0;31mTypeError\u001b[0m: 'tuple' object does not support item assignment"
     ]
    }
   ],
   "source": [
    "# tup = (3,4)\n",
    "fitTime = tuple([20, 40, 22, \"NS/NC\", 0, '', [20,20]])\n",
    "print(f'Tipo de fitTime ahora es {type(fitTime)}')\n",
    "fitTime[0] = '15'\n"
   ]
  },
  {
   "cell_type": "code",
   "execution_count": null,
   "metadata": {},
   "outputs": [],
   "source": [
    "# Arhoa tenemos muy pocas funciones:\n",
    "fitTime."
   ]
  },
  {
   "cell_type": "markdown",
   "metadata": {},
   "source": [
    "¿Cuando es interesante usar una tupla? Cuando leemos datos externos, es una buena costumbre guardarlos en tuplas para que no los modifiquemos"
   ]
  },
  {
   "cell_type": "markdown",
   "metadata": {},
   "source": [
    "## 2.6 Diccionarios\n",
    "Los diccionarios en Python son colecciones muy útiles para guardar información de datasets complejos.  \n",
    "\n",
    "Son colecciones con parejas **valor-clave**. Las claves solo pueden aparecer una única vez y tienen un valor asociado. Son mutables con sus correspondientes operaciones básicas ya implementadas. Son muy útiles para guardar datos y se usan en muchos formatos, ej. `json`.\n"
   ]
  },
  {
   "cell_type": "code",
   "execution_count": 25,
   "metadata": {},
   "outputs": [
    {
     "data": {
      "text/plain": [
       "{'a': 1, 'b': 1, 'c': 2}"
      ]
     },
     "execution_count": 25,
     "metadata": {},
     "output_type": "execute_result"
    }
   ],
   "source": [
    "# se definen con llaves {}\n",
    "# Creamos un diccionario\n",
    "dict_0 = {\"a\": 1, \"b\": 1, \"c\": 2}\n",
    "dict_0"
   ]
  },
  {
   "cell_type": "markdown",
   "metadata": {},
   "source": [
    "Los diccionarios son muy útiles cuando tenemos objetos principales con una serie de propiedades. Por ejemplo, precios de productos:"
   ]
  },
  {
   "cell_type": "code",
   "execution_count": 26,
   "metadata": {},
   "outputs": [
    {
     "data": {
      "text/plain": [
       "{'oranges': 1.12, 'apples': 1.5, 'tomatoes': 1.7}"
      ]
     },
     "execution_count": 26,
     "metadata": {},
     "output_type": "execute_result"
    }
   ],
   "source": [
    "prices = {'oranges': 1.12, 'apples': 1.5, 'tomatoes': 1.7}\n",
    "prices"
   ]
  },
  {
   "cell_type": "markdown",
   "metadata": {},
   "source": [
    "pueden ser **heterogeneos**"
   ]
  },
  {
   "cell_type": "code",
   "execution_count": 27,
   "metadata": {},
   "outputs": [
    {
     "data": {
      "text/plain": [
       "{'oranges': 1, 'apples': 1.5, 'tomatoes': 'not available'}"
      ]
     },
     "execution_count": 27,
     "metadata": {},
     "output_type": "execute_result"
    }
   ],
   "source": [
    "prices = {\"oranges\" : 1, \"apples\" : 1.5, \"tomatoes\" : \"not available\"}\n",
    "prices"
   ]
  },
  {
   "cell_type": "markdown",
   "metadata": {},
   "source": [
    "**No importa el orden**, accedemos a ellos no mediante posición, si no mediante el nombre de la clave:"
   ]
  },
  {
   "cell_type": "code",
   "execution_count": 28,
   "metadata": {},
   "outputs": [
    {
     "ename": "NameError",
     "evalue": "name 'products_1' is not defined",
     "output_type": "error",
     "traceback": [
      "\u001b[0;31m---------------------------------------------------------------------------\u001b[0m",
      "\u001b[0;31mNameError\u001b[0m                                 Traceback (most recent call last)",
      "Cell \u001b[0;32mIn[28], line 5\u001b[0m\n\u001b[1;32m      2\u001b[0m prices_1 \u001b[38;5;241m=\u001b[39m {\u001b[38;5;124m'\u001b[39m\u001b[38;5;124moranges\u001b[39m\u001b[38;5;124m'\u001b[39m: \u001b[38;5;241m1.12\u001b[39m, \u001b[38;5;124m'\u001b[39m\u001b[38;5;124mapples\u001b[39m\u001b[38;5;124m'\u001b[39m: \u001b[38;5;241m1.5\u001b[39m, \u001b[38;5;124m'\u001b[39m\u001b[38;5;124mtomatoes\u001b[39m\u001b[38;5;124m'\u001b[39m: \u001b[38;5;241m1.7\u001b[39m}\n\u001b[1;32m      3\u001b[0m prices_2 \u001b[38;5;241m=\u001b[39m {\u001b[38;5;124m'\u001b[39m\u001b[38;5;124mapples\u001b[39m\u001b[38;5;124m'\u001b[39m: \u001b[38;5;241m1.5\u001b[39m, \u001b[38;5;124m'\u001b[39m\u001b[38;5;124moranges\u001b[39m\u001b[38;5;124m'\u001b[39m: \u001b[38;5;241m1.12\u001b[39m, \u001b[38;5;124m'\u001b[39m\u001b[38;5;124mtomatoes\u001b[39m\u001b[38;5;124m'\u001b[39m: \u001b[38;5;241m1.7\u001b[39m}\n\u001b[0;32m----> 5\u001b[0m \u001b[38;5;28mprint\u001b[39m(\u001b[43mproducts_1\u001b[49m \u001b[38;5;241m==\u001b[39m products_2)\n",
      "\u001b[0;31mNameError\u001b[0m: name 'products_1' is not defined"
     ]
    }
   ],
   "source": [
    "\n",
    "# los diccionarios no tienen orden\n",
    "prices_1 = {'oranges': 1.12, 'apples': 1.5, 'tomatoes': 1.7}\n",
    "prices_2 = {'apples': 1.5, 'oranges': 1.12, 'tomatoes': 1.7}\n",
    "\n",
    "print(products_1 == products_2)"
   ]
  },
  {
   "cell_type": "code",
   "execution_count": 29,
   "metadata": {},
   "outputs": [
    {
     "ename": "KeyError",
     "evalue": "0",
     "output_type": "error",
     "traceback": [
      "\u001b[0;31m---------------------------------------------------------------------------\u001b[0m",
      "\u001b[0;31mKeyError\u001b[0m                                  Traceback (most recent call last)",
      "Cell \u001b[0;32mIn[29], line 1\u001b[0m\n\u001b[0;32m----> 1\u001b[0m \u001b[43mprices_1\u001b[49m\u001b[43m[\u001b[49m\u001b[38;5;241;43m0\u001b[39;49m\u001b[43m]\u001b[49m\n",
      "\u001b[0;31mKeyError\u001b[0m: 0"
     ]
    }
   ],
   "source": [
    "prices_1[0]"
   ]
  },
  {
   "cell_type": "code",
   "execution_count": 30,
   "metadata": {},
   "outputs": [
    {
     "data": {
      "text/plain": [
       "1.12"
      ]
     },
     "execution_count": 30,
     "metadata": {},
     "output_type": "execute_result"
    }
   ],
   "source": [
    "prices_1[\"oranges\"]"
   ]
  },
  {
   "cell_type": "markdown",
   "metadata": {},
   "source": [
    "Son **mutables** por lo que podemos añadir y eliminar elementos. "
   ]
  },
  {
   "cell_type": "code",
   "execution_count": 31,
   "metadata": {},
   "outputs": [
    {
     "name": "stdout",
     "output_type": "stream",
     "text": [
      "After adding d, dict_0 is:\n",
      "\t{'oranges': 1, 'apples': 1.5, 'tomatoes': 'not available', 'banana': 2.1}\n"
     ]
    }
   ],
   "source": [
    "# Añadimos elemento con llave d y valor 40\n",
    "prices[\"banana\"] = 2.1\n",
    "print(\"After adding d, dict_0 is:\\n\\t{}\".format(prices))"
   ]
  },
  {
   "cell_type": "code",
   "execution_count": 32,
   "metadata": {},
   "outputs": [
    {
     "name": "stdout",
     "output_type": "stream",
     "text": [
      "After updating a, dict_0 is:\n",
      "\t{'oranges': 1, 'apples': 1.5, 'tomatoes': 1.8, 'banana': 2.1}\n"
     ]
    }
   ],
   "source": [
    "# Actualizamos uno de los elementos ya definidos:\n",
    "prices['tomatoes'] = 1.8\n",
    "print(\"After updating a, dict_0 is:\\n\\t{}\".format(prices))"
   ]
  },
  {
   "cell_type": "markdown",
   "metadata": {},
   "source": [
    "Podemos recuperar todas las claves de un diccionario con `keys`, los valores con `values`y ambos con `items`:"
   ]
  },
  {
   "cell_type": "code",
   "execution_count": 33,
   "metadata": {},
   "outputs": [
    {
     "data": {
      "text/plain": [
       "dict_keys(['oranges', 'apples', 'tomatoes', 'banana'])"
      ]
     },
     "execution_count": 33,
     "metadata": {},
     "output_type": "execute_result"
    }
   ],
   "source": [
    "# vemos las claves con keys\n",
    "prices.keys()\n"
   ]
  },
  {
   "cell_type": "code",
   "execution_count": 34,
   "metadata": {},
   "outputs": [
    {
     "data": {
      "text/plain": [
       "dict_values([1, 1.5, 1.8, 2.1])"
      ]
     },
     "execution_count": 34,
     "metadata": {},
     "output_type": "execute_result"
    }
   ],
   "source": [
    "# vemos los valores\n",
    "prices.values()"
   ]
  },
  {
   "cell_type": "code",
   "execution_count": 165,
   "metadata": {},
   "outputs": [
    {
     "data": {
      "text/plain": [
       "[1.8, 1.5, 1.8, 2.1]"
      ]
     },
     "execution_count": 165,
     "metadata": {},
     "output_type": "execute_result"
    }
   ],
   "source": [
    "list(prices.values())"
   ]
  },
  {
   "cell_type": "code",
   "execution_count": 35,
   "metadata": {},
   "outputs": [
    {
     "data": {
      "text/plain": [
       "dict_items([('oranges', 1), ('apples', 1.5), ('tomatoes', 1.8), ('banana', 2.1)])"
      ]
     },
     "execution_count": 35,
     "metadata": {},
     "output_type": "execute_result"
    }
   ],
   "source": [
    "# vemos los los elementos\n",
    "prices.items()"
   ]
  },
  {
   "cell_type": "code",
   "execution_count": 18,
   "metadata": {},
   "outputs": [
    {
     "ename": "SyntaxError",
     "evalue": "invalid syntax (17920272.py, line 1)",
     "output_type": "error",
     "traceback": [
      "\u001b[0;36m  File \u001b[0;32m\"/var/folders/8n/8gxx65_52xq17qlkhphqy2hm0000gn/T/ipykernel_82028/17920272.py\"\u001b[0;36m, line \u001b[0;32m1\u001b[0m\n\u001b[0;31m    dict_0.\u001b[0m\n\u001b[0m           ^\u001b[0m\n\u001b[0;31mSyntaxError\u001b[0m\u001b[0;31m:\u001b[0m invalid syntax\n"
     ]
    }
   ],
   "source": [
    "prices."
   ]
  },
  {
   "cell_type": "markdown",
   "metadata": {},
   "source": [
    "Para ver en detalle todos los métodos implementados para diccionarios podéis verlo [aquí](https://docs.python.org/3.8/library/stdtypes.html#dict). Son menos intuitivos de usar pero muy prácticos y eficientes cuando los conoces bien. \n",
    "\n"
   ]
  },
  {
   "cell_type": "markdown",
   "metadata": {},
   "source": [
    "## Arrays y Dataframes \n",
    "Aquí hemos visto los tipos típicos de **Python** pero hay paquetes que tienen sus propios tipos como por ejemplo vectores (o arrays) en **NumPy**, dataframes en **Pandas** que veréis más adelante."
   ]
  },
  {
   "cell_type": "markdown",
   "metadata": {},
   "source": [
    "# 3. Ejercicios para practicar\n",
    "Os dejamos aquí unos cuantos ejercicios, se pueden hacer con lo que acabamos de ver y/o mirando los links que se dan en este notebook. \n"
   ]
  },
  {
   "cell_type": "markdown",
   "metadata": {},
   "source": [
    "**1.**- Tomamos los datos de temperatura del mes pasado de la AEMET.  Vas a hacer algunas pruebas pero no quieres que se modifique nada. ¿Qué estructura usarías para cargarlos? \n",
    "\n",
    "datos -->  6.4902453,\n",
    " 6.0602455,\n",
    " 5.5602455,\n",
    " 4.630245,\n",
    " 3.6602454,\n",
    " 3.8802452,\n",
    " 'nan',\n",
    " 3.6502452,\n",
    " 3.1102452,\n",
    " 2.7302456,\n",
    " 2.5102453,\n",
    " 2.4402454,\n",
    " 4.2502456,\n",
    " 6.5302453,\n",
    " 8.290245,\n",
    " 10.090245,\n",
    " 11.3102455,\n",
    " 12.100245,\n",
    " 10.530245,\n",
    " 'nan',\n",
    " 7.3002453\n",
    "\n",
    "Queremos operar con los datos y quitar los 'nan' numbers. ¿Qué procedimiento seguirías?\n",
    "**para discutir**"
   ]
  },
  {
   "cell_type": "code",
   "execution_count": 38,
   "metadata": {},
   "outputs": [
    {
     "name": "stdout",
     "output_type": "stream",
     "text": [
      "[6.4902453, 6.0602455, 5.5602455, 4.630245, 3.6602454, 3.8802452, 3.6502452, 3.1102452, 2.7302456, 2.5102453, 2.4402454, 4.2502456, 6.5302453, 8.290245, 10.090245, 11.3102455, 12.100245, 10.530245, 'nan', 7.3002453]\n"
     ]
    }
   ],
   "source": [
    "# Codigo\n",
    "lista = [6.4902453, 6.0602455, 5.5602455, 4.630245, 3.6602454, 3.8802452, 'nan', 3.6502452, 3.1102452, 2.7302456, 2.5102453, 2.4402454, 4.2502456, 6.5302453, 8.290245, 10.090245, 11.3102455, 12.100245, 10.530245, 'nan', 7.3002453]\n",
    "lista.remove('nan')\n",
    "print(lista)"
   ]
  },
  {
   "cell_type": "markdown",
   "metadata": {},
   "source": [
    "**2.** Tenéis una serie de información sobre distintas frutas y verduras, su precio, su calidad y su procedencia. Que estructura usarías para guardar esos datos? De tal manera que sea la más óptima para luego acceder a la información?\n",
    "\n",
    "Datos:\n",
    "\n",
    "  **Fruta, precio (€/kg), calidad, procedencia**\n",
    "\n",
    "    Naranjas, 1.12, normal, españa\n",
    "    Tomate pera, 1.5, baja, sudáfrica\n",
    "    Tomate ensalada, 2.9, alta, españa\n",
    "    Patata, 1.7, normal, españa\n",
    "    Anchoas, 8, alta, españa\n",
    "\n",
    "Contesta con código:\n",
    "- que calidad tiene el tomate de ensalada\n",
    "- que precio y procedencia tienen las anchoas\n",
    "- comprueba si el tomate pera viene de sudáfrica (usa una variable lógica)\n",
    "- y si la patata está más barata de 2 €/kg\n",
    "**para discutir**"
   ]
  },
  {
   "cell_type": "code",
   "execution_count": 45,
   "metadata": {},
   "outputs": [
    {
     "data": {
      "text/plain": [
       "dict_values(['tomate pera', 1.5, 'baja', 'Sudáfirca'])"
      ]
     },
     "execution_count": 45,
     "metadata": {},
     "output_type": "execute_result"
    }
   ],
   "source": [
    "# Escribe código\n",
    "\n",
    "info_frutas = [{\"nombre\": \"naranja\", \"precio\": 1.12, \"calidad\": \"normal\", \"procedencia\": \"España\"}, \n",
    "               {\"nombre\": \"tomate pera\", \"precio\": 1.5, \"calidad\": \"baja\", \"procedencia\": \"Sudáfirca\"},]\n",
    "info_frutas[1].values()"
   ]
  },
  {
   "cell_type": "code",
   "execution_count": 50,
   "metadata": {},
   "outputs": [],
   "source": [
    "frutas_dict = {\"naranjas\": {\"precio\": 1.12, \"calidad\": \"normal\", \"procedencia\": \"España\"}, \n",
    "               \"tomate pera\" : {\"precio\": 1.5, \"calidad\": \"baja\", \"procedencia\": \"Sudáfirca\"}}"
   ]
  },
  {
   "cell_type": "code",
   "execution_count": 56,
   "metadata": {},
   "outputs": [
    {
     "data": {
      "text/plain": [
       "1.12"
      ]
     },
     "execution_count": 56,
     "metadata": {},
     "output_type": "execute_result"
    }
   ],
   "source": [
    "frutas_dict[\"naranjas\"][\"precio\"]"
   ]
  },
  {
   "cell_type": "code",
   "execution_count": 55,
   "metadata": {},
   "outputs": [
    {
     "data": {
      "text/plain": [
       "1.12"
      ]
     },
     "execution_count": 55,
     "metadata": {},
     "output_type": "execute_result"
    }
   ],
   "source": [
    "dict_naranja[\"precio\"]"
   ]
  },
  {
   "cell_type": "markdown",
   "metadata": {},
   "source": [
    "**3.**- Escribe un diccionario con 5 ciudades y su número de habitantes. \n",
    "\n",
    "2.1 Añade dos ciudades más \n",
    "\n",
    "2.2 Muestra sólo las ciudades del diccionario. "
   ]
  },
  {
   "cell_type": "code",
   "execution_count": 181,
   "metadata": {},
   "outputs": [],
   "source": [
    "# Escribe código\n"
   ]
  },
  {
   "cell_type": "markdown",
   "metadata": {},
   "source": [
    "**4.**- Opera en la lista_1 para obtener lista_2\n"
   ]
  },
  {
   "cell_type": "code",
   "execution_count": 182,
   "metadata": {},
   "outputs": [],
   "source": [
    "lista_1 = ['Rojo', 'Verde', 'Blanco', 'Rosa', 'Amarillo']\n",
    "lista_2 = ['Verde', 'Blanco', 'Negro']\n",
    " \n",
    "# escribe el código"
   ]
  },
  {
   "cell_type": "code",
   "execution_count": 183,
   "metadata": {},
   "outputs": [],
   "source": [
    "# escribe el código"
   ]
  },
  {
   "cell_type": "markdown",
   "metadata": {},
   "source": [
    "**5.**- Une los siguientes diccionarios en uno, muestra las claves y los valores por separado (se concatena con `update`, pero busca en la documentación como hacerlo)"
   ]
  },
  {
   "cell_type": "code",
   "execution_count": 184,
   "metadata": {},
   "outputs": [],
   "source": [
    "dic1 = {\"uno\" : 10, \"dos\" : 20}\n",
    "dic2 = {\"tres\" : 30, \"cuatro\" : 40}\n",
    "dic3 = {\"cinco\" : 50, \"seis\" : 60}\n",
    "\n",
    "# concatena el diccionario"
   ]
  },
  {
   "cell_type": "code",
   "execution_count": null,
   "metadata": {},
   "outputs": [],
   "source": [
    "# Escribe código"
   ]
  }
 ],
 "metadata": {
  "kernelspec": {
   "display_name": "Python 3 (ipykernel)",
   "language": "python",
   "name": "python3"
  },
  "language_info": {
   "codemirror_mode": {
    "name": "ipython",
    "version": 3
   },
   "file_extension": ".py",
   "mimetype": "text/x-python",
   "name": "python",
   "nbconvert_exporter": "python",
   "pygments_lexer": "ipython3",
   "version": "3.11.2"
  }
 },
 "nbformat": 4,
 "nbformat_minor": 2
}
