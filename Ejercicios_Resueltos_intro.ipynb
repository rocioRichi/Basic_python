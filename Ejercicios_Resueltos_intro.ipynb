{
 "cells": [
  {
   "cell_type": "markdown",
   "id": "94165e45",
   "metadata": {},
   "source": [
    "## N1_PythonBasic"
   ]
  },
  {
   "cell_type": "markdown",
   "id": "14583f4f",
   "metadata": {},
   "source": [
    "1.- Genera una tupla que contenga 6 elementos de distintos tipos. Una string, una lista numérica, dos número reales, un entero y un diccionario con tres entradas. Escribe con print el primer elemento de la tupla, el tercero y el último. Y también el tipo del segundo elemento."
   ]
  },
  {
   "cell_type": "code",
   "execution_count": 3,
   "id": "0633989a",
   "metadata": {},
   "outputs": [
    {
     "name": "stdout",
     "output_type": "stream",
     "text": [
      "casa\n",
      "2.3\n",
      "{'val1': 5, 'val2': 12, 'val3': 5}\n",
      "<class 'list'>\n"
     ]
    }
   ],
   "source": [
    "# posible solución\n",
    "tupla = ('casa', [1,2,3], 2.3, -12.1, 4, {'val1':5,'val2':12,'val3':5})\n",
    "print(tupla[0])\n",
    "print(tupla[2])\n",
    "print(tupla[-1])\n",
    "print(type(tupla[1]))"
   ]
  },
  {
   "cell_type": "markdown",
   "id": "6b973f4a",
   "metadata": {},
   "source": [
    "\n",
    "2.- Escribe un diccionario con 5 ciudades y su número de habitantes \n",
    "\n",
    "\n",
    "2.1 Añade dos ciudades más \n",
    "\n",
    "2.2 Muestra sólo las ciudades del diccionario. "
   ]
  },
  {
   "cell_type": "code",
   "execution_count": 7,
   "id": "f4b40a6a",
   "metadata": {},
   "outputs": [
    {
     "data": {
      "text/plain": [
       "{'madrid': 3220000.0,\n",
       " 'barcelona': 1660000.0,\n",
       " 'sandander': 171000.0,\n",
       " 'torrelavega': 51600.0,\n",
       " 'valencia': 790000.0,\n",
       " 'cuenca': 55000.0,\n",
       " 'La Laguna': 155000.0}"
      ]
     },
     "execution_count": 7,
     "metadata": {},
     "output_type": "execute_result"
    }
   ],
   "source": [
    "dict_1 = {'madrid' : 3.22E6, 'barcelona' : 1.66E6, 'sandander' : 1.71E5, 'torrelavega' : 5.16E4, 'valencia' : 7.9E5}\n",
    "#2.1\n",
    "dict_1[\"cuenca\"] = 5.5E4; dict_1[\"La Laguna\"] = 1.55E5\n",
    "dict_1\n"
   ]
  },
  {
   "cell_type": "code",
   "execution_count": 11,
   "id": "5893abd9",
   "metadata": {},
   "outputs": [
    {
     "name": "stdout",
     "output_type": "stream",
     "text": [
      "dict_keys(['madrid', 'barcelona', 'sandander', 'torrelavega', 'valencia', 'cuenca', 'La Laguna'])\n"
     ]
    }
   ],
   "source": [
    "#2.2\n",
    "print(dict_1.keys())\n"
   ]
  },
  {
   "cell_type": "code",
   "execution_count": 12,
   "id": "b5aca5c1",
   "metadata": {},
   "outputs": [
    {
     "name": "stdout",
     "output_type": "stream",
     "text": [
      "madrid\n",
      "barcelona\n",
      "sandander\n",
      "torrelavega\n",
      "valencia\n",
      "cuenca\n",
      "La Laguna\n"
     ]
    }
   ],
   "source": [
    "# o también\n",
    "for i in dict_1.keys():\n",
    "    print(i)"
   ]
  },
  {
   "cell_type": "markdown",
   "id": "e798804f",
   "metadata": {},
   "source": [
    "3. Opera en la lista_1 para obtener lista_2"
   ]
  },
  {
   "cell_type": "code",
   "execution_count": 11,
   "id": "bdf54487",
   "metadata": {},
   "outputs": [
    {
     "data": {
      "text/plain": [
       "True"
      ]
     },
     "execution_count": 11,
     "metadata": {},
     "output_type": "execute_result"
    }
   ],
   "source": [
    "lista_1 = ['Rojo', 'Verde', 'Blanco', 'Rosa', 'Amarillo']\n",
    "lista_2 = ['Verde', 'Blanco', 'Negro']\n",
    "\n",
    "lista_1.pop()\n",
    "lista_1.remove('Rosa')\n",
    "lista_1.pop(0)\n",
    "lista_1.append('Negro')\n",
    "\n",
    "# check if they are the same\n",
    "lista_1 == lista_2"
   ]
  },
  {
   "cell_type": "markdown",
   "id": "f40cc92f",
   "metadata": {},
   "source": [
    "4. Concatena los siguientes diccionarios, muestra las claves y los valores por separado"
   ]
  },
  {
   "cell_type": "code",
   "execution_count": 30,
   "id": "effd6ec3",
   "metadata": {},
   "outputs": [
    {
     "data": {
      "text/plain": [
       "{'uno': 10, 'dos': 20, 'tres': 30, 'cuatro': 40, 'cinco': 50, 'seis': 60}"
      ]
     },
     "execution_count": 30,
     "metadata": {},
     "output_type": "execute_result"
    }
   ],
   "source": [
    "# En el ejemplo original las claves eran entero pero es más común que sean strings, lo cambio:\n",
    "dic1 = {\"uno\" : 10, \"dos\" : 20}\n",
    "dic2 = {\"tres\" : 30, \"cuatro\" : 40}\n",
    "dic3 = {\"cinco\" : 50, \"seis\" : 60}\n",
    "# concatena el diccionario. Buscamos como hacerlo\n",
    "# en la documentación de Python\n",
    "dic1.update(dic2)\n",
    "dic1.update(dic3)\n",
    "dic1"
   ]
  },
  {
   "cell_type": "markdown",
   "id": "41a8b776",
   "metadata": {},
   "source": [
    "# N2_Funciones_y_estructuras de control"
   ]
  },
  {
   "cell_type": "markdown",
   "id": "71af3257",
   "metadata": {},
   "source": [
    "1. Tienes los siguientes diccionarios:"
   ]
  },
  {
   "cell_type": "markdown",
   "id": "7ed6e27d",
   "metadata": {},
   "source": [
    "Haz una lista llamada `estudiantes` con estos 3 diccionarios. Calcula la media de la nota de las tareas, examanes y tests de cada estudiante y la media global (la media de las 3 notas). Escríbelo en dos líneas usando format(). \n",
    "\n",
    "Ejemplo:\n",
    "\n",
    "Notas medias de Sara, 2.8 en tareas, 5.4 en exámenes y 6.3 en tests. \n",
    "\n",
    "Media total: 4.83"
   ]
  },
  {
   "cell_type": "code",
   "execution_count": 21,
   "id": "287b89e2",
   "metadata": {},
   "outputs": [],
   "source": [
    "maria = { \n",
    "    'nombre' : 'Maria',\n",
    "    'tareas' : [9.3, 7.8, 6.9],\n",
    "    'examenes' : [8.4, 7.2],\n",
    "    'tests' : [8.4, 7.9, 8.3, 7.5]\n",
    "}\n",
    "\n",
    "juan = { \n",
    "    'nombre' : 'Juan',\n",
    "    'tareas' : [6.4, 2.5, 4.9],\n",
    "    'examenes' : [5.4, 5.3],\n",
    "    'tests' : [6.0, 7.0, 5.4, 6.3]\n",
    "}\n",
    "\n",
    "elsa = { \n",
    "    'nombre' : 'Elsa',\n",
    "    'tareas' : [9.0, 9.5, 8.4],\n",
    "    'examenes' : [9.2, 7.5],\n",
    "    'tests' : [8.2, 7.3, 6.4, 6.3]\n",
    "}"
   ]
  },
  {
   "cell_type": "code",
   "execution_count": 33,
   "id": "8436c022",
   "metadata": {},
   "outputs": [
    {
     "name": "stdout",
     "output_type": "stream",
     "text": [
      "Notas medias de Maria, 8.00 en tareas, 7.80 en exámenes y 8.03 en test\n",
      "Media total de Maria es 7.94\n",
      "Notas medias de Juan, 4.60 en tareas, 5.35 en exámenes y 6.17 en test\n",
      "Media total de Juan es 5.38\n",
      "Notas medias de Elsa, 8.97 en tareas, 8.35 en exámenes y 7.05 en test\n",
      "Media total de Elsa es 8.12\n"
     ]
    }
   ],
   "source": [
    "estudiantes = [maria, juan, elsa]\n",
    "for dict0 in estudiantes:\n",
    "    dict_2 = {k: sum(v)/len(v) for (k, v) in dict0.items() if k != \"nombre\"}\n",
    "    print('Notas medias de {}, {:.2f} en tareas, {:.2f} en exámenes y {:.2f} en test'\n",
    "          .format(dict0[\"nombre\"],dict_2[\"tareas\"],dict_2[\"examenes\"],\n",
    "          dict_2[\"tests\"]))\n",
    "    print('Media total de {} es {:.2f}'.format(\n",
    "          dict0[\"nombre\"],(dict_2[\"tareas\"]+dict_2[\"examenes\"]+dict_2[\"tests\"])/3))\n",
    "    "
   ]
  },
  {
   "cell_type": "markdown",
   "id": "f10d7894",
   "metadata": {},
   "source": [
    "2. Calcula la suma de los primers 100 números pares. (pista: los números pares cumplen la condición i % 2 == 0)"
   ]
  },
  {
   "cell_type": "code",
   "execution_count": 58,
   "id": "92b8e238",
   "metadata": {},
   "outputs": [
    {
     "name": "stdout",
     "output_type": "stream",
     "text": [
      "la suma de los primeros 100 números pares es 2550\n"
     ]
    }
   ],
   "source": [
    "suma = 0\n",
    "cont = 0\n",
    "while cont <100:\n",
    "    cont += 1\n",
    "    if (cont % 2) == 0:\n",
    "        suma += cont\n",
    "               \n",
    "print('la suma de los primeros 100 números pares es', suma)         "
   ]
  },
  {
   "cell_type": "markdown",
   "id": "22bf8748",
   "metadata": {},
   "source": [
    "4. Contad y guardad en un diccionario el número de veces que aparece cada palabra en el siguiente texto:\n",
    "\n",
    "*...el gato al rato, el rato a la cuerda, la cuerda al palo, daba el arriero a Sancho, Sancho a la moza, la moza a él, el ventero a la moza...*"
   ]
  },
  {
   "cell_type": "code",
   "execution_count": 26,
   "id": "612684cf",
   "metadata": {},
   "outputs": [
    {
     "name": "stdout",
     "output_type": "stream",
     "text": [
      "el gato al rato el rato a la cuerda la cuerda al palo daba el arriero a Sancho Sancho a la moza la moza a él el ventero a la moza\n",
      "{'el': 4, 'gato': 1, 'al': 2, 'rato': 2, 'a': 5, 'la': 5, 'cuerda': 2, 'palo': 1, 'daba': 1, 'arriero': 1, 'Sancho': 2, 'moza': 3, 'él': 1, 'ventero': 1}\n"
     ]
    },
    {
     "data": {
      "text/plain": [
       "[('a', 5),\n",
       " ('la', 5),\n",
       " ('el', 4),\n",
       " ('moza', 3),\n",
       " ('al', 2),\n",
       " ('rato', 2),\n",
       " ('cuerda', 2),\n",
       " ('Sancho', 2),\n",
       " ('gato', 1),\n",
       " ('palo', 1),\n",
       " ('daba', 1),\n",
       " ('arriero', 1),\n",
       " ('él', 1),\n",
       " ('ventero', 1)]"
      ]
     },
     "execution_count": 26,
     "metadata": {},
     "output_type": "execute_result"
    }
   ],
   "source": [
    "text = \"el gato al rato, el rato a la cuerda, la cuerda al palo, daba el arriero a Sancho,\"\n",
    "text += \" Sancho a la moza, la moza a él, el ventero a la moza...\"\n",
    "\n",
    "text = text.replace(',', '')\n",
    "text = text.replace('...', '')\n",
    "print(text)\n",
    "\n",
    "# Usamos un diccionario para almacenar el número de veces que\n",
    "# sale cada palabra\n",
    "word_counter = {}\n",
    "for word in text.split(\" \"):\n",
    "    if word in word_counter:\n",
    "        # Si ya hemos encontrado la palabra anteriormente, incrementamos\n",
    "        # el contador\n",
    "        word_counter[word] += 1\n",
    "    else:\n",
    "        # Si es la primera vez que veamos la palabra, ponemos el contador a 1\n",
    "        word_counter[word] = 1\n",
    "\n",
    "print((word_counter))\n",
    "# para darlo ordenado: \n",
    "sorted(word_counter.items(), key=lambda x: x[1], reverse=True)"
   ]
  },
  {
   "cell_type": "markdown",
   "id": "e95e39fb",
   "metadata": {},
   "source": [
    "# N3 - Funciones \n",
    "\n",
    "1.1. Definid una función que calcule el cuadrado de un número de parámetros cualquiera.\n",
    "\n",
    "1.2. Definid otra función que reciba como argumento la función anterior y un número de parámetros cualquiera, superior a 1, y que devuelva el resultado de sumar el resultado de aplicar la función que recibe como primer parámetro a cada uno de los otros parámetros.\n",
    "\n",
    "Por ejemplo, si la función recibe como parámetros opcionales 5 y 10 el resultado debería ser $ 5 ^ 2 + 10 ^ 2 = 125 $.\n",
    "\n",
    "1.3. Comprueba que es así en este caso y llámala otra vez con 5 argumentos."
   ]
  },
  {
   "cell_type": "code",
   "execution_count": 91,
   "id": "fedf81e4",
   "metadata": {},
   "outputs": [
    {
     "data": {
      "text/plain": [
       "125"
      ]
     },
     "execution_count": 91,
     "metadata": {},
     "output_type": "execute_result"
    }
   ],
   "source": [
    "import numpy as np\n",
    "def square(*param):\n",
    "    l = [n**2 for n in param[0]]   # param es una tupla con shape (1, len(param))\n",
    "                                   # para acceder a ella usamos param[0]. Esto era un poco tricky:\n",
    "    return l\n",
    "\n",
    "def func(f, *param):\n",
    "    \"\"\" function that applies f to the optional parameters.\n",
    "        Number of parameters shoulb be greater than 1 \"\"\"\n",
    "    if len(param) > 1:\n",
    "        return sum(f(param))\n",
    "    else: \n",
    "        print('We need to use at least 2 parameters')\n",
    "        \n",
    "        \n",
    "func(square, 5,10)    "
   ]
  },
  {
   "cell_type": "code",
   "execution_count": 94,
   "id": "ba11580e",
   "metadata": {},
   "outputs": [
    {
     "data": {
      "text/plain": [
       "10130"
      ]
     },
     "execution_count": 94,
     "metadata": {},
     "output_type": "execute_result"
    }
   ],
   "source": [
    "func(square, 5, 10, 2, 100, -1 ) "
   ]
  },
  {
   "cell_type": "markdown",
   "id": "1cf67abb",
   "metadata": {},
   "source": [
    "2.  Haz una función que dada una lista, la ordene y te devuelva la primera palabra\n",
    "\n",
    "Aplica esta función a la lista: ['Bangkok','Barcelona','Beijing','BuenosAires','Berlin','Badajoz','Barakaldo','Barcena','Burgos','Bilbao','Baena']"
   ]
  },
  {
   "cell_type": "code",
   "execution_count": 61,
   "id": "d00ec2be",
   "metadata": {},
   "outputs": [
    {
     "data": {
      "text/plain": [
       "'Badajoz'"
      ]
     },
     "execution_count": 61,
     "metadata": {},
     "output_type": "execute_result"
    }
   ],
   "source": [
    "def func(lista):\n",
    "    lista.sort()\n",
    "    return lista[0]\n",
    "\n",
    "list1 = ['Bangkok','Barcelona','Beijing','BuenosAires','Berlin',\n",
    "         'Badajoz','Barakaldo','Barcena','Burgos','Bilbao','Baena']\n",
    "func(list1)"
   ]
  },
  {
   "cell_type": "markdown",
   "id": "42b16217",
   "metadata": {},
   "source": [
    "# N4 - lectura de ficheros"
   ]
  },
  {
   "cell_type": "code",
   "execution_count": null,
   "id": "854d17b7",
   "metadata": {},
   "outputs": [],
   "source": [
    "2. # Usando pandas lee el archivo csv winemag-data_first150k.csv sobre críticas de vinos y: \n",
    "\n",
    "2.1. Haz un nuevo dataframe con solo los vinos españoles. Puedes decir cuántos vinos son de España?\n",
    "\n",
    "2.2 Haz un histograma de los precios generales, y otro con los precios españoles.\n",
    "¿Puedes sacar alguna conclusión a simple vista?\n",
    "\n",
    "2.4 Guarda el dataframe con solo los vinos españoles en un archivo llamado spanish_wines.csv"
   ]
  },
  {
   "cell_type": "code",
   "execution_count": 4,
   "id": "567ce6e8",
   "metadata": {},
   "outputs": [
    {
     "data": {
      "text/plain": [
       "8268"
      ]
     },
     "execution_count": 4,
     "metadata": {},
     "output_type": "execute_result"
    }
   ],
   "source": [
    "import pandas as pd\n",
    "df = pd.read_csv('data/winemag-data_first150k.csv')\n",
    "\n",
    "#2.1 \n",
    "df_2 = df.loc[df['country'] == 'Spain']\n",
    "len(df_2)\n",
    "#df_2 = df.loc[df['country'] == 'Spain']"
   ]
  },
  {
   "cell_type": "code",
   "execution_count": 5,
   "id": "ba783ece",
   "metadata": {},
   "outputs": [
    {
     "data": {
      "image/png": "[encoded data removed]",
      "text/plain": [
       "<Figure size 432x288 with 1 Axes>"
      ]
     },
     "metadata": {
      "needs_background": "light"
     },
     "output_type": "display_data"
    }
   ],
   "source": [
    "#2.2\n",
    "df[\"price\"].hist(density=True, label = 'world price')\n",
    "df_2[\"price\"].hist(density=True, legend = True);"
   ]
  },
  {
   "cell_type": "code",
   "execution_count": null,
   "id": "436a4c7f",
   "metadata": {},
   "outputs": [],
   "source": [
    "#2.4 \n",
    "df_2.to_csv('spanish_wines.csv')"
   ]
  }
 ],
 "metadata": {
  "kernelspec": {
   "display_name": "Python 3 (ipykernel)",
   "language": "python",
   "name": "python3"
  },
  "language_info": {
   "codemirror_mode": {
    "name": "ipython",
    "version": 3
   },
   "file_extension": ".py",
   "mimetype": "text/x-python",
   "name": "python",
   "nbconvert_exporter": "python",
   "pygments_lexer": "ipython3",
   "version": "3.9.13"
  }
 },
 "nbformat": 4,
 "nbformat_minor": 5
}
