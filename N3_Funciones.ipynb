{
 "cells": [
  {
   "cell_type": "markdown",
   "metadata": {},
   "source": [
    "#  Funciones\n",
    "Una función es un conjunto de líneas de código que realizan una tarea específica y puede retornar uno o más valores. \n",
    "\n",
    "Las funciones son muy útiles para evitar repetir trozo de código cada si queremos hacer una tarea o operación frecuentemente o para hacer el código más leíble. Las funciones **alteran el flujo** de ejecución lineal de un programa, ya que cuando la definimos con la palabra `def`, el código de dentro no se ejecuta de forma lineal si no cuando es llamada.\n",
    "\n",
    "En esta notebook veremos como definir funciones en **Python** y algunos usos más avanzados de las funciones. Veremos el ámbito de una variable (*scope*), como devuelven valores esas funciones y que tipo de argumentos pueden tener. Finalmente veremos que es el *docstring*, muy útil cuando compartimos nuestro código.  \n",
    "\n",
    "<ul style=\"list-style-type:none\">\n",
    "    <li><a href='#1.-Definir una función'>1. Definir una función</a></li>\n",
    "    <li><a href='#2.-Valor-de-retorno'>2. Valor de retorno</a></li>\n",
    "    <li><a href='#3.-Parámetros-de-entrada'>3. Parámetros de entrada</a></li>\n",
    "    <li><a href=\"#4.-Docstring\">4. Docstring </a></li>\n",
    "    <li><a href=\"#5.-Módulos\">5. Módulos </a></li>\n",
    "    <li><a href=\"#6.-Ejercicios-para-practicar\">6. Ejercicios </a></li>\n",
    "\n",
    "  \n",
    "\n",
    "</ul>\n",
    "\n"
   ]
  },
  {
   "cell_type": "markdown",
   "metadata": {},
   "source": [
    "## 1. Definir una función\n",
    "\n",
    "\n",
    "Para definir una función en **Python** se usa `def`, seguido el nombre de la función, entre paréntesis los parámetros de entrada y al final `:`. Por ejemplo si queremos hacer una función para que sume dos números: "
   ]
  },
  {
   "cell_type": "code",
   "execution_count": 2,
   "metadata": {},
   "outputs": [],
   "source": [
    "# Definimos la función de nombre 'sum_two_values' con dos parámetros:\n",
    "# 'x' e 'y':\n",
    "def sum_two_values(x, y):\n",
    "    \"\"\"Return the value of the sum.\"\"\"\n",
    "    z = x + y\n",
    "    print('la suma de {} y {} es igual a {}'.format(x,y,z))\n"
   ]
  },
  {
   "cell_type": "markdown",
   "metadata": {},
   "source": [
    "Una vez definida la función la podemos llamar al igual que las built-in functions nombre_funcion()"
   ]
  },
  {
   "cell_type": "code",
   "execution_count": 3,
   "metadata": {},
   "outputs": [
    {
     "name": "stdout",
     "output_type": "stream",
     "text": [
      "la suma de 10 y 123 es igual a 133\n"
     ]
    }
   ],
   "source": [
    "sum_two_values(10,123)"
   ]
  },
  {
   "cell_type": "markdown",
   "metadata": {},
   "source": [
    "## 2. Valor de retorno\n",
    "En las funciones definidas arriba da el resultado por pantalla. Pero las funciones pueden devolver uno o más valores de retorno usando el comando `return`. "
   ]
  },
  {
   "cell_type": "code",
   "execution_count": 10,
   "metadata": {},
   "outputs": [],
   "source": [
    "# Definimos una función sin return\n",
    "def suma(x, y):\n",
    "    print(\"Result is: {}\".format(x + y))\n",
    "\n",
    "# Definimos una función con retorno\n",
    "def suma_retorno(x, y):\n",
    "    return x + y\n"
   ]
  },
  {
   "cell_type": "code",
   "execution_count": 5,
   "metadata": {},
   "outputs": [
    {
     "name": "stdout",
     "output_type": "stream",
     "text": [
      "Result is: 7\n",
      "None\n"
     ]
    }
   ],
   "source": [
    "r = suma(3,4)\n",
    "print(r)\n"
   ]
  },
  {
   "cell_type": "markdown",
   "metadata": {},
   "source": [
    "Hace la suma pero no podemos usar el valor en el código"
   ]
  },
  {
   "cell_type": "code",
   "execution_count": 11,
   "metadata": {},
   "outputs": [],
   "source": [
    "r = suma_retorno(3,4) "
   ]
  },
  {
   "cell_type": "code",
   "execution_count": 12,
   "metadata": {},
   "outputs": [
    {
     "data": {
      "text/plain": [
       "7"
      ]
     },
     "execution_count": 12,
     "metadata": {},
     "output_type": "execute_result"
    }
   ],
   "source": [
    "r"
   ]
  },
  {
   "cell_type": "markdown",
   "metadata": {},
   "source": [
    "Si queremos que nos devuelva más de un valor, tendrá que ser en forma de tupla. "
   ]
  },
  {
   "cell_type": "code",
   "execution_count": 9,
   "metadata": {},
   "outputs": [],
   "source": [
    "def suma_y_mult(x, y):\n",
    "    \"\"\"Return the value of the sum and the multiplication of x and y.\"\"\"\n",
    "    return x + y, x * y  "
   ]
  },
  {
   "cell_type": "code",
   "execution_count": 17,
   "metadata": {},
   "outputs": [
    {
     "name": "stdout",
     "output_type": "stream",
     "text": [
      "La suma y la multiplicación de (5, 11) es (16, 55) (<class 'tuple'>)\n"
     ]
    }
   ],
   "source": [
    "r2 = suma_y_mult(5, 11)\n",
    "\n",
    "print(\"La suma y la multiplicación de (5, 11) es {} ({})\".\n",
    "      format(r2, type(r2)))\n"
   ]
  },
  {
   "cell_type": "code",
   "execution_count": 13,
   "metadata": {},
   "outputs": [
    {
     "name": "stdout",
     "output_type": "stream",
     "text": [
      "la suma es           16\n",
      "la multiplicación es 55\n"
     ]
    }
   ],
   "source": [
    "# o desenpaquetando\n",
    "suma, mult = suma_y_mult(5, 11)\n",
    "print('la suma es          ', suma)\n",
    "print('la multiplicación es',mult)"
   ]
  },
  {
   "cell_type": "markdown",
   "metadata": {},
   "source": [
    "También nos podría devolver una función. Vemos un ejemplo donde te devuelve la función predefinida min o max dependiendo de si el parámetro de entrada es par o no."
   ]
  },
  {
   "cell_type": "code",
   "execution_count": 18,
   "metadata": {},
   "outputs": [],
   "source": [
    "def min_or_max(x):\n",
    "    \"\"\"Return either the min or the max function.\"\"\"\n",
    "    if x % 2 == 0:\n",
    "        # sel es par\n",
    "        f = max\n",
    "    else:\n",
    "        # sel es impar\n",
    "        f = min\n",
    "    return f"
   ]
  },
  {
   "cell_type": "code",
   "execution_count": 23,
   "metadata": {},
   "outputs": [
    {
     "name": "stdout",
     "output_type": "stream",
     "text": [
      "<built-in function max>\n"
     ]
    }
   ],
   "source": [
    "f = min_or_max(2) # nos devuelve la función max si 2 es par\n",
    "print(f)"
   ]
  },
  {
   "cell_type": "code",
   "execution_count": 25,
   "metadata": {},
   "outputs": [
    {
     "data": {
      "text/plain": [
       "3"
      ]
     },
     "execution_count": 25,
     "metadata": {},
     "output_type": "execute_result"
    }
   ],
   "source": [
    "f([1,2,3,-1])"
   ]
  },
  {
   "cell_type": "code",
   "execution_count": 26,
   "metadata": {},
   "outputs": [
    {
     "name": "stdout",
     "output_type": "stream",
     "text": [
      "<built-in function min>\n"
     ]
    }
   ],
   "source": [
    "f = min_or_max(3) # nos devuelve la función min por el valor de entrada es impar\n",
    "print(f)"
   ]
  },
  {
   "cell_type": "code",
   "execution_count": 27,
   "metadata": {},
   "outputs": [
    {
     "data": {
      "text/plain": [
       "-1"
      ]
     },
     "execution_count": 27,
     "metadata": {},
     "output_type": "execute_result"
    }
   ],
   "source": [
    "f([1,2,3,-1])"
   ]
  },
  {
   "cell_type": "markdown",
   "metadata": {},
   "source": [
    "## 3. Parámetros de entrada\n",
    "Formalmente, distinguimos entre parámetros y argumentos. Los parámetros son parte de la definición de la función, mientras que los argumentos son los valores que recibe la función en el momento de ejecutarla. Por ejemplo, en la la función `suma` que definimos antes, `x` e `y` son los parámetros de la función, y cuando hacemos la llamada `suma(3, 4)`, `3` y `4` son los argumentos.\n",
    "\n",
    "Informalmente, sin embargo, a menudo se utilizan ambos términos indistintamente."
   ]
  },
  {
   "cell_type": "markdown",
   "metadata": {},
   "source": [
    "A los parámetros fijos se les suele dar argumentos por posición o bien por su nombre (*keyword arguments*). Por ejemplo en `suma(x,y)` el primero que pongamos será el argumento del parámetro `x` y el segundo el de `y`, `suma(3, 4)`, o bien podemos lanzar la función con keyword arguments y entonces puedo cambiar el orden `suma(y = 3, x = 4)`."
   ]
  },
  {
   "cell_type": "code",
   "execution_count": 32,
   "metadata": {},
   "outputs": [
    {
     "name": "stdout",
     "output_type": "stream",
     "text": [
      "Result is: 1.3333333333333333\n",
      "Result is: 1.3333333333333333\n"
     ]
    }
   ],
   "source": [
    "def division(x, y):\n",
    "    print(\"Result is: {}\".format(x / y))\n",
    "    \n",
    "division(4, 3)             # positional arguments\n",
    "division(y = 3, x = 4)     # keyword arguments"
   ]
  },
  {
   "cell_type": "markdown",
   "metadata": {},
   "source": [
    "### 3.1 Parámetros opcionales\n",
    "Los parámetros pueden ser opcionales o no, si son opcionales les daremos un valor por defecto. Siempre que haya un parámetro con un valor por defecto en una función es un parámetro opcional.  "
   ]
  },
  {
   "cell_type": "code",
   "execution_count": 33,
   "metadata": {},
   "outputs": [],
   "source": [
    "def suma(x, y, z = 0):\n",
    "    \"\"\" Returns sum of x and y and z if exists\"\"\"\n",
    "    return x + y + z "
   ]
  },
  {
   "cell_type": "code",
   "execution_count": 34,
   "metadata": {},
   "outputs": [
    {
     "name": "stdout",
     "output_type": "stream",
     "text": [
      "5\n",
      "10\n"
     ]
    }
   ],
   "source": [
    "# la función se ejecuta tanto si le das 2 como 3 parámetros\n",
    "print(suma(2, 3))\n",
    "\n",
    "print(suma(2, 3, 5))"
   ]
  },
  {
   "cell_type": "markdown",
   "metadata": {},
   "source": [
    "### \\*args\n",
    "Imaginad que no sabemos cuantos números queremos sumar, y preferimos dejar un número indeterminado de argumentos. Esto se puede hacer usando `*` en la definición de la función. Lo vemos con la función `suma` otra vez:\n"
   ]
  },
  {
   "cell_type": "code",
   "execution_count": 14,
   "metadata": {},
   "outputs": [],
   "source": [
    "def suma(x, y, *extra_arguments):\n",
    "    print(\"Argumentos obligatorios x e y: x = {}, y = {}\".format(x, y))\n",
    "    print(\"Argumentos adicionales: {}\".format(extra_arguments))\n",
    "    print(type(extra_arguments))\n",
    "    return x + y + sum(extra_arguments)"
   ]
  },
  {
   "cell_type": "code",
   "execution_count": 15,
   "metadata": {},
   "outputs": [
    {
     "name": "stdout",
     "output_type": "stream",
     "text": [
      "Argumentos obligatorios x e y: x = 3, y = 4\n",
      "Argumentos adicionales: (2, 5, 10, 3, 3, 4)\n",
      "<class 'tuple'>\n"
     ]
    },
    {
     "data": {
      "text/plain": [
       "34"
      ]
     },
     "execution_count": 15,
     "metadata": {},
     "output_type": "execute_result"
    }
   ],
   "source": [
    "suma(3, 4, 2, 5, 10, 3, 3, 4)"
   ]
  },
  {
   "cell_type": "markdown",
   "metadata": {},
   "source": [
    "## 4. Docstring\n",
    "Los *docstrings* son textos que contienen la documentación de las funciones. En algunas funciones de este notebook ya los hemos usado. Cualquier paquete o librería escrito en Python debería tener las funciones documentadas. Cuanto mejor esté el docstring, más sencillo será entenderlas.\n",
    "\n",
    "Nos debería dar información sobre los parámetros de entrada los de salida y qué operaciones realiza la función. Accedemos al *docstring* con `help`.  "
   ]
  },
  {
   "cell_type": "code",
   "execution_count": 20,
   "metadata": {},
   "outputs": [
    {
     "name": "stdout",
     "output_type": "stream",
     "text": [
      "Help on built-in function max in module builtins:\n",
      "\n",
      "max(...)\n",
      "    max(iterable, *[, default=obj, key=func]) -> value\n",
      "    max(arg1, arg2, *args, *[, key=func]) -> value\n",
      "    \n",
      "    With a single iterable argument, return its biggest item. The\n",
      "    default keyword-only argument specifies an object to return if\n",
      "    the provided iterable is empty.\n",
      "    With two or more arguments, return the largest argument.\n",
      "\n"
     ]
    }
   ],
   "source": [
    "help(max)"
   ]
  },
  {
   "cell_type": "code",
   "execution_count": 4,
   "metadata": {},
   "outputs": [],
   "source": [
    "def suma(x, y, *extra_arguments):\n",
    "    \"\"\" x: input, type numeric\n",
    "        y: input, type numeric\n",
    "        extra_arguments: optional, type numeric\n",
    "        returns the sum of all given arguments \"\"\"\n",
    "\n",
    "    return x + y + sum(extra_arguments)"
   ]
  },
  {
   "cell_type": "code",
   "execution_count": 22,
   "metadata": {},
   "outputs": [
    {
     "name": "stdout",
     "output_type": "stream",
     "text": [
      "Help on function suma in module __main__:\n",
      "\n",
      "suma(x, y, *extra_arguments)\n",
      "    x: input, type numeric\n",
      "    y: input, type numeric\n",
      "    extra_arguments: optional, type numeric\n",
      "    returns the sum of all given arguments\n",
      "\n"
     ]
    }
   ],
   "source": [
    "# ahora miro la función que he definido yo \n",
    "help(suma)"
   ]
  },
  {
   "cell_type": "markdown",
   "metadata": {},
   "source": [
    "Las convenciones sobre el uso de docstring en Python se encuentran descritas en [PEP-257](https://www.python.org/dev/peps/pep-0257/). Aunque hay varios formatos usados, podéis ver un resumen en este [post](https://stackoverflow.com/questions/3898572/what-is-the-standard-python-docstring-format). "
   ]
  },
  {
   "cell_type": "markdown",
   "metadata": {},
   "source": [
    "## 5. Módulos \n",
    "Cuando estamos escribiendo un programa puede que necesitemos definir varias funciones. Para que nos quede más ordenado se suelen escribir en un archivo a parte al que podemos acceder con `import`. Estos archivos se llaman módulos. Este archivo tendrá la extensión `.py`. "
   ]
  },
  {
   "cell_type": "code",
   "execution_count": 5,
   "metadata": {},
   "outputs": [],
   "source": [
    "import modulo_prueba "
   ]
  },
  {
   "cell_type": "code",
   "execution_count": 6,
   "metadata": {},
   "outputs": [],
   "source": [
    "import modulo_prueba as mp"
   ]
  },
  {
   "cell_type": "markdown",
   "metadata": {},
   "source": [
    "Puedo ver las funciones definidas dentro de un módulo con `nombre_modulo.` y tabulando"
   ]
  },
  {
   "cell_type": "code",
   "execution_count": null,
   "metadata": {},
   "outputs": [],
   "source": [
    "mp."
   ]
  },
  {
   "cell_type": "code",
   "execution_count": 7,
   "metadata": {},
   "outputs": [
    {
     "data": {
      "text/plain": [
       "1.0"
      ]
     },
     "execution_count": 7,
     "metadata": {},
     "output_type": "execute_result"
    }
   ],
   "source": [
    "mp.dist(4,5)"
   ]
  },
  {
   "cell_type": "code",
   "execution_count": 41,
   "metadata": {},
   "outputs": [
    {
     "data": {
      "text/plain": [
       "6.0"
      ]
     },
     "execution_count": 41,
     "metadata": {},
     "output_type": "execute_result"
    }
   ],
   "source": [
    "# también podemos cargar solo una función del paquete aunque es menos común\n",
    "from modulo_prueba import dist\n",
    "dist(4, 10)"
   ]
  },
  {
   "cell_type": "markdown",
   "metadata": {},
   "source": [
    "Un paquete, es una carpeta que contiene módulos .py con funciones. Pero, para que una carpeta pueda ser considerada un paquete, debe contener un archivo de inicio llamado `_init_.py`. Este archivo, no necesita contener ninguna instrucción. De hecho, puede estar completamente vacío.\n",
    "\n",
    "Algunos módulos básicos de python son : `numpy`, `matplotlib` o `scipy`."
   ]
  },
  {
   "cell_type": "code",
   "execution_count": 8,
   "metadata": {},
   "outputs": [
    {
     "data": {
      "text/plain": [
       "4.0"
      ]
     },
     "execution_count": 8,
     "metadata": {},
     "output_type": "execute_result"
    }
   ],
   "source": [
    "import numpy as np\n",
    "np."
   ]
  },
  {
   "cell_type": "code",
   "execution_count": 9,
   "metadata": {},
   "outputs": [
    {
     "data": {
      "text/plain": [
       "10.066369575766425"
      ]
     },
     "execution_count": 9,
     "metadata": {},
     "output_type": "execute_result"
    }
   ],
   "source": [
    "import numpy.random as rd  # que pueden tener sub paqueetes\n",
    "rd.normal(10)"
   ]
  },
  {
   "cell_type": "code",
   "execution_count": 10,
   "metadata": {},
   "outputs": [
    {
     "data": {
      "text/plain": [
       "10.349509232778926"
      ]
     },
     "execution_count": 10,
     "metadata": {},
     "output_type": "execute_result"
    }
   ],
   "source": [
    "np.random.normal(10)"
   ]
  },
  {
   "cell_type": "markdown",
   "metadata": {},
   "source": [
    "La **modularidad** es muy importante para mantener el código ordenado y leíble. "
   ]
  },
  {
   "cell_type": "markdown",
   "metadata": {},
   "source": [
    "## 6. Ejercicios para practicar\n",
    "Vemos algunos ejercicios para practicar lo que hemos dado en esta notebook. "
   ]
  },
  {
   "cell_type": "markdown",
   "metadata": {},
   "source": [
    "1.1. Definid una función (f1) que calcule el cuadrado de un número.\n",
    "\n",
    "1.2. Definid otra función (f2) que reciba como argumento la función anterior y un número de parámetros cualquiera (al menos 2) y que devuelva el resultado de sumar el resultado de aplicar la función f1 a cada uno de los argumentos de f2.\n",
    "\n",
    "Por ejemplo, si la f2 recibe como parámetros f1, 5, 10 el resultado debería ser $ 5 ^ 2 + 10 ^ 2 = 125 $.\n",
    "\n",
    "1.3. Documenta ambas funciones.\n",
    "\n",
    "1.4. Ejecuta la función en el caso de más arriba y llámala otra vez con 5 argumentos."
   ]
  },
  {
   "cell_type": "markdown",
   "metadata": {},
   "source": [
    "2. Haz una función que dada una lista, la ordene y te devuelva la primera palabra de esa lista:\n",
    "\n",
    "Aplica esta función a la lista: "
   ]
  },
  {
   "cell_type": "code",
   "execution_count": 23,
   "metadata": {},
   "outputs": [],
   "source": [
    "lista = ['Bangkok','Barcelona','Beijing','BuenosAires','Berlin','Badajoz','Barakaldo','Barcena','Burgos','Bilbao','Baena']"
   ]
  },
  {
   "cell_type": "markdown",
   "metadata": {},
   "source": [
    "3. Definid 4 funciones en un fichero .py, cargadlo y ejecutad todas las funciones. \n",
    "\n",
    "**IMPORTANTE!!!** Si hacemos cambios en módulo es necerario reimport el módulo con `importlib.reload(modulo)`"
   ]
  },
  {
   "cell_type": "code",
   "execution_count": 24,
   "metadata": {},
   "outputs": [],
   "source": [
    "# Código\n"
   ]
  },
  {
   "cell_type": "code",
   "execution_count": null,
   "metadata": {},
   "outputs": [],
   "source": []
  }
 ],
 "metadata": {
  "kernelspec": {
   "display_name": "Python 3 (ipykernel)",
   "language": "python",
   "name": "python3"
  },
  "language_info": {
   "codemirror_mode": {
    "name": "ipython",
    "version": 3
   },
   "file_extension": ".py",
   "mimetype": "text/x-python",
   "name": "python",
   "nbconvert_exporter": "python",
   "pygments_lexer": "ipython3",
   "version": "3.11.2"
  }
 },
 "nbformat": 4,
 "nbformat_minor": 2
}
