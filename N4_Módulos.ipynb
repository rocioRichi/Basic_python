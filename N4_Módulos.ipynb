{
 "cells": [
  {
   "cell_type": "markdown",
   "metadata": {},
   "source": [
    "#  Módulos\n",
    "Un módulo es un conjunto de funciones. Muy útil para estructurar código y son la base para construir librerías o paquetes donde se definen funciones de un mismo ámbito. \n",
    "\n",
    "En esta notebook veremos como generar un módulo en **Python** como cargarlo y utilizarlo. \n",
    "\n",
    "<ul style=\"list-style-type:none\">\n",
    "    <li><a href='#1.-Crear un módulo'>1. Crear un módulo</a></li>\n",
    "    <li><a href='#2.-Cómo cargarlo'>2. Cómo cargarlo</a></li>\n",
    "    <li><a href='#3.-Paquetes'>3. Paquetes</a></li>\n",
    "    <li><a href=\"#4.-Ejemplos\">4. Ejemplos </a></li>\n",
    "    <li><a href=\"#5.-Ejercicios-para-practicar\">5. Ejercicios </a></li>\n",
    "\n",
    "  \n",
    "\n",
    "</ul>\n",
    "\n"
   ]
  },
  {
   "cell_type": "markdown",
   "metadata": {},
   "source": [
    "## 1. Crear un módulo\n",
    "Un módulo es un archivo con extensión `.py` que se puede generar en un archivo de texto, guardándolo con esa extensión. SE puede generar también desde algun IDE de Python que nos ayudará a hacerlo mejor, o desde el gestor de archivos de jupyter. "
   ]
  },
  {
   "cell_type": "code",
   "execution_count": 16,
   "metadata": {},
   "outputs": [],
   "source": [
    "def media(datos):  # podríamos añadirle los nan o cualquier otra cosa\n",
    "    \"\"\" función que calcula la media de una lista\n",
    "    \"\"\"\n",
    "    if not isinstance(datos,list):\n",
    "        print('input parameter must be a list')\n",
    "        return \n",
    "    suma = 0\n",
    "    num_nans = datos.count('nan')  # uso función count de las listas\n",
    "    num_datos = len(datos) - num_nans\n",
    "    for d in datos:\n",
    "        suma += d \n",
    "    return suma/num_datos\n",
    " \n",
    "def compute_max(datos):\n",
    "    return max(datos)\n",
    "\n",
    "def compute_min(datos):\n",
    "    return min(datos)\n",
    "\n",
    "def variance(datos):\n",
    "    \"\"\"function that returns variance of list\"\"\"\n",
    "    if not isinstance(datos,list):\n",
    "        print('input parameter must be a list')\n",
    "        return \n",
    "    suma = 0\n",
    "    num_nans = datos.count('nan')  # uso función count de las listas\n",
    "    num_datos = len(datos) - num_nans\n",
    "    for d in datos:\n",
    "        suma += d**2\n",
    "    return suma/num_datos"
   ]
  },
  {
   "cell_type": "markdown",
   "metadata": {},
   "source": [
    "## 2. Cómo cargarlo"
   ]
  },
  {
   "cell_type": "code",
   "execution_count": 17,
   "metadata": {},
   "outputs": [],
   "source": [
    "import basic_stats"
   ]
  },
  {
   "cell_type": "markdown",
   "metadata": {},
   "source": [
    "Puedo ver las funciones definidas dentro de un módulo con `.` y tabulando"
   ]
  },
  {
   "cell_type": "code",
   "execution_count": null,
   "metadata": {},
   "outputs": [],
   "source": [
    "import exercise1"
   ]
  },
  {
   "cell_type": "code",
   "execution_count": 18,
   "metadata": {
    "scrolled": false
   },
   "outputs": [
    {
     "ename": "SyntaxError",
     "evalue": "invalid syntax (767332526.py, line 1)",
     "output_type": "error",
     "traceback": [
      "\u001b[0;36m  Cell \u001b[0;32mIn[18], line 1\u001b[0;36m\u001b[0m\n\u001b[0;31m    basic_stats.\u001b[0m\n\u001b[0m                ^\u001b[0m\n\u001b[0;31mSyntaxError\u001b[0m\u001b[0;31m:\u001b[0m invalid syntax\n"
     ]
    }
   ],
   "source": [
    "basic_stats."
   ]
  },
  {
   "cell_type": "code",
   "execution_count": null,
   "metadata": {},
   "outputs": [],
   "source": [
    "from exercise1 import variance"
   ]
  },
  {
   "cell_type": "code",
   "execution_count": 5,
   "metadata": {},
   "outputs": [
    {
     "data": {
      "text/plain": [
       "6.059192647368422"
      ]
     },
     "execution_count": 5,
     "metadata": {},
     "output_type": "execute_result"
    }
   ],
   "source": [
    "temperature_march = [6.4902453, 6.0602455, 5.5602455, 4.630245, 3.6602454, 3.8802452, 3.6502452, 3.1102452, 2.7302456,\n",
    " 2.5102453, 2.4402454, 4.2502456, 6.5302453, 8.290245, 10.090245, 11.3102455, 12.100245, 10.530245, 7.3002453]\n",
    "\n",
    "basic_stats.media(temperature_march)"
   ]
  },
  {
   "cell_type": "code",
   "execution_count": 20,
   "metadata": {},
   "outputs": [
    {
     "data": {
      "text/plain": [
       "2.4402454"
      ]
     },
     "execution_count": 20,
     "metadata": {},
     "output_type": "execute_result"
    }
   ],
   "source": [
    "basic_stats.compute_min(temperature_march)"
   ]
  },
  {
   "cell_type": "code",
   "execution_count": 21,
   "metadata": {},
   "outputs": [
    {
     "data": {
      "text/plain": [
       "6.059192647368422"
      ]
     },
     "execution_count": 21,
     "metadata": {},
     "output_type": "execute_result"
    }
   ],
   "source": [
    "import basic_stats as bs\n",
    "bs.media(temperature_march)"
   ]
  },
  {
   "cell_type": "code",
   "execution_count": 22,
   "metadata": {},
   "outputs": [
    {
     "data": {
      "text/plain": [
       "2.4402454"
      ]
     },
     "execution_count": 22,
     "metadata": {},
     "output_type": "execute_result"
    }
   ],
   "source": [
    "# también podemos cargar solo una función del paquete aunque es menos común\n",
    "from basic_stats import compute_min\n",
    "compute_min(temperature_march)"
   ]
  },
  {
   "cell_type": "markdown",
   "metadata": {},
   "source": [
    "## 3. Paquetes"
   ]
  },
  {
   "cell_type": "markdown",
   "metadata": {},
   "source": [
    "Un paquete, es una carpeta que contiene archivos .py. Pero, para que una carpeta pueda ser considerada un paquete, debe contener un archivo de inicio llamado `_init_.py`. Este archivo, no necesita contener ninguna instrucción. De hecho, puede estar completamente vacío.\n",
    "\n"
   ]
  },
  {
   "cell_type": "code",
   "execution_count": 21,
   "metadata": {},
   "outputs": [
    {
     "name": "stdout",
     "output_type": "stream",
     "text": [
      "Help on package paquete_prueba:\n",
      "\n",
      "NAME\n",
      "    paquete_prueba\n",
      "\n",
      "PACKAGE CONTENTS\n",
      "    basic_stats\n",
      "    distancias\n",
      "\n",
      "FILE\n",
      "    /Users/casaponsa/WORK/CURSOS/CursoVeranoUC/2023CourseIntro/BasicPython/paquete_prueba/__init__.py\n",
      "\n",
      "\n"
     ]
    }
   ],
   "source": [
    "import paquete_prueba \n",
    "help(paquete_prueba)"
   ]
  },
  {
   "cell_type": "code",
   "execution_count": 22,
   "metadata": {},
   "outputs": [],
   "source": [
    "from paquete_prueba import basic_stats"
   ]
  },
  {
   "cell_type": "code",
   "execution_count": 23,
   "metadata": {
    "scrolled": true
   },
   "outputs": [
    {
     "data": {
      "text/plain": [
       "6.059192647368422"
      ]
     },
     "execution_count": 23,
     "metadata": {},
     "output_type": "execute_result"
    }
   ],
   "source": [
    "basic_stats.media(temperature_march)"
   ]
  },
  {
   "cell_type": "code",
   "execution_count": 24,
   "metadata": {},
   "outputs": [],
   "source": [
    "import paquete_prueba.distancias as dist"
   ]
  },
  {
   "cell_type": "code",
   "execution_count": 25,
   "metadata": {},
   "outputs": [
    {
     "ename": "SyntaxError",
     "evalue": "invalid syntax (921849316.py, line 1)",
     "output_type": "error",
     "traceback": [
      "\u001b[0;36m  Cell \u001b[0;32mIn[25], line 1\u001b[0;36m\u001b[0m\n\u001b[0;31m    dist.\u001b[0m\n\u001b[0m         ^\u001b[0m\n\u001b[0;31mSyntaxError\u001b[0m\u001b[0;31m:\u001b[0m invalid syntax\n"
     ]
    }
   ],
   "source": [
    "dist."
   ]
  },
  {
   "cell_type": "code",
   "execution_count": 26,
   "metadata": {},
   "outputs": [
    {
     "data": {
      "text/plain": [
       "6.082762530298219"
      ]
     },
     "execution_count": 26,
     "metadata": {},
     "output_type": "execute_result"
    }
   ],
   "source": [
    "dist.euclidean_distance([3,2],[4,8])"
   ]
  },
  {
   "cell_type": "markdown",
   "metadata": {},
   "source": [
    "La **modularidad** es muy importante para mantener el código ordenado y leíble. "
   ]
  },
  {
   "cell_type": "markdown",
   "metadata": {},
   "source": [
    "## 5. Ejemplos\n",
    "Los paquetes de python son una serie de módulos organizados que se instalan en nuestro ordenador y python los lee cuando hacemo import\n"
   ]
  },
  {
   "cell_type": "code",
   "execution_count": 13,
   "metadata": {},
   "outputs": [
    {
     "data": {
      "text/plain": [
       "6.059192647368422"
      ]
     },
     "execution_count": 13,
     "metadata": {},
     "output_type": "execute_result"
    }
   ],
   "source": [
    "import numpy as np\n",
    "np.mean(temperature_march)\n"
   ]
  },
  {
   "cell_type": "code",
   "execution_count": 14,
   "metadata": {},
   "outputs": [
    {
     "data": {
      "text/plain": [
       "12.100245"
      ]
     },
     "execution_count": 14,
     "metadata": {},
     "output_type": "execute_result"
    }
   ],
   "source": [
    "np.max(temperature_march)"
   ]
  },
  {
   "cell_type": "code",
   "execution_count": 18,
   "metadata": {},
   "outputs": [
    {
     "data": {
      "image/png": "[encoded data removed]",
      "text/plain": [
       "<Figure size 640x480 with 1 Axes>"
      ]
     },
     "metadata": {},
     "output_type": "display_data"
    }
   ],
   "source": [
    "import matplotlib.pyplot as plt\n",
    "plt.plot(temperature_march);"
   ]
  },
  {
   "cell_type": "markdown",
   "metadata": {},
   "source": [
    "## 5. Ejercicios para practicar\n",
    "Vemos algunos ejercicios para practicar lo que hemos dado en esta notebook. "
   ]
  },
  {
   "cell_type": "markdown",
   "metadata": {},
   "source": [
    "**1.** Crea un nuevo archivo de Python llamado geometria.py. Dentro de geometria.py, define las siguientes funciones:\n",
    "\n",
    "- `calcular_area_del_rectangulo(ancho, altura)`: Calcula y devuelve el área de un rectángulo dadas su anchura y altura.\n",
    "- `calcular_area_del_circulo(radio)`: Calcula y devuelve la circunferencia de un círculo dado su radio.\n",
    "- `calcular_area_del_cilindro(radio, altura)`: Calcula y devuelve el volumen de un cilindro dado su radio y altura`\n",
    "\n",
    "Puedes utilizar las siguientes fórmulas:\n",
    "\n",
    "- Área de un rectángulo: area = ancho * altura\n",
    "- Area de un círculo: area = pi * radio^2 (puedes importar el módulo math y utilizar math.pi)\n",
    "- Volumen de un cilindro: area = 2*pi*radio*altura + 2pi*radio^2 \n",
    "\n",
    "\n",
    "Prueba tu módulo llamándolo haciendo un import desde el notebook mismo. \n",
    "\n",
    "Utiliza las funciones del módulo geometria para calcular el área de un rectángulo de anchura = 5.2 y altura = 12.3, la circunferencia de un círculo de radio (2.15) y el volumen de un cilindro de radio = 2.15 y altura = 5.\n",
    "\n",
    "**IMPORTANTE!!!** Si hacemos cambios en módulo es necerario reimport el módulo con `importlib.reload(modulo)`"
   ]
  },
  {
   "cell_type": "code",
   "execution_count": 27,
   "metadata": {},
   "outputs": [],
   "source": [
    "# Código\n"
   ]
  },
  {
   "cell_type": "markdown",
   "metadata": {},
   "source": [
    "**2.** Haz una función que se llama calculos_geométricos que coja como parámetros de entrada el tipo de objeto (rectangulo, circulo o cilindro) y los parámetros necesarios, (radio, lados, etc.) y devuelva el area según el caso. La funicón cargara el módulo geometria.py"
   ]
  },
  {
   "cell_type": "code",
   "execution_count": 29,
   "metadata": {},
   "outputs": [],
   "source": [
    "# Código"
   ]
  },
  {
   "cell_type": "markdown",
   "metadata": {},
   "source": [
    "**3.** Haz otro módulo que calcule los volumnes u otros cálculos geométricos y genera un paquete. Haz pruebas para ver que todo se carga bien."
   ]
  },
  {
   "cell_type": "code",
   "execution_count": 30,
   "metadata": {},
   "outputs": [],
   "source": [
    "# Código"
   ]
  },
  {
   "cell_type": "code",
   "execution_count": null,
   "metadata": {},
   "outputs": [],
   "source": []
  }
 ],
 "metadata": {
  "kernelspec": {
   "display_name": "Python 3 (ipykernel)",
   "language": "python",
   "name": "python3"
  },
  "language_info": {
   "codemirror_mode": {
    "name": "ipython",
    "version": 3
   },
   "file_extension": ".py",
   "mimetype": "text/x-python",
   "name": "python",
   "nbconvert_exporter": "python",
   "pygments_lexer": "ipython3",
   "version": "3.9.12"
  }
 },
 "nbformat": 4,
 "nbformat_minor": 2
}
