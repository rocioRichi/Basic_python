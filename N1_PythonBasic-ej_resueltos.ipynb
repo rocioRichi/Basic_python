{
 "cells": [
  {
   "cell_type": "markdown",
   "metadata": {},
   "source": [
    "# Python basic\n",
    "\n",
    "**Python** es un lenguaje simple, fácil de manejar, *open source* y que tiene una gran versatilidad. Ahora mismo es el lenguaje más usado en *data analysis*, hay muchísima documentación ([python.docs](https://docs.python.org/3/), dudas resueltas en [stackoverflow](https://stackoverflow.com) y otros). También podrás encontrar muchos paquetes y código compartido. \n",
    "\n",
    "Aquí hacemos un pequeño resumen de las generalidades de **Python** y los tipos de estructuras básicos que hay. Al final hay unos ejercicios para practicar. \n",
    "\n",
    "<ul style=\"list-style-type:none\">\n",
    "    <li><a href='#1.-Generalidades'>1. Generalidades</a></li>\n",
    "    <li><a href='#2.-Tipos-de-datos'>2. Tipos de datos</a></li>\n",
    "    <ul style=\"list-style-type:none\">\n",
    "        <li><a href=\"#2.1-Tipos-numéricos\">2.1. Tipos numéricos</a></li>\n",
    "        <li><a href=\"#2.2-Strings\">2.2. Strings </a></li>\n",
    "        <li><a href=\"#2.3-Variables-lógicas\">2.3. Variables lógicas</a></li>\n",
    "        <li><a href=\"#2.4-Listas\">2.4. Listas</a></li>\n",
    "        <li><a href=\"#2.5-Tuplas\">2.5. Tuplas</a></li>\n",
    "        <li><a href=\"#2.6-Diccionarios\">2.6. Diccionarios </a></li>\n",
    "    </ul>\n",
    "    <li><a href=\"#3.-Ejercicios-para-practicar\">3. Ejercicios </a></li>\n",
    "    <ul style=\"list-style-type:none\">\n",
    "</ul>\n"
   ]
  },
  {
   "cell_type": "markdown",
   "metadata": {},
   "source": [
    "# 1. Generalidades\n",
    "\n",
    "Para escribir código en **Python** se puede hacer desde un archivo plano con extension .py, con una notebook o con un IDE (entorno de escritorio integrado) como **PyCharm** o **Spider**. \n",
    "\n"
   ]
  },
  {
   "cell_type": "markdown",
   "metadata": {},
   "source": [
    "### Espíritu de Python. \n",
    "La filosofía de los principales desarrolladores de **Python** es escribir código de manera **simple**, **comprensible** y **estéticamente agradable**. Para mantener un código limpio y leíble es **importante** usar espacios coherentemente, usar nombre de variables facilmente identificables, usar módulos y funciones, documentar bien el código... Para poder ser facilmente **compartido**. "
   ]
  },
  {
   "cell_type": "code",
   "execution_count": 10,
   "metadata": {
    "scrolled": true
   },
   "outputs": [
    {
     "name": "stdout",
     "output_type": "stream",
     "text": [
      "The Zen of Python, by Tim Peters\n",
      "\n",
      "Beautiful is better than ugly.\n",
      "Explicit is better than implicit.\n",
      "Simple is better than complex.\n",
      "Complex is better than complicated.\n",
      "Flat is better than nested.\n",
      "Sparse is better than dense.\n",
      "Readability counts.\n",
      "Special cases aren't special enough to break the rules.\n",
      "Although practicality beats purity.\n",
      "Errors should never pass silently.\n",
      "Unless explicitly silenced.\n",
      "In the face of ambiguity, refuse the temptation to guess.\n",
      "There should be one-- and preferably only one --obvious way to do it.\n",
      "Although that way may not be obvious at first unless you're Dutch.\n",
      "Now is better than never.\n",
      "Although never is often better than *right* now.\n",
      "If the implementation is hard to explain, it's a bad idea.\n",
      "If the implementation is easy to explain, it may be a good idea.\n",
      "Namespaces are one honking great idea -- let's do more of those!\n"
     ]
    }
   ],
   "source": []
  },
  {
   "cell_type": "markdown",
   "metadata": {},
   "source": [
    "El **sangrado** en **Python** es muy importante. "
   ]
  },
  {
   "cell_type": "code",
   "execution_count": 3,
   "metadata": {},
   "outputs": [
    {
     "ename": "IndentationError",
     "evalue": "unexpected indent (1882069862.py, line 2)",
     "output_type": "error",
     "traceback": [
      "\u001b[0;36m  File \u001b[0;32m\"/var/folders/8n/8gxx65_52xq17qlkhphqy2hm0000gn/T/ipykernel_41861/1882069862.py\"\u001b[0;36m, line \u001b[0;32m2\u001b[0m\n\u001b[0;31m    y = 3 + x\u001b[0m\n\u001b[0m    ^\u001b[0m\n\u001b[0;31mIndentationError\u001b[0m\u001b[0;31m:\u001b[0m unexpected indent\n"
     ]
    }
   ],
   "source": [
    "x = 2\n",
    " y = 3 + x\n",
    "z = y * 2\n",
    "print(z)"
   ]
  },
  {
   "cell_type": "markdown",
   "metadata": {},
   "source": [
    "Además existe una guía de estilo aceptada por la comunidad: la PEP8, podéis ver las reglas [aquí](https://www.python.org/dev/peps/pep-0008/) con información como (identación, longitud de las líneas, espaciado, ... ). "
   ]
  },
  {
   "cell_type": "code",
   "execution_count": 97,
   "metadata": {},
   "outputs": [],
   "source": [
    "x=x+y\n",
    "x = x + y"
   ]
  },
  {
   "cell_type": "markdown",
   "metadata": {},
   "source": [
    "### Comentarios\n",
    "\n",
    "Las líneas se ejecutan en orden secuencial dentro de una celda. Si **no** queremos que se ejecute alguna línea ponemos `#` delante. Todo lo que hay detrás de una almohadilla no se ejecuta. Muy útil para comentar el código"
   ]
  },
  {
   "cell_type": "code",
   "execution_count": 98,
   "metadata": {},
   "outputs": [
    {
     "data": {
      "text/plain": [
       "8"
      ]
     },
     "execution_count": 98,
     "metadata": {},
     "output_type": "execute_result"
    }
   ],
   "source": [
    "# Sumamos dos valores\n",
    "5 + 3 "
   ]
  },
  {
   "cell_type": "code",
   "execution_count": 99,
   "metadata": {},
   "outputs": [
    {
     "data": {
      "text/plain": [
       "38"
      ]
     },
     "execution_count": 99,
     "metadata": {},
     "output_type": "execute_result"
    }
   ],
   "source": [
    "x + 3   # y= 3+2"
   ]
  },
  {
   "cell_type": "markdown",
   "metadata": {},
   "source": [
    "### Funciones\n",
    "Para escribir por pantalla usamos print. Cualquier función en python se ejecuta con el nombre de la función y paréntesis: nombre_funcion()"
   ]
  },
  {
   "cell_type": "code",
   "execution_count": 4,
   "metadata": {},
   "outputs": [
    {
     "name": "stdout",
     "output_type": "stream",
     "text": [
      "hello world\n"
     ]
    }
   ],
   "source": [
    "print(\"hello world\")"
   ]
  },
  {
   "cell_type": "code",
   "execution_count": 121,
   "metadata": {},
   "outputs": [
    {
     "name": "stdout",
     "output_type": "stream",
     "text": [
      "Help on built-in function print in module builtins:\n",
      "\n",
      "print(...)\n",
      "    print(value, ..., sep=' ', end='\\n', file=sys.stdout, flush=False)\n",
      "    \n",
      "    Prints the values to a stream, or to sys.stdout by default.\n",
      "    Optional keyword arguments:\n",
      "    file:  a file-like object (stream); defaults to the current sys.stdout.\n",
      "    sep:   string inserted between values, default a space.\n",
      "    end:   string appended after the last value, default a newline.\n",
      "    flush: whether to forcibly flush the stream.\n",
      "\n"
     ]
    }
   ],
   "source": [
    "help(print)"
   ]
  },
  {
   "cell_type": "code",
   "execution_count": 6,
   "metadata": {},
   "outputs": [
    {
     "name": "stdout",
     "output_type": "stream",
     "text": [
      "Help on int object:\n",
      "\n",
      "class int(object)\n",
      " |  int([x]) -> integer\n",
      " |  int(x, base=10) -> integer\n",
      " |  \n",
      " |  Convert a number or string to an integer, or return 0 if no arguments\n",
      " |  are given.  If x is a number, return x.__int__().  For floating point\n",
      " |  numbers, this truncates towards zero.\n",
      " |  \n",
      " |  If x is not a number or if base is given, then x must be a string,\n",
      " |  bytes, or bytearray instance representing an integer literal in the\n",
      " |  given base.  The literal can be preceded by '+' or '-' and be surrounded\n",
      " |  by whitespace.  The base defaults to 10.  Valid bases are 0 and 2-36.\n",
      " |  Base 0 means to interpret the base from the string as an integer literal.\n",
      " |  >>> int('0b100', base=0)\n",
      " |  4\n",
      " |  \n",
      " |  Built-in subclasses:\n",
      " |      bool\n",
      " |  \n",
      " |  Methods defined here:\n",
      " |  \n",
      " |  __abs__(self, /)\n",
      " |      abs(self)\n",
      " |  \n",
      " |  __add__(self, value, /)\n",
      " |      Return self+value.\n",
      " |  \n",
      " |  __and__(self, value, /)\n",
      " |      Return self&value.\n",
      " |  \n",
      " |  __bool__(self, /)\n",
      " |      self != 0\n",
      " |  \n",
      " |  __ceil__(...)\n",
      " |      Ceiling of an Integral returns itself.\n",
      " |  \n",
      " |  __divmod__(self, value, /)\n",
      " |      Return divmod(self, value).\n",
      " |  \n",
      " |  __eq__(self, value, /)\n",
      " |      Return self==value.\n",
      " |  \n",
      " |  __float__(self, /)\n",
      " |      float(self)\n",
      " |  \n",
      " |  __floor__(...)\n",
      " |      Flooring an Integral returns itself.\n",
      " |  \n",
      " |  __floordiv__(self, value, /)\n",
      " |      Return self//value.\n",
      " |  \n",
      " |  __format__(self, format_spec, /)\n",
      " |      Default object formatter.\n",
      " |  \n",
      " |  __ge__(self, value, /)\n",
      " |      Return self>=value.\n",
      " |  \n",
      " |  __getattribute__(self, name, /)\n",
      " |      Return getattr(self, name).\n",
      " |  \n",
      " |  __getnewargs__(self, /)\n",
      " |  \n",
      " |  __gt__(self, value, /)\n",
      " |      Return self>value.\n",
      " |  \n",
      " |  __hash__(self, /)\n",
      " |      Return hash(self).\n",
      " |  \n",
      " |  __index__(self, /)\n",
      " |      Return self converted to an integer, if self is suitable for use as an index into a list.\n",
      " |  \n",
      " |  __int__(self, /)\n",
      " |      int(self)\n",
      " |  \n",
      " |  __invert__(self, /)\n",
      " |      ~self\n",
      " |  \n",
      " |  __le__(self, value, /)\n",
      " |      Return self<=value.\n",
      " |  \n",
      " |  __lshift__(self, value, /)\n",
      " |      Return self<<value.\n",
      " |  \n",
      " |  __lt__(self, value, /)\n",
      " |      Return self<value.\n",
      " |  \n",
      " |  __mod__(self, value, /)\n",
      " |      Return self%value.\n",
      " |  \n",
      " |  __mul__(self, value, /)\n",
      " |      Return self*value.\n",
      " |  \n",
      " |  __ne__(self, value, /)\n",
      " |      Return self!=value.\n",
      " |  \n",
      " |  __neg__(self, /)\n",
      " |      -self\n",
      " |  \n",
      " |  __or__(self, value, /)\n",
      " |      Return self|value.\n",
      " |  \n",
      " |  __pos__(self, /)\n",
      " |      +self\n",
      " |  \n",
      " |  __pow__(self, value, mod=None, /)\n",
      " |      Return pow(self, value, mod).\n",
      " |  \n",
      " |  __radd__(self, value, /)\n",
      " |      Return value+self.\n",
      " |  \n",
      " |  __rand__(self, value, /)\n",
      " |      Return value&self.\n",
      " |  \n",
      " |  __rdivmod__(self, value, /)\n",
      " |      Return divmod(value, self).\n",
      " |  \n",
      " |  __repr__(self, /)\n",
      " |      Return repr(self).\n",
      " |  \n",
      " |  __rfloordiv__(self, value, /)\n",
      " |      Return value//self.\n",
      " |  \n",
      " |  __rlshift__(self, value, /)\n",
      " |      Return value<<self.\n",
      " |  \n",
      " |  __rmod__(self, value, /)\n",
      " |      Return value%self.\n",
      " |  \n",
      " |  __rmul__(self, value, /)\n",
      " |      Return value*self.\n",
      " |  \n",
      " |  __ror__(self, value, /)\n",
      " |      Return value|self.\n",
      " |  \n",
      " |  __round__(...)\n",
      " |      Rounding an Integral returns itself.\n",
      " |      Rounding with an ndigits argument also returns an integer.\n",
      " |  \n",
      " |  __rpow__(self, value, mod=None, /)\n",
      " |      Return pow(value, self, mod).\n",
      " |  \n",
      " |  __rrshift__(self, value, /)\n",
      " |      Return value>>self.\n",
      " |  \n",
      " |  __rshift__(self, value, /)\n",
      " |      Return self>>value.\n",
      " |  \n",
      " |  __rsub__(self, value, /)\n",
      " |      Return value-self.\n",
      " |  \n",
      " |  __rtruediv__(self, value, /)\n",
      " |      Return value/self.\n",
      " |  \n",
      " |  __rxor__(self, value, /)\n",
      " |      Return value^self.\n",
      " |  \n",
      " |  __sizeof__(self, /)\n",
      " |      Returns size in memory, in bytes.\n",
      " |  \n",
      " |  __sub__(self, value, /)\n",
      " |      Return self-value.\n",
      " |  \n",
      " |  __truediv__(self, value, /)\n",
      " |      Return self/value.\n",
      " |  \n",
      " |  __trunc__(...)\n",
      " |      Truncating an Integral returns itself.\n",
      " |  \n",
      " |  __xor__(self, value, /)\n",
      " |      Return self^value.\n",
      " |  \n",
      " |  as_integer_ratio(self, /)\n",
      " |      Return integer ratio.\n",
      " |      \n",
      " |      Return a pair of integers, whose ratio is exactly equal to the original int\n",
      " |      and with a positive denominator.\n",
      " |      \n",
      " |      >>> (10).as_integer_ratio()\n",
      " |      (10, 1)\n",
      " |      >>> (-10).as_integer_ratio()\n",
      " |      (-10, 1)\n",
      " |      >>> (0).as_integer_ratio()\n",
      " |      (0, 1)\n",
      " |  \n",
      " |  bit_length(self, /)\n",
      " |      Number of bits necessary to represent self in binary.\n",
      " |      \n",
      " |      >>> bin(37)\n",
      " |      '0b100101'\n",
      " |      >>> (37).bit_length()\n",
      " |      6\n",
      " |  \n",
      " |  conjugate(...)\n",
      " |      Returns self, the complex conjugate of any int.\n",
      " |  \n",
      " |  to_bytes(self, /, length, byteorder, *, signed=False)\n",
      " |      Return an array of bytes representing an integer.\n",
      " |      \n",
      " |      length\n",
      " |        Length of bytes object to use.  An OverflowError is raised if the\n",
      " |        integer is not representable with the given number of bytes.\n",
      " |      byteorder\n",
      " |        The byte order used to represent the integer.  If byteorder is 'big',\n",
      " |        the most significant byte is at the beginning of the byte array.  If\n",
      " |        byteorder is 'little', the most significant byte is at the end of the\n",
      " |        byte array.  To request the native byte order of the host system, use\n",
      " |        `sys.byteorder' as the byte order value.\n",
      " |      signed\n",
      " |        Determines whether two's complement is used to represent the integer.\n",
      " |        If signed is False and a negative integer is given, an OverflowError\n",
      " |        is raised.\n",
      " |  \n",
      " |  ----------------------------------------------------------------------\n",
      " |  Class methods defined here:\n",
      " |  \n",
      " |  from_bytes(bytes, byteorder, *, signed=False) from builtins.type\n",
      " |      Return the integer represented by the given array of bytes.\n",
      " |      \n",
      " |      bytes\n",
      " |        Holds the array of bytes to convert.  The argument must either\n",
      " |        support the buffer protocol or be an iterable object producing bytes.\n",
      " |        Bytes and bytearray are examples of built-in objects that support the\n",
      " |        buffer protocol.\n",
      " |      byteorder\n",
      " |        The byte order used to represent the integer.  If byteorder is 'big',\n",
      " |        the most significant byte is at the beginning of the byte array.  If\n",
      " |        byteorder is 'little', the most significant byte is at the end of the\n",
      " |        byte array.  To request the native byte order of the host system, use\n",
      " |        `sys.byteorder' as the byte order value.\n",
      " |      signed\n",
      " |        Indicates whether two's complement is used to represent the integer.\n",
      " |  \n",
      " |  ----------------------------------------------------------------------\n",
      " |  Static methods defined here:\n",
      " |  \n",
      " |  __new__(*args, **kwargs) from builtins.type\n",
      " |      Create and return a new object.  See help(type) for accurate signature.\n",
      " |  \n",
      " |  ----------------------------------------------------------------------\n",
      " |  Data descriptors defined here:\n",
      " |  \n",
      " |  denominator\n",
      " |      the denominator of a rational number in lowest terms\n",
      " |  \n",
      " |  imag\n",
      " |      the imaginary part of a complex number\n",
      " |  \n",
      " |  numerator\n",
      " |      the numerator of a rational number in lowest terms\n",
      " |  \n",
      " |  real\n",
      " |      the real part of a complex number\n",
      "\n"
     ]
    }
   ],
   "source": [
    "x = 4 \n",
    "help(x)"
   ]
  },
  {
   "cell_type": "markdown",
   "metadata": {},
   "source": [
    "[Aquí](https://docs.python.org/3/library/functions.html) podéis ver la lista de funciones predefinidas (built-in functions) de Python. "
   ]
  },
  {
   "cell_type": "markdown",
   "metadata": {},
   "source": [
    "### Errores \n",
    "Si algo falla sale un error que suele ir acompañado de una explicación y la linea donde está el error. Esto simplifica el *debugging*."
   ]
  },
  {
   "cell_type": "code",
   "execution_count": 7,
   "metadata": {},
   "outputs": [
    {
     "ename": "NameError",
     "evalue": "name 'pritn' is not defined",
     "output_type": "error",
     "traceback": [
      "\u001b[0;31m---------------------------------------------------------------------------\u001b[0m",
      "\u001b[0;31mNameError\u001b[0m                                 Traceback (most recent call last)",
      "\u001b[0;32m/var/folders/8n/8gxx65_52xq17qlkhphqy2hm0000gn/T/ipykernel_41861/2667563171.py\u001b[0m in \u001b[0;36m<module>\u001b[0;34m\u001b[0m\n\u001b[1;32m      1\u001b[0m \u001b[0ma\u001b[0m \u001b[0;34m=\u001b[0m \u001b[0;36m2\u001b[0m \u001b[0;34m*\u001b[0m \u001b[0;36m3\u001b[0m\u001b[0;34m\u001b[0m\u001b[0;34m\u001b[0m\u001b[0m\n\u001b[0;32m----> 2\u001b[0;31m \u001b[0mpritn\u001b[0m\u001b[0;34m(\u001b[0m\u001b[0ma\u001b[0m\u001b[0;34m)\u001b[0m \u001b[0;31m# Suma de dos numeros\u001b[0m\u001b[0;34m\u001b[0m\u001b[0;34m\u001b[0m\u001b[0m\n\u001b[0m",
      "\u001b[0;31mNameError\u001b[0m: name 'pritn' is not defined"
     ]
    }
   ],
   "source": [
    "a = 2 * 3\n",
    "print(a) # Suma de dos numeros"
   ]
  },
  {
   "cell_type": "code",
   "execution_count": 8,
   "metadata": {},
   "outputs": [
    {
     "ename": "ZeroDivisionError",
     "evalue": "division by zero",
     "output_type": "error",
     "traceback": [
      "\u001b[0;31m---------------------------------------------------------------------------\u001b[0m",
      "\u001b[0;31mZeroDivisionError\u001b[0m                         Traceback (most recent call last)",
      "\u001b[0;32m/var/folders/8n/8gxx65_52xq17qlkhphqy2hm0000gn/T/ipykernel_41861/298062233.py\u001b[0m in \u001b[0;36m<module>\u001b[0;34m\u001b[0m\n\u001b[1;32m      1\u001b[0m \u001b[0mb\u001b[0m \u001b[0;34m=\u001b[0m \u001b[0;36m12\u001b[0m\u001b[0;34m\u001b[0m\u001b[0;34m\u001b[0m\u001b[0m\n\u001b[1;32m      2\u001b[0m \u001b[0ma\u001b[0m \u001b[0;34m=\u001b[0m \u001b[0mb\u001b[0m \u001b[0;34m*\u001b[0m \u001b[0;36m2\u001b[0m\u001b[0;34m\u001b[0m\u001b[0;34m\u001b[0m\u001b[0m\n\u001b[0;32m----> 3\u001b[0;31m \u001b[0ma\u001b[0m \u001b[0;34m/\u001b[0m \u001b[0;36m0\u001b[0m\u001b[0;34m\u001b[0m\u001b[0;34m\u001b[0m\u001b[0m\n\u001b[0m",
      "\u001b[0;31mZeroDivisionError\u001b[0m: division by zero"
     ]
    }
   ],
   "source": [
    "b = 12\n",
    "a = b * 2\n",
    "a / 0"
   ]
  },
  {
   "cell_type": "markdown",
   "metadata": {},
   "source": [
    "# 2. Data types\n",
    "Hay distintas estructuras para guardar datos en **Pyhton**. Aquí vemos las más comunes: "
   ]
  },
  {
   "cell_type": "markdown",
   "metadata": {},
   "source": [
    "## 2.1 Tipos numéricos\n",
    "Tipos númericos hay **enteros**, **floats** (o reales de doble precisión) y **complejos**. En este caso podemos hacer operaciones matemáticas básicas:"
   ]
  },
  {
   "cell_type": "code",
   "execution_count": 9,
   "metadata": {},
   "outputs": [
    {
     "data": {
      "text/plain": [
       "(float, float, complex)"
      ]
     },
     "execution_count": 9,
     "metadata": {},
     "output_type": "execute_result"
    }
   ],
   "source": [
    "# Tenemos enteros, reales y complejos\n",
    "x = 1\n",
    "y = 2.3\n",
    "z = complex(2, 3)\n",
    "# detecta tipo automáticamente\n",
    "type(x), type(y), type(z)"
   ]
  },
  {
   "cell_type": "code",
   "execution_count": 106,
   "metadata": {},
   "outputs": [
    {
     "name": "stdout",
     "output_type": "stream",
     "text": [
      "3.3\n",
      "0.4347826086956522\n",
      "2.3\n",
      "5.289999999999999\n",
      "(4+6j)\n"
     ]
    }
   ],
   "source": [
    "print(x + y)\n",
    "# dividr / multplicar * exponente **, con print escribimos\n",
    "print(x / y)\n",
    "print(y * x)\n",
    "print(y ** 2)\n"
   ]
  },
  {
   "cell_type": "code",
   "execution_count": 107,
   "metadata": {},
   "outputs": [
    {
     "name": "stdout",
     "output_type": "stream",
     "text": [
      "x es 1.0 y tipo <class 'float'>\n",
      "y es 2 y tipo <class 'int'>\n"
     ]
    }
   ],
   "source": [
    "# podemos pasar de entero a real y al revés\n",
    "print('x es {} y tipo {}'.format(float(x), type(float(x))))\n",
    "print('y es {} y tipo {}'.format(int(y), type(int(y))))"
   ]
  },
  {
   "cell_type": "markdown",
   "metadata": {},
   "source": [
    "## 2.2 Strings \n",
    "Las strings son variables de texto, útiles para cabeceras, análisis de texto, etc. Y se escriben entre comillas, simples o dobles. "
   ]
  },
  {
   "cell_type": "code",
   "execution_count": 108,
   "metadata": {},
   "outputs": [],
   "source": [
    "z = 'Santander'"
   ]
  },
  {
   "cell_type": "markdown",
   "metadata": {},
   "source": [
    "Pero no operan como las variables númericas:"
   ]
  },
  {
   "cell_type": "code",
   "execution_count": 109,
   "metadata": {},
   "outputs": [
    {
     "name": "stdout",
     "output_type": "stream",
     "text": [
      "SantanderSantander\n"
     ]
    }
   ],
   "source": [
    "print(2 * z)"
   ]
  },
  {
   "cell_type": "code",
   "execution_count": 110,
   "metadata": {},
   "outputs": [
    {
     "name": "stdout",
     "output_type": "stream",
     "text": [
      "S\n"
     ]
    }
   ],
   "source": [
    "# podemos acceder a cada uno de los carácteres\n",
    "print(z[0])"
   ]
  },
  {
   "cell_type": "markdown",
   "metadata": {},
   "source": [
    "También podemos tener frases y tenemos distintos métodos para tratarlas. Lo que será útil para NLP"
   ]
  },
  {
   "cell_type": "code",
   "execution_count": 111,
   "metadata": {},
   "outputs": [],
   "source": [
    "text = 'En Santander hay mar.'"
   ]
  },
  {
   "cell_type": "code",
   "execution_count": 112,
   "metadata": {},
   "outputs": [
    {
     "data": {
      "text/plain": [
       "['En', 'Santander', 'hay', 'mar.']"
      ]
     },
     "execution_count": 112,
     "metadata": {},
     "output_type": "execute_result"
    }
   ],
   "source": [
    "text.split()"
   ]
  },
  {
   "cell_type": "code",
   "execution_count": 113,
   "metadata": {},
   "outputs": [
    {
     "data": {
      "text/plain": [
       "'En Torrelavega hay mar. ;-)'"
      ]
     },
     "execution_count": 113,
     "metadata": {},
     "output_type": "execute_result"
    }
   ],
   "source": [
    "text.replace('Santander', 'Torrelavega') + \" ;-)\"\n"
   ]
  },
  {
   "cell_type": "markdown",
   "metadata": {},
   "source": [
    "Podéis ver todos los métodos de la clase *string* [aquí](https://www.w3schools.com/python/python_ref_string.asp)."
   ]
  },
  {
   "cell_type": "markdown",
   "metadata": {},
   "source": [
    "## 2.3 Variables lógicas\n",
    "Las variables lógicas tienen valores **True** o **False**, muy útiles cuando establecemos condiciones:"
   ]
  },
  {
   "cell_type": "code",
   "execution_count": 114,
   "metadata": {},
   "outputs": [
    {
     "name": "stdout",
     "output_type": "stream",
     "text": [
      "True\n",
      "False\n"
     ]
    }
   ],
   "source": [
    "# variables lógicas\n",
    "x = 3\n",
    "\n",
    "y = 4 > x\n",
    "print(y)\n",
    "\n",
    "z = 1.5 > x\n",
    "print(z)\n",
    "\n",
    "# y, z son variables lógicas, que serán útiles para establecer condiciones"
   ]
  },
  {
   "cell_type": "markdown",
   "metadata": {},
   "source": [
    "## 2.4 Listas\n",
    "\n",
    "Las listas son una estrucutras **heterogéneas**, **ordenadas** y **mutables** (se pueden cambiar sus valores). Los elementos están indexados dels el 0 a N-1. \n"
   ]
  },
  {
   "cell_type": "code",
   "execution_count": 13,
   "metadata": {},
   "outputs": [
    {
     "name": "stdout",
     "output_type": "stream",
     "text": [
      "<class 'list'>\n"
     ]
    }
   ],
   "source": [
    "# las listas se escriben entre corchetes\n",
    "\n",
    "lista = []  # lista vacía\n",
    "\n",
    "print(type(lista))"
   ]
  },
  {
   "cell_type": "code",
   "execution_count": 14,
   "metadata": {},
   "outputs": [
    {
     "name": "stdout",
     "output_type": "stream",
     "text": [
      "[4, 2, 3]\n",
      "<class 'list'>\n"
     ]
    }
   ],
   "source": [
    "l = [4, 2, 3] # lista con valores\n",
    "print(l)\n",
    "print(type(l))"
   ]
  },
  {
   "cell_type": "markdown",
   "metadata": {},
   "source": [
    "Las listas son estructuras **heterogéneas**, es decir, que pueden contener valores de distintos tipos:"
   ]
  },
  {
   "cell_type": "code",
   "execution_count": 15,
   "metadata": {},
   "outputs": [
    {
     "name": "stdout",
     "output_type": "stream",
     "text": [
      "The list is:\n",
      "\t[1, 1, 3.5, 'algun string', [None, 4]]\n"
     ]
    }
   ],
   "source": [
    "a_list = [1, 1, 3.5, \"algun string\", [None, 4]] # lista hereogenea ser heterogeneas \n",
    "\n",
    "print(\"The list is:\\n\\t{}\".format(a_list))"
   ]
  },
  {
   "cell_type": "markdown",
   "metadata": {},
   "source": [
    "Las listas son estructuras **ordenadas** es decir que podemos acceder a un elemento por su posición. En **Python** la primera posición de cualquier estructura ordenada siempre es la 0. "
   ]
  },
  {
   "cell_type": "code",
   "execution_count": 16,
   "metadata": {},
   "outputs": [
    {
     "name": "stdout",
     "output_type": "stream",
     "text": [
      "lista entera [1, 1, 3.5, 'algun string', [None, 4]]\n",
      "primer elemento es -->  1\n",
      "cuarto elemento es -->  algun string\n",
      "último elemento es -->  [None, 4]\n"
     ]
    }
   ],
   "source": [
    "print('lista entera', a_list)\n",
    "print('primer elemento es --> ',a_list[0])\n",
    "print('cuarto elemento es --> ', a_list[3])\n",
    "print('último elemento es --> ', a_list[-1])  # con -1 accedemos al último elemento (N-1)"
   ]
  },
  {
   "cell_type": "code",
   "execution_count": 17,
   "metadata": {},
   "outputs": [
    {
     "data": {
      "text/plain": [
       "False"
      ]
     },
     "execution_count": 17,
     "metadata": {},
     "output_type": "execute_result"
    }
   ],
   "source": [
    "b_list = [1, 'algun string', 3.5, 1, [None, 4]]\n",
    "b_list is a_list   # equivalente b_list == a_list"
   ]
  },
  {
   "cell_type": "markdown",
   "metadata": {},
   "source": [
    "Una lista es una estructura **mutable**, es decir que su contenido se puede cambiar. Para eso hay varios métodos implementados para listas. Por ejemplo, podemos añadir elementos de una lista al final con `append`, en cualquier posición con `insert`. "
   ]
  },
  {
   "cell_type": "code",
   "execution_count": 18,
   "metadata": {},
   "outputs": [
    {
     "name": "stdout",
     "output_type": "stream",
     "text": [
      "After appending 'casa':\n",
      "\t[1, 1, 3.5, 'algun string', [None, 4], 'casa']\n"
     ]
    }
   ],
   "source": [
    "# Añadirmos un valor al final de la lista\n",
    "a_list.append('casa')\n",
    "print(\"After appending 'casa':\\n\\t{}\".format(a_list))"
   ]
  },
  {
   "cell_type": "markdown",
   "metadata": {},
   "source": [
    "También podemos eliminar elemento de una lista con `remove`. "
   ]
  },
  {
   "cell_type": "code",
   "execution_count": 19,
   "metadata": {},
   "outputs": [
    {
     "name": "stdout",
     "output_type": "stream",
     "text": [
      "After removing 'algun string':\n",
      "\t[1, 1, 3.5, [None, 4], 'casa']\n"
     ]
    }
   ],
   "source": [
    "# Eliminem el elemento \"algun string\"\n",
    "a_list.remove(\"algun string\")\n",
    "print(\"After removing 'algun string':\\n\\t{}\".format(a_list))"
   ]
  },
  {
   "cell_type": "markdown",
   "metadata": {},
   "source": [
    "Podéis ver todos los métodos para listas [aquí](https://docs.python.org/3/tutorial/datastructures.html#more-on-lists) o bien escribe el nombre de dicha variable seguida de un `.` y usa el tabulador. ¿Qué métodos aparecen en cada caso?"
   ]
  },
  {
   "cell_type": "code",
   "execution_count": 11,
   "metadata": {},
   "outputs": [
    {
     "ename": "SyntaxError",
     "evalue": "invalid syntax (563970765.py, line 1)",
     "output_type": "error",
     "traceback": [
      "\u001b[0;36m  File \u001b[0;32m\"/var/folders/8n/8gxx65_52xq17qlkhphqy2hm0000gn/T/ipykernel_41861/563970765.py\"\u001b[0;36m, line \u001b[0;32m1\u001b[0m\n\u001b[0;31m    a_list.\u001b[0m\n\u001b[0m           ^\u001b[0m\n\u001b[0;31mSyntaxError\u001b[0m\u001b[0;31m:\u001b[0m invalid syntax\n"
     ]
    }
   ],
   "source": [
    "a_list."
   ]
  },
  {
   "cell_type": "markdown",
   "metadata": {},
   "source": [
    "## Slicing --> Podemos acceder a trozos de una lista "
   ]
  },
  {
   "cell_type": "code",
   "execution_count": 21,
   "metadata": {},
   "outputs": [
    {
     "name": "stdout",
     "output_type": "stream",
     "text": [
      "['madrid', 'barcelona', 'santander']\n",
      "['santander', 'bilbao']\n",
      "['santander', 'bilbao', 'valencia']\n"
     ]
    }
   ],
   "source": [
    "# List slicing\n",
    "lista = ['madrid', 'barcelona', 'santander', 'bilbao', 'valencia']\n",
    "print(lista[0:3]) # también se puede poner como lista[:3] \n",
    "print(lista[2:4])\n",
    "print(lista[2:])"
   ]
  },
  {
   "cell_type": "markdown",
   "metadata": {},
   "source": [
    "## 2.5 Tuplas\n",
    "Las tuplas son agrupaciones **ordenadas** de elementos, **hetereogeneas** pero son **immutables**. No podemos modificar sus elementos, ni eliminar ni añadir. Son más eficientes computacionalmente (iteraciones más rápidas, consumen menos memoria y menos suscepitble a errores) pero es poco flexible para operar y tiene pocas métodos asociados. "
   ]
  },
  {
   "cell_type": "code",
   "execution_count": 26,
   "metadata": {},
   "outputs": [
    {
     "name": "stdout",
     "output_type": "stream",
     "text": [
      "The tuple is:\n",
      "\t(1, 1, 3.5, 'algun string', [None, 4])\n"
     ]
    }
   ],
   "source": [
    "# Se define usando paréntesis \n",
    "a_tuple = ()\n",
    "a_tuple = (1, 1, 3.5, \"algun string\", [None, 4])\n",
    "print(\"The tuple is:\\n\\t{}\".format(a_tuple))\n"
   ]
  },
  {
   "cell_type": "code",
   "execution_count": 23,
   "metadata": {},
   "outputs": [
    {
     "name": "stdout",
     "output_type": "stream",
     "text": [
      "La tupla es:\n",
      "\t(1, 1, 3.5, 'algun string', [None, 4])\n",
      "Son iguales?:\n",
      "\tTrue\n"
     ]
    }
   ],
   "source": [
    "# También se pueden omitir los paréntesis pero es menos usual\n",
    "the_same_tuple = 1, 1, 3.5, \"algun string\", [None, 4]\n",
    "\n",
    "print(\"La tupla es:\\n\\t{}\".format(the_same_tuple))\n",
    "print(\"Son iguales?:\\n\\t{}\".format(a_tuple == the_same_tuple))"
   ]
  },
  {
   "cell_type": "markdown",
   "metadata": {},
   "source": [
    "Son **ordenadas**, podemos acceder por la posición, y dos tuplas con los mismo elementos en orden distintos no son iguales"
   ]
  },
  {
   "cell_type": "code",
   "execution_count": 24,
   "metadata": {},
   "outputs": [
    {
     "name": "stdout",
     "output_type": "stream",
     "text": [
      "First element is:\n",
      "\t1\n",
      "Second and third elements are:\n",
      "\t(1, 3.5)\n",
      "The last element is:\n",
      "\t[None, 4]\n"
     ]
    }
   ],
   "source": [
    "# accedemos con los mismos indices:\n",
    "print(\"First element is:\\n\\t{}\".format(a_tuple[0]))\n",
    "print(\"Second and third elements are:\\n\\t{}\".format(a_tuple[1:3]))\n",
    "print(\"The last element is:\\n\\t{}\".format(a_tuple[-1]))"
   ]
  },
  {
   "cell_type": "markdown",
   "metadata": {},
   "source": [
    "Son **inmutables**, no se puede modificar"
   ]
  },
  {
   "cell_type": "code",
   "execution_count": 25,
   "metadata": {},
   "outputs": [
    {
     "ename": "TypeError",
     "evalue": "'tuple' object does not support item assignment",
     "output_type": "error",
     "traceback": [
      "\u001b[0;31m---------------------------------------------------------------------------\u001b[0m",
      "\u001b[0;31mTypeError\u001b[0m                                 Traceback (most recent call last)",
      "\u001b[0;32m/var/folders/8n/8gxx65_52xq17qlkhphqy2hm0000gn/T/ipykernel_41861/2824042743.py\u001b[0m in \u001b[0;36m<module>\u001b[0;34m\u001b[0m\n\u001b[1;32m      1\u001b[0m \u001b[0;31m# pero no podemos cambiar la tupla. No podemos añadir, quitar o modificar elementos:\u001b[0m\u001b[0;34m\u001b[0m\u001b[0;34m\u001b[0m\u001b[0;34m\u001b[0m\u001b[0m\n\u001b[0;32m----> 2\u001b[0;31m \u001b[0ma_tuple\u001b[0m\u001b[0;34m[\u001b[0m\u001b[0;36m0\u001b[0m\u001b[0;34m]\u001b[0m \u001b[0;34m=\u001b[0m \u001b[0;36m2\u001b[0m\u001b[0;34m\u001b[0m\u001b[0;34m\u001b[0m\u001b[0m\n\u001b[0m",
      "\u001b[0;31mTypeError\u001b[0m: 'tuple' object does not support item assignment"
     ]
    }
   ],
   "source": [
    "# pero no podemos cambiar la tupla. No podemos añadir, quitar o modificar elementos:\n",
    "a_tuple[0] = 2 "
   ]
  },
  {
   "cell_type": "code",
   "execution_count": null,
   "metadata": {},
   "outputs": [],
   "source": [
    "a_tuple."
   ]
  },
  {
   "cell_type": "markdown",
   "metadata": {},
   "source": [
    "## 2.6 Diccionarios\n",
    "Los diccionarios en Python son colecciones **heterogeneas**, **sin orden**, **mutables** y **sin elementos duplicados**. \n",
    "\n",
    "Son colecciones con parejas valor-clave. Las claves solo pueden aparecer una única vez y tienen un valor asociado. Son mutables con sus correspondientes operaciones básicas ya implementadas. Son muy útiles para guardar datos y se usan en muchos formatos, ej. `json`.\n"
   ]
  },
  {
   "cell_type": "code",
   "execution_count": 27,
   "metadata": {},
   "outputs": [
    {
     "data": {
      "text/plain": [
       "{'a': 1, 'b': 1, 'c': 2}"
      ]
     },
     "execution_count": 27,
     "metadata": {},
     "output_type": "execute_result"
    }
   ],
   "source": [
    "# se definen con llaves {}\n",
    "# Creamos un diccionario\n",
    "dict_0 = {\"a\": 1, \"b\": 1, \"c\": 2}\n",
    "dict_0"
   ]
  },
  {
   "cell_type": "markdown",
   "metadata": {},
   "source": [
    "pueden ser **heterogeneos**"
   ]
  },
  {
   "cell_type": "code",
   "execution_count": 28,
   "metadata": {},
   "outputs": [
    {
     "data": {
      "text/plain": [
       "{'a': 3.4, 'b': 'barca', 'c': [2, 3, -12]}"
      ]
     },
     "execution_count": 28,
     "metadata": {},
     "output_type": "execute_result"
    }
   ],
   "source": [
    "dict_0 = {\"a\" : 3.4, \"b\" : \"barca\", \"c\" : [2, 3, -12]}\n",
    "dict_0"
   ]
  },
  {
   "cell_type": "markdown",
   "metadata": {},
   "source": [
    "**No importa el orden**, accedemos a ellos no mediante posición, si no mediante el nombre de la clave:"
   ]
  },
  {
   "cell_type": "code",
   "execution_count": 29,
   "metadata": {},
   "outputs": [
    {
     "name": "stdout",
     "output_type": "stream",
     "text": [
      "True\n"
     ]
    }
   ],
   "source": [
    "\n",
    "# los diccionarios no tienen orden\n",
    "dict_1 = {\"a\": 0, \"b\": 1, \"c\": 2}\n",
    "dict_2 = {\"b\": 1, \"a\": 0, \"c\": 2}\n",
    "# dict_1 y dict_2 son iguales\n",
    "print(dict_1 == dict_2)"
   ]
  },
  {
   "cell_type": "markdown",
   "metadata": {},
   "source": [
    "Son **mutables** por lo que podemos añadir y eliminar elementos. "
   ]
  },
  {
   "cell_type": "code",
   "execution_count": 66,
   "metadata": {},
   "outputs": [
    {
     "name": "stdout",
     "output_type": "stream",
     "text": [
      "After adding d, dict_0 is:\n",
      "\t{'a': 2, 'b': 1, 'd': 40}\n"
     ]
    }
   ],
   "source": [
    "# Añadimos elemento con llave d y valor 40\n",
    "dict_0[\"d\"] = 40\n",
    "print(\"After adding d, dict_0 is:\\n\\t{}\".format(dict_0))"
   ]
  },
  {
   "cell_type": "code",
   "execution_count": 67,
   "metadata": {},
   "outputs": [
    {
     "name": "stdout",
     "output_type": "stream",
     "text": [
      "After updating a, dict_0 is:\n",
      "\t{'a': -5, 'b': 1, 'd': 40}\n"
     ]
    }
   ],
   "source": [
    "# Actualizamos uno de los elementos ya definimos:\n",
    "dict_0['a'] = -5\n",
    "print(\"After updating a, dict_0 is:\\n\\t{}\".format(dict_0))"
   ]
  },
  {
   "cell_type": "markdown",
   "metadata": {},
   "source": [
    "Podemos recuperar todas las claves de un diccionario con `keys`, los valores con `values`y ambos con `items`:"
   ]
  },
  {
   "cell_type": "code",
   "execution_count": 30,
   "metadata": {},
   "outputs": [
    {
     "name": "stdout",
     "output_type": "stream",
     "text": [
      "dict_0 keys are:\n",
      "\tdict_keys(['a', 'b', 'c'])\n",
      "dict_0 values are:\n",
      "\tdict_values([3.4, 'barca', [2, 3, -12]])\n",
      "dict_0 items are:\n",
      "\tdict_items([('a', 3.4), ('b', 'barca'), ('c', [2, 3, -12])])\n"
     ]
    }
   ],
   "source": [
    "print(\"dict_0 keys are:\\n\\t{}\".format(dict_0.keys()))\n",
    "\n",
    "print(\"dict_0 values are:\\n\\t{}\".format(dict_0.values()))\n",
    "\n",
    "print(\"dict_0 items are:\\n\\t{}\".format(dict_0.items()))"
   ]
  },
  {
   "cell_type": "code",
   "execution_count": null,
   "metadata": {},
   "outputs": [],
   "source": [
    "dict_0."
   ]
  },
  {
   "cell_type": "markdown",
   "metadata": {},
   "source": [
    "Para ver en detalle todos los métodos implementados para diccionarios podéis verlo [aquí](https://docs.python.org/3.8/library/stdtypes.html#dict).\n",
    "\n",
    "Aquí hemos visto los tipos típicos de python. Luego hay paquetes que tienen sus propios tipos como por ejemplo vectores (o arrays) en **NumPy**, dataframes en **Pandas**."
   ]
  },
  {
   "cell_type": "markdown",
   "metadata": {},
   "source": [
    "# 3. Ejercicios para practicar\n",
    "Os dejamos aquí unos cuantos ejercicios, se pueden hacer con lo que acabamos de ver y/o mirando los links que se dan en este notebook. \n"
   ]
  },
  {
   "cell_type": "markdown",
   "metadata": {},
   "source": [
    "**1.**- Tomamos los datos de temperatura del mes pasado de la AEMET.  Vas a hacer algunas pruebas pero no quieres que se modifique nada. ¿Qué estructura usarías para cargarlos? \n",
    "\n",
    "datos -->  6.4902453,\n",
    " 6.0602455,\n",
    " 5.5602455,\n",
    " 4.630245,\n",
    " 3.6602454,\n",
    " 3.8802452,\n",
    " 'nan',\n",
    " 3.6502452,\n",
    " 3.1102452,\n",
    " 2.7302456,\n",
    " 2.5102453,\n",
    " 2.4402454,\n",
    " 4.2502456,\n",
    " 6.5302453,\n",
    " 8.290245,\n",
    " 10.090245,\n",
    " 11.3102455,\n",
    " 12.100245,\n",
    " 10.530245,\n",
    " 'nan',\n",
    " 7.3002453\n",
    "\n",
    "Queremos operar con los datos y quitar los 'nan' numbers. ¿Qué procedimiento seguirías?"
   ]
  },
  {
   "cell_type": "code",
   "execution_count": 4,
   "metadata": {},
   "outputs": [
    {
     "data": {
      "text/plain": [
       "[6.4902453,\n",
       " 6.0602455,\n",
       " 5.5602455,\n",
       " 4.630245,\n",
       " 3.6602454,\n",
       " 3.8802452,\n",
       " 3.6502452,\n",
       " 3.1102452,\n",
       " 2.7302456,\n",
       " 2.5102453,\n",
       " 2.4402454,\n",
       " 4.2502456,\n",
       " 6.5302453,\n",
       " 8.290245,\n",
       " 10.090245,\n",
       " 11.3102455,\n",
       " 12.100245,\n",
       " 10.530245,\n",
       " 7.3002453]"
      ]
     },
     "execution_count": 4,
     "metadata": {},
     "output_type": "execute_result"
    }
   ],
   "source": [
    "# escribe el código\n",
    "\n",
    "# Propuesta de solución\n",
    "# Guardaría los datos en una tupla\n",
    "datos = (6.4902453,\n",
    " 6.0602455,\n",
    " 5.5602455,\n",
    " 4.630245,\n",
    " 3.6602454,\n",
    " 3.8802452,\n",
    " 'nan',\n",
    " 3.6502452,\n",
    " 3.1102452,\n",
    " 2.7302456,\n",
    " 2.5102453,\n",
    " 2.4402454,\n",
    " 4.2502456,\n",
    " 6.5302453,\n",
    " 8.290245,\n",
    " 10.090245,\n",
    " 11.3102455,\n",
    " 12.100245,\n",
    " 10.530245,\n",
    " 'nan',\n",
    " 7.3002453) \n",
    "\n",
    "# Al modificarlos generaría una lista\n",
    "\n",
    "datos_mod = list(datos)\n",
    "while 'nan' in datos_mod:\n",
    "    datos_mod.remove('nan')\n",
    "datos_mod"
   ]
  },
  {
   "cell_type": "markdown",
   "metadata": {},
   "source": [
    "**2.**- Escribe un diccionario con 5 ciudades y su número de habitantes. \n",
    "\n",
    "2.1 Añade dos ciudades más \n",
    "\n",
    "2.2 Muestra sólo las ciudades del diccionario. "
   ]
  },
  {
   "cell_type": "code",
   "execution_count": 34,
   "metadata": {},
   "outputs": [
    {
     "data": {
      "text/plain": [
       "dict_keys(['Madrid', 'Santander', 'Cartes', 'Torrelavega', 'Bilbao', 'Valencia', 'León'])"
      ]
     },
     "execution_count": 34,
     "metadata": {},
     "output_type": "execute_result"
    }
   ],
   "source": [
    "# Escribe código\n",
    "\n",
    "# Propuesta de solución\n",
    "\n",
    "ciudades={\"Madrid\": 4500000, \"Santander\": 450000, \"Cartes\": 8000, \"Torrelavega\": 50000, \"Bilbao\": 1500000}\n",
    "ciudades[\"Valencia\"] = 3000000\n",
    "ciudades[\"León\"] = 300000\n",
    "ciudades.keys() "
   ]
  },
  {
   "cell_type": "markdown",
   "metadata": {},
   "source": [
    "**3.**- Opera en la lista_1 para obtener lista_2\n"
   ]
  },
  {
   "cell_type": "code",
   "execution_count": 1,
   "metadata": {},
   "outputs": [
    {
     "name": "stdout",
     "output_type": "stream",
     "text": [
      "['Verde', 'Blanco', 'Negro']\n",
      "['Verde', 'Blanco', 'Negro']\n"
     ]
    }
   ],
   "source": [
    "\n",
    "lista_1 = ['Rojo', 'Verde', 'Blanco', 'Rosa', 'Amarillo']\n",
    "lista_2 = ['Verde', 'Blanco', 'Negro']\n",
    " \n",
    "# Propuesta solución 1\n",
    "lista_3 = []\n",
    "for item in lista_1:\n",
    "    if item in lista_2:\n",
    "        lista_3.append(item)\n",
    "        \n",
    "lista_3.append('Negro')\n",
    "print(lista_3)    \n",
    "\n",
    "lista_1 = ['Rojo', 'Verde', 'Blanco', 'Rosa', 'Amarillo']\n",
    "lista_2 = ['Verde', 'Blanco', 'Negro']\n",
    "\n",
    "\n",
    "# Propuesta solución 2\n",
    "lista1 = ['Rojo', 'Verde', 'Blanco', 'Rosa', 'Amarillo']\n",
    "lista2 = lista1[1:3]\n",
    "lista2.append('Negro')\n",
    "print(lista2)"
   ]
  },
  {
   "cell_type": "markdown",
   "metadata": {},
   "source": [
    "**4.** Tenéis una serie de información sobre distintas frutas y verduras, su precio, su calidad y su procedencia. Que estructura usarías para guardar esos datos? De tal manera que sea la más óptima para luego acceder a la información?\n",
    "\n",
    "Datos:\n",
    "\n",
    "  **Fruta, precio (€/kg), calidad, procedencia**\n",
    "\n",
    "    Naranjas, 1.12, normal, españa\n",
    "    Tomate pera, 1.5, baja, sudáfrica\n",
    "    Tomate ensalada, 2.9, alta, españa\n",
    "    Patata, 1.7, normal, españa\n",
    "    Anchoas, 8, alta, españa\n",
    "    \n",
    "Puede contestar con código que calidad tiene el tomate de ensalada"
   ]
  },
  {
   "cell_type": "code",
   "execution_count": null,
   "metadata": {},
   "outputs": [],
   "source": [
    "# lo mejor es diccionario de diccionarios"
   ]
  },
  {
   "cell_type": "markdown",
   "metadata": {},
   "source": [
    "**5.**- Une los siguientes diccionarios en uno, muestra las claves y los valores por separado (se concatena con `update`, pero busca en la documentación como hacerlo)"
   ]
  },
  {
   "cell_type": "code",
   "execution_count": 40,
   "metadata": {},
   "outputs": [
    {
     "name": "stdout",
     "output_type": "stream",
     "text": [
      "Claves después de añadir:\n",
      "\tdict_keys(['uno', 'dos', 'tres', 'cuatro', 'cinco', 'seis'])\n",
      "Claves después de añadir:\n",
      "\tdict_values([10, 20, 30, 40, 50, 60])\n"
     ]
    }
   ],
   "source": [
    "dic1 = {\"uno\" : 10, \"dos\" : 20}\n",
    "dic2 = {\"tres\" : 30, \"cuatro\" : 40}\n",
    "dic3 = {\"cinco\" : 50, \"seis\" : 60}\n",
    "\n",
    "# concatena el diccionario\n",
    "\n",
    "dic1 = {\"uno\" : 10, \"dos\" : 20}\n",
    "dic2 = {\"tres\" : 30, \"cuatro\" : 40}\n",
    "dic3 = {\"cinco\" : 50, \"seis\" : 60}\n",
    "\n",
    "\n",
    "\n",
    "dic1.update(dic2)\n",
    "dic1.update(dic3)\n",
    "print(\"Claves después de añadir:\\n\\t{}\".format(dic1.keys()))\n",
    "print(\"Claves después de añadir:\\n\\t{}\".format(dic1.values()))"
   ]
  },
  {
   "cell_type": "code",
   "execution_count": null,
   "metadata": {},
   "outputs": [],
   "source": []
  }
 ],
 "metadata": {
  "kernelspec": {
   "display_name": "Python 3 (ipykernel)",
   "language": "python",
   "name": "python3"
  },
  "language_info": {
   "codemirror_mode": {
    "name": "ipython",
    "version": 3
   },
   "file_extension": ".py",
   "mimetype": "text/x-python",
   "name": "python",
   "nbconvert_exporter": "python",
   "pygments_lexer": "ipython3",
   "version": "3.11.2"
  }
 },
 "nbformat": 4,
 "nbformat_minor": 2
}
